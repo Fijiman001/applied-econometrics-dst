{
 "cells": [
  {
   "cell_type": "markdown",
   "id": "dfc77c51-01c0-4027-9fb9-c46b76caae3a",
   "metadata": {},
   "source": [
    "# Webscrape AEMO data from nemweb\n",
    "\n",
    "M1 APPLIED ECONOMETRICS, Spring 2024\n",
    "\n",
    "Applied Econometrics - Master TSE 1 - 2023/2024\n",
    "\n",
    "> Exploring the Influence of Daylight Saving Time on CO2 Emissions \n",
    "> and Electricity Consumption in Australia's Electricity Grid\n",
    "\n",
    "LAST MODIFIED: 29/02/2024 \n",
    "\n",
    "LAST MODIFIED BY: Matthew Davis\n",
    "\n",
    "Script duration: multiple days!\n",
    "\n",
    "Disk storage requirement: 300GB\n",
    "\n",
    "Bandwidth: Fast download speed makes a big difference here. e.g. at 10MBi/s this script will take 2 days.\n",
    "\n",
    "Memory requirement: negligible. Any modern laptop/desktop will be sufficient.\n",
    "\n",
    "--------------------\n",
    "\n",
    "This script downloads data files from https://www.nemweb.com.au/REPORTS/ and https://www.nemweb.com.au/Data_Archive/Wholesale_Electricity/MMSDM/ .\n",
    "\n",
    "1. Crawl those pages to find a list of URLs for CSV and .zip files\n",
    "2. Filter that list. e.g. delete large files we don't need\n",
    "3. Download those files. (Suprisingly hard. The server is unreliable. Throttles us, gives corrupt files etc)\n",
    "\n",
    "Note that this playbook takes about 1 day to run, and produces about 140GB of data, even though the dataset we care about is only a few hundred MB. This is because AEMO mixes up the data we want with lots of data we don't want. It's quite difficult to map their SQL 'tables' to the original files on their website. For most tables we can guess which source files have the data. But for some (in particular, CO2 emissions intensity per generator) I can't find which particular file has that data. So we download them all, process them, then choose just the ones we want (we choose in the next script, not this playbook).  (Actually, we don't download all. We skip files we definitely know don't have the data we want, e.g. gas market data. But that still leaves a lot we're unsure about.)\n",
    "\n",
    "The code may seem more complex than you expected. That's because :\n",
    "\n",
    "* I want to do multiprocessing to speed it up. (Some laptops apparently can't handle multiprocessing. So if `use_multiprocessing=False` then we do a `for` loop instead.)\n",
    "* our downloads get throttled, so we need to sleep and retry\n",
    "* The whole thing takes so long that we want to be able to stop the kernel and restart, without the state ending up broken (e.g. writing the same data 1.5 times to and output file.)\n",
    "* Sometimes you can download 1000 files, and then file 1001 fails. I want to keep processing the remainder, gather up all the success/failures, and then compare them. So there's some try/catch stuff to handle that.\n",
    " \n",
    "When faced with a decision between making this code fast vs understandable, I tried to focus on understandable. (Except for multiprocessing)\n",
    "\n",
    "To run this on your laptop, you'll want to change `base_data_dir` to point to a directory with >140GB of space. It does not have to be inside this git repo.\n",
    "\n",
    "If you have been given a copy of files already downloaded, you can change `base_data_dir` such that `raw_files_path` points to the directory of already-downloaded files. Then this script will avoid re-downloading those files, and will only download new/missing/corrupt files. If you are marking this script based on whether it 'just runs', grab the hard drive with 140GB of already-downloaded stuff, and point the folder variables at that hard drive, then run. Alternatively, if you want to assess that this code 'just runs', set `max_files_per_page=2` to only download a small subset of files.\n",
    "\n",
    "There are many logs generated while running, to see what's happening. That's in `log_file`. (If this script printed them, it would be overwhelming and hard to scroll.)"
   ]
  },
  {
   "cell_type": "markdown",
   "id": "609abb78-d83d-4ed5-abc1-364c0252ebbd",
   "metadata": {},
   "source": [
    "## Imports\n",
    "\n",
    "If you don't have these libraries installed, run `pip install -r requirements.txt`."
   ]
  },
  {
   "cell_type": "code",
   "execution_count": 1,
   "id": "de2a2a92-0eee-42f9-bf4c-18a83fb7d104",
   "metadata": {
    "collapsed": true,
    "jupyter": {
     "outputs_hidden": true
    }
   },
   "outputs": [
    {
     "name": "stdout",
     "output_type": "stream",
     "text": [
      "Requirement already satisfied: beautifulsoup4 in ./venv/lib/python3.11/site-packages (from -r requirements.txt (line 1)) (4.12.3)\n",
      "Requirement already satisfied: requests in ./venv/lib/python3.11/site-packages (from -r requirements.txt (line 2)) (2.31.0)\n",
      "Requirement already satisfied: jupyterlab in ./venv/lib/python3.11/site-packages (from -r requirements.txt (line 3)) (4.1.2)\n",
      "Requirement already satisfied: ipywidgets in ./venv/lib/python3.11/site-packages (from -r requirements.txt (line 4)) (8.1.2)\n",
      "Requirement already satisfied: pandas in ./venv/lib/python3.11/site-packages (from -r requirements.txt (line 5)) (2.2.1)\n",
      "Requirement already satisfied: openpyxl in ./venv/lib/python3.11/site-packages (from -r requirements.txt (line 6)) (3.1.2)\n",
      "Requirement already satisfied: pyarrow in ./venv/lib/python3.11/site-packages (from -r requirements.txt (line 7)) (15.0.0)\n",
      "Requirement already satisfied: tqdm in ./venv/lib/python3.11/site-packages (from -r requirements.txt (line 8)) (4.66.2)\n",
      "Requirement already satisfied: polars in ./venv/lib/python3.11/site-packages (from -r requirements.txt (line 9)) (0.20.10)\n",
      "Requirement already satisfied: astral in ./venv/lib/python3.11/site-packages (from -r requirements.txt (line 10)) (3.2)\n",
      "Requirement already satisfied: soupsieve>1.2 in ./venv/lib/python3.11/site-packages (from beautifulsoup4->-r requirements.txt (line 1)) (2.5)\n",
      "Requirement already satisfied: charset-normalizer<4,>=2 in ./venv/lib/python3.11/site-packages (from requests->-r requirements.txt (line 2)) (3.3.2)\n",
      "Requirement already satisfied: idna<4,>=2.5 in ./venv/lib/python3.11/site-packages (from requests->-r requirements.txt (line 2)) (3.6)\n",
      "Requirement already satisfied: urllib3<3,>=1.21.1 in ./venv/lib/python3.11/site-packages (from requests->-r requirements.txt (line 2)) (2.2.1)\n",
      "Requirement already satisfied: certifi>=2017.4.17 in ./venv/lib/python3.11/site-packages (from requests->-r requirements.txt (line 2)) (2024.2.2)\n",
      "Requirement already satisfied: async-lru>=1.0.0 in ./venv/lib/python3.11/site-packages (from jupyterlab->-r requirements.txt (line 3)) (2.0.4)\n",
      "Requirement already satisfied: httpx>=0.25.0 in ./venv/lib/python3.11/site-packages (from jupyterlab->-r requirements.txt (line 3)) (0.27.0)\n",
      "Requirement already satisfied: ipykernel in ./venv/lib/python3.11/site-packages (from jupyterlab->-r requirements.txt (line 3)) (6.29.2)\n",
      "Requirement already satisfied: jinja2>=3.0.3 in ./venv/lib/python3.11/site-packages (from jupyterlab->-r requirements.txt (line 3)) (3.1.3)\n",
      "Requirement already satisfied: jupyter-core in ./venv/lib/python3.11/site-packages (from jupyterlab->-r requirements.txt (line 3)) (5.7.1)\n",
      "Requirement already satisfied: jupyter-lsp>=2.0.0 in ./venv/lib/python3.11/site-packages (from jupyterlab->-r requirements.txt (line 3)) (2.2.2)\n",
      "Requirement already satisfied: jupyter-server<3,>=2.4.0 in ./venv/lib/python3.11/site-packages (from jupyterlab->-r requirements.txt (line 3)) (2.12.5)\n",
      "Requirement already satisfied: jupyterlab-server<3,>=2.19.0 in ./venv/lib/python3.11/site-packages (from jupyterlab->-r requirements.txt (line 3)) (2.25.3)\n",
      "Requirement already satisfied: notebook-shim>=0.2 in ./venv/lib/python3.11/site-packages (from jupyterlab->-r requirements.txt (line 3)) (0.2.4)\n",
      "Requirement already satisfied: packaging in ./venv/lib/python3.11/site-packages (from jupyterlab->-r requirements.txt (line 3)) (23.2)\n",
      "Requirement already satisfied: tornado>=6.2.0 in ./venv/lib/python3.11/site-packages (from jupyterlab->-r requirements.txt (line 3)) (6.4)\n",
      "Requirement already satisfied: traitlets in ./venv/lib/python3.11/site-packages (from jupyterlab->-r requirements.txt (line 3)) (5.14.1)\n",
      "Requirement already satisfied: comm>=0.1.3 in ./venv/lib/python3.11/site-packages (from ipywidgets->-r requirements.txt (line 4)) (0.2.1)\n",
      "Requirement already satisfied: ipython>=6.1.0 in ./venv/lib/python3.11/site-packages (from ipywidgets->-r requirements.txt (line 4)) (8.22.1)\n",
      "Requirement already satisfied: widgetsnbextension~=4.0.10 in ./venv/lib/python3.11/site-packages (from ipywidgets->-r requirements.txt (line 4)) (4.0.10)\n",
      "Requirement already satisfied: jupyterlab-widgets~=3.0.10 in ./venv/lib/python3.11/site-packages (from ipywidgets->-r requirements.txt (line 4)) (3.0.10)\n",
      "Requirement already satisfied: numpy<2,>=1.23.2 in ./venv/lib/python3.11/site-packages (from pandas->-r requirements.txt (line 5)) (1.26.4)\n",
      "Requirement already satisfied: python-dateutil>=2.8.2 in ./venv/lib/python3.11/site-packages (from pandas->-r requirements.txt (line 5)) (2.8.2)\n",
      "Requirement already satisfied: pytz>=2020.1 in ./venv/lib/python3.11/site-packages (from pandas->-r requirements.txt (line 5)) (2024.1)\n",
      "Requirement already satisfied: tzdata>=2022.7 in ./venv/lib/python3.11/site-packages (from pandas->-r requirements.txt (line 5)) (2024.1)\n",
      "Requirement already satisfied: et-xmlfile in ./venv/lib/python3.11/site-packages (from openpyxl->-r requirements.txt (line 6)) (1.1.0)\n",
      "Requirement already satisfied: anyio in ./venv/lib/python3.11/site-packages (from httpx>=0.25.0->jupyterlab->-r requirements.txt (line 3)) (4.3.0)\n",
      "Requirement already satisfied: httpcore==1.* in ./venv/lib/python3.11/site-packages (from httpx>=0.25.0->jupyterlab->-r requirements.txt (line 3)) (1.0.4)\n",
      "Requirement already satisfied: sniffio in ./venv/lib/python3.11/site-packages (from httpx>=0.25.0->jupyterlab->-r requirements.txt (line 3)) (1.3.0)\n",
      "Requirement already satisfied: h11<0.15,>=0.13 in ./venv/lib/python3.11/site-packages (from httpcore==1.*->httpx>=0.25.0->jupyterlab->-r requirements.txt (line 3)) (0.14.0)\n",
      "Requirement already satisfied: decorator in ./venv/lib/python3.11/site-packages (from ipython>=6.1.0->ipywidgets->-r requirements.txt (line 4)) (5.1.1)\n",
      "Requirement already satisfied: jedi>=0.16 in ./venv/lib/python3.11/site-packages (from ipython>=6.1.0->ipywidgets->-r requirements.txt (line 4)) (0.19.1)\n",
      "Requirement already satisfied: matplotlib-inline in ./venv/lib/python3.11/site-packages (from ipython>=6.1.0->ipywidgets->-r requirements.txt (line 4)) (0.1.6)\n",
      "Requirement already satisfied: prompt-toolkit<3.1.0,>=3.0.41 in ./venv/lib/python3.11/site-packages (from ipython>=6.1.0->ipywidgets->-r requirements.txt (line 4)) (3.0.43)\n",
      "Requirement already satisfied: pygments>=2.4.0 in ./venv/lib/python3.11/site-packages (from ipython>=6.1.0->ipywidgets->-r requirements.txt (line 4)) (2.17.2)\n",
      "Requirement already satisfied: stack-data in ./venv/lib/python3.11/site-packages (from ipython>=6.1.0->ipywidgets->-r requirements.txt (line 4)) (0.6.3)\n",
      "Requirement already satisfied: pexpect>4.3 in ./venv/lib/python3.11/site-packages (from ipython>=6.1.0->ipywidgets->-r requirements.txt (line 4)) (4.9.0)\n",
      "Requirement already satisfied: MarkupSafe>=2.0 in ./venv/lib/python3.11/site-packages (from jinja2>=3.0.3->jupyterlab->-r requirements.txt (line 3)) (2.1.5)\n",
      "Requirement already satisfied: argon2-cffi in ./venv/lib/python3.11/site-packages (from jupyter-server<3,>=2.4.0->jupyterlab->-r requirements.txt (line 3)) (23.1.0)\n",
      "Requirement already satisfied: jupyter-client>=7.4.4 in ./venv/lib/python3.11/site-packages (from jupyter-server<3,>=2.4.0->jupyterlab->-r requirements.txt (line 3)) (8.6.0)\n",
      "Requirement already satisfied: jupyter-events>=0.9.0 in ./venv/lib/python3.11/site-packages (from jupyter-server<3,>=2.4.0->jupyterlab->-r requirements.txt (line 3)) (0.9.0)\n",
      "Requirement already satisfied: jupyter-server-terminals in ./venv/lib/python3.11/site-packages (from jupyter-server<3,>=2.4.0->jupyterlab->-r requirements.txt (line 3)) (0.5.2)\n",
      "Requirement already satisfied: nbconvert>=6.4.4 in ./venv/lib/python3.11/site-packages (from jupyter-server<3,>=2.4.0->jupyterlab->-r requirements.txt (line 3)) (7.16.1)\n",
      "Requirement already satisfied: nbformat>=5.3.0 in ./venv/lib/python3.11/site-packages (from jupyter-server<3,>=2.4.0->jupyterlab->-r requirements.txt (line 3)) (5.9.2)\n",
      "Requirement already satisfied: overrides in ./venv/lib/python3.11/site-packages (from jupyter-server<3,>=2.4.0->jupyterlab->-r requirements.txt (line 3)) (7.7.0)\n",
      "Requirement already satisfied: prometheus-client in ./venv/lib/python3.11/site-packages (from jupyter-server<3,>=2.4.0->jupyterlab->-r requirements.txt (line 3)) (0.20.0)\n",
      "Requirement already satisfied: pyzmq>=24 in ./venv/lib/python3.11/site-packages (from jupyter-server<3,>=2.4.0->jupyterlab->-r requirements.txt (line 3)) (25.1.2)\n",
      "Requirement already satisfied: send2trash>=1.8.2 in ./venv/lib/python3.11/site-packages (from jupyter-server<3,>=2.4.0->jupyterlab->-r requirements.txt (line 3)) (1.8.2)\n",
      "Requirement already satisfied: terminado>=0.8.3 in ./venv/lib/python3.11/site-packages (from jupyter-server<3,>=2.4.0->jupyterlab->-r requirements.txt (line 3)) (0.18.0)\n",
      "Requirement already satisfied: websocket-client in ./venv/lib/python3.11/site-packages (from jupyter-server<3,>=2.4.0->jupyterlab->-r requirements.txt (line 3)) (1.7.0)\n",
      "Requirement already satisfied: platformdirs>=2.5 in ./venv/lib/python3.11/site-packages (from jupyter-core->jupyterlab->-r requirements.txt (line 3)) (4.2.0)\n",
      "Requirement already satisfied: babel>=2.10 in ./venv/lib/python3.11/site-packages (from jupyterlab-server<3,>=2.19.0->jupyterlab->-r requirements.txt (line 3)) (2.14.0)\n",
      "Requirement already satisfied: json5>=0.9.0 in ./venv/lib/python3.11/site-packages (from jupyterlab-server<3,>=2.19.0->jupyterlab->-r requirements.txt (line 3)) (0.9.17)\n",
      "Requirement already satisfied: jsonschema>=4.18.0 in ./venv/lib/python3.11/site-packages (from jupyterlab-server<3,>=2.19.0->jupyterlab->-r requirements.txt (line 3)) (4.21.1)\n",
      "Requirement already satisfied: six>=1.5 in ./venv/lib/python3.11/site-packages (from python-dateutil>=2.8.2->pandas->-r requirements.txt (line 5)) (1.16.0)\n",
      "Requirement already satisfied: debugpy>=1.6.5 in ./venv/lib/python3.11/site-packages (from ipykernel->jupyterlab->-r requirements.txt (line 3)) (1.8.1)\n",
      "Requirement already satisfied: nest-asyncio in ./venv/lib/python3.11/site-packages (from ipykernel->jupyterlab->-r requirements.txt (line 3)) (1.6.0)\n",
      "Requirement already satisfied: psutil in ./venv/lib/python3.11/site-packages (from ipykernel->jupyterlab->-r requirements.txt (line 3)) (5.9.8)\n",
      "Requirement already satisfied: parso<0.9.0,>=0.8.3 in ./venv/lib/python3.11/site-packages (from jedi>=0.16->ipython>=6.1.0->ipywidgets->-r requirements.txt (line 4)) (0.8.3)\n",
      "Requirement already satisfied: attrs>=22.2.0 in ./venv/lib/python3.11/site-packages (from jsonschema>=4.18.0->jupyterlab-server<3,>=2.19.0->jupyterlab->-r requirements.txt (line 3)) (23.2.0)\n",
      "Requirement already satisfied: jsonschema-specifications>=2023.03.6 in ./venv/lib/python3.11/site-packages (from jsonschema>=4.18.0->jupyterlab-server<3,>=2.19.0->jupyterlab->-r requirements.txt (line 3)) (2023.12.1)\n",
      "Requirement already satisfied: referencing>=0.28.4 in ./venv/lib/python3.11/site-packages (from jsonschema>=4.18.0->jupyterlab-server<3,>=2.19.0->jupyterlab->-r requirements.txt (line 3)) (0.33.0)\n",
      "Requirement already satisfied: rpds-py>=0.7.1 in ./venv/lib/python3.11/site-packages (from jsonschema>=4.18.0->jupyterlab-server<3,>=2.19.0->jupyterlab->-r requirements.txt (line 3)) (0.18.0)\n",
      "Requirement already satisfied: python-json-logger>=2.0.4 in ./venv/lib/python3.11/site-packages (from jupyter-events>=0.9.0->jupyter-server<3,>=2.4.0->jupyterlab->-r requirements.txt (line 3)) (2.0.7)\n",
      "Requirement already satisfied: pyyaml>=5.3 in ./venv/lib/python3.11/site-packages (from jupyter-events>=0.9.0->jupyter-server<3,>=2.4.0->jupyterlab->-r requirements.txt (line 3)) (6.0.1)\n",
      "Requirement already satisfied: rfc3339-validator in ./venv/lib/python3.11/site-packages (from jupyter-events>=0.9.0->jupyter-server<3,>=2.4.0->jupyterlab->-r requirements.txt (line 3)) (0.1.4)\n",
      "Requirement already satisfied: rfc3986-validator>=0.1.1 in ./venv/lib/python3.11/site-packages (from jupyter-events>=0.9.0->jupyter-server<3,>=2.4.0->jupyterlab->-r requirements.txt (line 3)) (0.1.1)\n",
      "Requirement already satisfied: bleach!=5.0.0 in ./venv/lib/python3.11/site-packages (from nbconvert>=6.4.4->jupyter-server<3,>=2.4.0->jupyterlab->-r requirements.txt (line 3)) (6.1.0)\n",
      "Requirement already satisfied: defusedxml in ./venv/lib/python3.11/site-packages (from nbconvert>=6.4.4->jupyter-server<3,>=2.4.0->jupyterlab->-r requirements.txt (line 3)) (0.7.1)\n",
      "Requirement already satisfied: jupyterlab-pygments in ./venv/lib/python3.11/site-packages (from nbconvert>=6.4.4->jupyter-server<3,>=2.4.0->jupyterlab->-r requirements.txt (line 3)) (0.3.0)\n",
      "Requirement already satisfied: mistune<4,>=2.0.3 in ./venv/lib/python3.11/site-packages (from nbconvert>=6.4.4->jupyter-server<3,>=2.4.0->jupyterlab->-r requirements.txt (line 3)) (3.0.2)\n",
      "Requirement already satisfied: nbclient>=0.5.0 in ./venv/lib/python3.11/site-packages (from nbconvert>=6.4.4->jupyter-server<3,>=2.4.0->jupyterlab->-r requirements.txt (line 3)) (0.9.0)\n",
      "Requirement already satisfied: pandocfilters>=1.4.1 in ./venv/lib/python3.11/site-packages (from nbconvert>=6.4.4->jupyter-server<3,>=2.4.0->jupyterlab->-r requirements.txt (line 3)) (1.5.1)\n",
      "Requirement already satisfied: tinycss2 in ./venv/lib/python3.11/site-packages (from nbconvert>=6.4.4->jupyter-server<3,>=2.4.0->jupyterlab->-r requirements.txt (line 3)) (1.2.1)\n",
      "Requirement already satisfied: fastjsonschema in ./venv/lib/python3.11/site-packages (from nbformat>=5.3.0->jupyter-server<3,>=2.4.0->jupyterlab->-r requirements.txt (line 3)) (2.19.1)\n",
      "Requirement already satisfied: ptyprocess>=0.5 in ./venv/lib/python3.11/site-packages (from pexpect>4.3->ipython>=6.1.0->ipywidgets->-r requirements.txt (line 4)) (0.7.0)\n",
      "Requirement already satisfied: wcwidth in ./venv/lib/python3.11/site-packages (from prompt-toolkit<3.1.0,>=3.0.41->ipython>=6.1.0->ipywidgets->-r requirements.txt (line 4)) (0.2.13)\n",
      "Requirement already satisfied: argon2-cffi-bindings in ./venv/lib/python3.11/site-packages (from argon2-cffi->jupyter-server<3,>=2.4.0->jupyterlab->-r requirements.txt (line 3)) (21.2.0)\n",
      "Requirement already satisfied: executing>=1.2.0 in ./venv/lib/python3.11/site-packages (from stack-data->ipython>=6.1.0->ipywidgets->-r requirements.txt (line 4)) (2.0.1)\n",
      "Requirement already satisfied: asttokens>=2.1.0 in ./venv/lib/python3.11/site-packages (from stack-data->ipython>=6.1.0->ipywidgets->-r requirements.txt (line 4)) (2.4.1)\n",
      "Requirement already satisfied: pure-eval in ./venv/lib/python3.11/site-packages (from stack-data->ipython>=6.1.0->ipywidgets->-r requirements.txt (line 4)) (0.2.2)\n",
      "Requirement already satisfied: webencodings in ./venv/lib/python3.11/site-packages (from bleach!=5.0.0->nbconvert>=6.4.4->jupyter-server<3,>=2.4.0->jupyterlab->-r requirements.txt (line 3)) (0.5.1)\n",
      "Requirement already satisfied: fqdn in ./venv/lib/python3.11/site-packages (from jsonschema>=4.18.0->jupyterlab-server<3,>=2.19.0->jupyterlab->-r requirements.txt (line 3)) (1.5.1)\n",
      "Requirement already satisfied: isoduration in ./venv/lib/python3.11/site-packages (from jsonschema>=4.18.0->jupyterlab-server<3,>=2.19.0->jupyterlab->-r requirements.txt (line 3)) (20.11.0)\n",
      "Requirement already satisfied: jsonpointer>1.13 in ./venv/lib/python3.11/site-packages (from jsonschema>=4.18.0->jupyterlab-server<3,>=2.19.0->jupyterlab->-r requirements.txt (line 3)) (2.4)\n",
      "Requirement already satisfied: uri-template in ./venv/lib/python3.11/site-packages (from jsonschema>=4.18.0->jupyterlab-server<3,>=2.19.0->jupyterlab->-r requirements.txt (line 3)) (1.3.0)\n",
      "Requirement already satisfied: webcolors>=1.11 in ./venv/lib/python3.11/site-packages (from jsonschema>=4.18.0->jupyterlab-server<3,>=2.19.0->jupyterlab->-r requirements.txt (line 3)) (1.13)\n",
      "Requirement already satisfied: cffi>=1.0.1 in ./venv/lib/python3.11/site-packages (from argon2-cffi-bindings->argon2-cffi->jupyter-server<3,>=2.4.0->jupyterlab->-r requirements.txt (line 3)) (1.16.0)\n",
      "Requirement already satisfied: pycparser in ./venv/lib/python3.11/site-packages (from cffi>=1.0.1->argon2-cffi-bindings->argon2-cffi->jupyter-server<3,>=2.4.0->jupyterlab->-r requirements.txt (line 3)) (2.21)\n",
      "Requirement already satisfied: arrow>=0.15.0 in ./venv/lib/python3.11/site-packages (from isoduration->jsonschema>=4.18.0->jupyterlab-server<3,>=2.19.0->jupyterlab->-r requirements.txt (line 3)) (1.3.0)\n",
      "Requirement already satisfied: types-python-dateutil>=2.8.10 in ./venv/lib/python3.11/site-packages (from arrow>=0.15.0->isoduration->jsonschema>=4.18.0->jupyterlab-server<3,>=2.19.0->jupyterlab->-r requirements.txt (line 3)) (2.8.19.20240106)\n",
      "Note: you may need to restart the kernel to use updated packages.\n"
     ]
    }
   ],
   "source": [
    "%pip install -r requirements.txt"
   ]
  },
  {
   "cell_type": "code",
   "execution_count": 2,
   "id": "2a050fd1-0264-4b95-a491-64c4368d70ab",
   "metadata": {},
   "outputs": [
    {
     "data": {
      "text/plain": [
       "<module 'utils' from '/home/matthew/applied_repo/utils.py'>"
      ]
     },
     "execution_count": 2,
     "metadata": {},
     "output_type": "execute_result"
    }
   ],
   "source": [
    "import os\n",
    "from multiprocessing import Pool\n",
    "import re\n",
    "import urllib3\n",
    "import shutil\n",
    "from urllib.parse import  urljoin, urlparse\n",
    "from time import sleep, time\n",
    "from random import randrange, shuffle\n",
    "import json\n",
    "import importlib\n",
    "import sys\n",
    "\n",
    "# type annotations\n",
    "# they don't do anything in python. It's just a concise way of documenting function input/output\n",
    "from typing import Set, List, Dict, Tuple, Optional\n",
    "\n",
    "from tqdm import tqdm # progress bar animation\n",
    "import requests\n",
    "from bs4 import BeautifulSoup # webscraping\n",
    "\n",
    "# utils is our local utility module\n",
    "# if we change utils.py, and re-run a normal 'import'\n",
    "# python won't reload it by default. (Since it's already loaded.)\n",
    "# So we force a reload\n",
    "import utils\n",
    "importlib.reload(utils)"
   ]
  },
  {
   "cell_type": "code",
   "execution_count": 3,
   "id": "8835a45d-12be-4775-bb07-1b1c84d87721",
   "metadata": {},
   "outputs": [],
   "source": [
    "assert sys.version_info >= (3, 6), \"Python version too low.\""
   ]
  },
  {
   "cell_type": "markdown",
   "id": "46927f8e-2e66-4f42-bd02-dbc157da6846",
   "metadata": {},
   "source": [
    "## Constants and Configuration"
   ]
  },
  {
   "cell_type": "code",
   "execution_count": 4,
   "id": "d069dcb9-ff87-4da2-a748-0dce757882aa",
   "metadata": {},
   "outputs": [],
   "source": [
    "base_data_dir = 'data'\n",
    "\n",
    "# the list of URLs and file sizes will be saved here\n",
    "# relative to the repo (because it's small and we want to save this.)\n",
    "urls_file_path = os.path.join(base_data_dir, '01-urls.json')\n",
    "\n",
    "# the downlaoded files will be saved here\n",
    "raw_files_path = os.path.join(base_data_dir, '01-A-raw/')\n",
    "\n",
    "# logs will be written here\n",
    "# on linux, view this live with `tail -f logs.txt`\n",
    "log_file = os.path.join(base_data_dir, 'logs/01a.txt')"
   ]
  },
  {
   "cell_type": "code",
   "execution_count": 5,
   "id": "8e73b070-1c9a-48ef-a8e1-3b63afcd5ac0",
   "metadata": {},
   "outputs": [],
   "source": [
    "# set to an int >0 to download only a representative sample of files\n",
    "# useful for debugging\n",
    "max_files_per_page = None"
   ]
  },
  {
   "cell_type": "code",
   "execution_count": 6,
   "id": "4d51f76b-9013-4c91-a6b6-7a1b29a05b0d",
   "metadata": {},
   "outputs": [],
   "source": [
    "# webscrape recursively from each of these pages\n",
    "start_urls = [\n",
    "    'https://www.nemweb.com.au/REPORTS/CURRENT/', # last year\n",
    "    'https://www.nemweb.com.au/REPORTS/ARCHIVE/', # last year\n",
    "    #'https://www.nemweb.com.au/Data_Archive/Wholesale_Electricity/MMSDM/2023/MMSDM_2023_10/', # one particular month\n",
    "    'https://nemweb.com.au/Data_Archive/Wholesale_Electricity/MMSDM/' # 1-10 years old, in a different folder and zip structure\n",
    "]\n",
    "\n",
    "# ignore files other than these\n",
    "# (case insensitive)\n",
    "file_suffixes = ['.zip', '.csv']\n",
    "\n",
    "# security check - don't follow links to other domains\n",
    "expected_domains = ('www.nemweb.com.au', 'nemweb.com.au')\n",
    "\n",
    "# ignore any URL containing one of these\n",
    "# because we definitely don't need them.\n",
    "# Skipping them will save time and disk space.\n",
    "# Most of these are about gas instead of electricity,\n",
    "# or bidding (financial stuff, not relevant for our research).\n",
    "url_substrings_to_skip = [\n",
    "    '/NEMDE/', \n",
    "    '/Gas_Supply_Guarantee/',\n",
    "    '/VicGas/',\n",
    "    '_GAS_'\n",
    "    '/DWGM/',\n",
    "    'Predispatch', # predictions (very large)\n",
    "    'FCAS', # unrelated to our purposes, and quite large\n",
    "    'BIDPEROFFER', # large, unrelated\n",
    "    'BIDDAYOFFER', # large, unrelated\n",
    "    'BIDOFFER',\n",
    "    'BID_OFFER',\n",
    "    'BIDMOVE',\n",
    "    'BIDTYPES',\n",
    "    'BIDDUIDDETAILS',\n",
    "    'RESIDUE_PRICE_FUNDS_BID',\n",
    "    'DISPATCHCONSTRAINT',\n",
    "    'DAYOFFER',\n",
    "    'MTPASA_OFFER',\n",
    "    'MTPASA',\n",
    "    'PDPASA',\n",
    "    'STPASA',\n",
    "    'PRUDENTIAL',\n",
    "    'MMSDM_CLI_', # not data\n",
    "    'MMSDM_GUI_', # not data\n",
    "    'CONSTRAINTSOLUTION', # detailed electrical constraints\n",
    "]\n",
    "\n",
    "\n",
    "# process files with multiprocessing, to be faster.\n",
    "# If set to False, will use a for loop, which gives clearer traceback error messages.\n",
    "# We found on some laptops multiprocessing didn't work because of Python installation issues.\n",
    "# Defaulting to False to ensure compatability. \n",
    "# Set this to True if you know your python installation can do multiprocessing.\n",
    "# This script will leave one CPU spare so you can keep using your laptop for other stuff.\n",
    "use_multiprocessing = False\n"
   ]
  },
  {
   "cell_type": "markdown",
   "id": "eff380b0-3576-4410-9bc6-c2e82be6876b",
   "metadata": {},
   "source": [
    "## Preparation"
   ]
  },
  {
   "cell_type": "code",
   "execution_count": 7,
   "id": "fd7514c1-3dd4-4ab4-8a1e-b6f9e37abce2",
   "metadata": {},
   "outputs": [],
   "source": [
    "# decrease the priority of this script given by the OS\n",
    "# so you can keep using your laptop for other stuff\n",
    "utils.renice()"
   ]
  },
  {
   "cell_type": "code",
   "execution_count": 8,
   "id": "c951c93a-96a7-4731-9ec2-425421529495",
   "metadata": {},
   "outputs": [],
   "source": [
    "logger = utils.Logger(log_file)\n",
    "logger.info(\"Initialising Logger\")\n",
    "logger.info(f\"Running with config {use_multiprocessing=} {max_files_per_page=}\")"
   ]
  },
  {
   "cell_type": "markdown",
   "id": "68597489-e528-4079-8047-69417287cae7",
   "metadata": {},
   "source": [
    "## Discover which files to download\n",
    "\n",
    "We don't actually download the .zip or .csv files yet.\n",
    "We just get a list of the URLs of the .zip and .csv files."
   ]
  },
  {
   "cell_type": "code",
   "execution_count": 9,
   "id": "eba34003-7899-4447-a367-7a1644f2aa8b",
   "metadata": {},
   "outputs": [],
   "source": [
    "# create a session object to re-use between requests\n",
    "# to hopefully speed up downloads by not re-doing the TLS handshake for each HTTP request\n",
    "# (unsure if this actually speeds things up)\n",
    "session = requests.Session()"
   ]
  },
  {
   "cell_type": "code",
   "execution_count": 10,
   "id": "2512b2e5-76cd-4569-91eb-947cd7d15d56",
   "metadata": {
    "tags": []
   },
   "outputs": [
    {
     "name": "stderr",
     "output_type": "stream",
     "text": [
      "                         \r"
     ]
    }
   ],
   "source": [
    "urls = []\n",
    "\n",
    "progress_bar = tqdm(leave=False)\n",
    "\n",
    "# nemweb sometimes redirects from https to http if you forget a traling slash\n",
    "# undo that.\n",
    "def force_https(url):\n",
    "    p = urlparse(url)\n",
    "    if p.scheme != 'https':\n",
    "        assert url.count('http://') == 1, f\"Strange URL: {url}\" # abort, for security reasons\n",
    "        url = url.replace('http://', 'https://')\n",
    "    return url\n",
    "\n",
    "def is_child_of(parent, child):\n",
    "    p = urlparse(parent)\n",
    "    c = urlparse(child)\n",
    "    return (p.hostname in expected_domains) and (c.hostname in expected_domains) \\\n",
    "        and c.path.rstrip('/').startswith(p.path.rstrip('/')) \\\n",
    "        and c.path.rstrip('/') != p.path.rstrip('/')\n",
    "\n",
    "# unit tests\n",
    "assert is_child_of('https://www.nemweb.com.au/REPORTS/', 'https://www.nemweb.com.au/REPORTS/CURRENT/')\n",
    "assert not is_child_of('https://www.nemweb.com.au/REPORTS/CURRENT', 'https://www.nemweb.com.au/REPORTS/')\n",
    "assert not is_child_of('https://www.nemweb.com.au/REPORTS/CURRENT/', 'https://www.nemweb.com.au/REPORTS/CURRENT/')\n",
    "assert not is_child_of('https://www.nemweb.com.au/REPORTS/CURRENT/', 'https://www.nemweb.com.au/REPORTS/ARCHIVE/')\n",
    "\n",
    "\n",
    "# returns a tuple of (url, size)\n",
    "# where url is a string\n",
    "# size is number of bytes, as an int. But None if unknown\n",
    "def extract_links(url) -> List[Tuple[str, Optional[int]]]:\n",
    "    logger.info(f\"Checking for links in {url}\")\n",
    "    if any(ss in url for ss in url_substrings_to_skip):\n",
    "        # skip this. Don't bother looking inside it.\n",
    "        logger.info(f\"Skipping {url} because of substrings\")\n",
    "        return []\n",
    "    # this is a web page listing other files or pages of other files\n",
    "    logger.info(f\"Downloading {url}\")\n",
    "    r = session.get(url)\n",
    "    if r.status_code >= 300:\n",
    "        sleep(5)\n",
    "        r = session.get(url)\n",
    "    r.raise_for_status()\n",
    "    html = r.text\n",
    "\n",
    "    # it's called \"soup\" because the python webscraping library is called \"beautiful soup\"\n",
    "    soup = BeautifulSoup(html)\n",
    "\n",
    "    links = []\n",
    "    files_this_page = 0\n",
    "    for a in soup.find_all('a'):\n",
    "        u = a['href']\n",
    "\n",
    "        # convert potentially relative URLs to absolute\n",
    "        u = urljoin(start_url, u)\n",
    "\n",
    "        # ignore links that aren't files on this page or subpages\n",
    "        # watch out, the domain can sometimes change (www. removed or added)\n",
    "        if not is_child_of(parent=url, child=u):\n",
    "            continue # skip the rest of this for loop iteration, go to the next one\n",
    "\n",
    "        elif u.endswith('/'):\n",
    "            # this is not a link to a file. This is a link to another page of files.\n",
    "\n",
    "            # call this function recursively\n",
    "            links_of_children = extract_links(u)\n",
    "            links.extend(links_of_children)\n",
    "\n",
    "        else:\n",
    "            # this is a link to a file\n",
    "\n",
    "            if not any(u.lower().endswith(ext.lower()) for ext in file_suffixes):\n",
    "                logger.debug(f\"Ignoring {u} because of file extension\")\n",
    "                continue\n",
    "\n",
    "            \n",
    "            # iognore any links which contain the blacklisted substrings\n",
    "            if any(ss in u for ss in url_substrings_to_skip):\n",
    "                for ss in url_substrings_to_skip:\n",
    "                    logger.debug(f\"Ignoring {u} because of blacklisted substring {ss}\")\n",
    "                # watch out, we want to 'continue' the outer for loop, not the inner one, which is only for debugging\n",
    "                continue\n",
    "            \n",
    "            # Each link should have a string that precedes URL itself\n",
    "            # e.g. Tuesday, January 2, 2024  8:00 AM       168243\n",
    "            # let's get this size\n",
    "            # in this example, 168243\n",
    "            # use None if we can't get the size successfully\n",
    "            text = a.previous_sibling\n",
    "            if not isinstance(text, str):\n",
    "                logger.error(f\"No suitable text preceding URL. Previous sibling not text, is {a.previous_sibling} of type {type(text)}, for url {u} found on page {url}\")\n",
    "                size = None\n",
    "            else:\n",
    "                text = text.strip()\n",
    "                match = re.match(r\"\\w+, \\w+ \\d{1,2}, \\d{4} +\\d{1,2}:\\d{1,2} [AP]M\\s+(\\d+)\", text)\n",
    "                if match:\n",
    "                    size = match.group(1)\n",
    "                    try:\n",
    "                        size = int(size)\n",
    "                    except ValueError:\n",
    "                        logger.error(f\"Unable to extract file size from text: {text}, for url {u} found on page {url}\")\n",
    "                        size = None\n",
    "                else:\n",
    "                    size = None\n",
    "\n",
    "            # only a few files per page\n",
    "            # except MMSDM pages, which have one file of each type\n",
    "            if max_files_per_page and (max_files_per_page > 0) and ('/MMSDM/' not in url) and (files_this_page >= max_files_per_page):\n",
    "                logger.info(f\"Ignoring {u} because of max_files_per_page\")\n",
    "            else:\n",
    "                links.append((u, size))\n",
    "                files_this_page += 1\n",
    "\n",
    "    progress_bar.update()\n",
    "    logger.info(f\"Found {len(links)} links at/under {url}\")\n",
    "    return links\n",
    "\n",
    "urls = []\n",
    "for start_url in start_urls:\n",
    "    urls.extend(extract_links(start_url))\n",
    "\n",
    "progress_bar.close()"
   ]
  },
  {
   "cell_type": "markdown",
   "id": "621c4cda-8178-42b3-a1f3-899bbe81331b",
   "metadata": {},
   "source": [
    "Now we filter the list of URLs, to discard the ones we don't care about. (Large ones, gas ones etc)\n",
    "\n",
    "Just delete URLs with string from `url_substrings_to_skip` in them."
   ]
  },
  {
   "cell_type": "code",
   "execution_count": 11,
   "id": "a770f9ae-e6b0-423c-8f71-9bfeaa5d3baf",
   "metadata": {},
   "outputs": [],
   "source": [
    "# For the older files, each year is available as one big file, or lots of little files\n",
    "# e.g. https://nemweb.com.au/Data_Archive/Wholesale_Electricity/MMSDM/2017/\n",
    "# We don't want to download both\n",
    "# drop the few large files, keep the little ones\n",
    "urls = [(u, size) for (u, size) in  urls if not re.search(r\"MMSDM_\\d{4}_\\d{2}.zip\", u)]"
   ]
  },
  {
   "cell_type": "code",
   "execution_count": 12,
   "id": "11a34aa5-78d3-439d-a245-69d45f162e3d",
   "metadata": {},
   "outputs": [
    {
     "data": {
      "text/plain": [
       "86366"
      ]
     },
     "execution_count": 12,
     "metadata": {},
     "output_type": "execute_result"
    }
   ],
   "source": [
    "# should have been filtered already, but just in case.\n",
    "# (Usefull if you want to add a substring to skip without re-crawling nemweb)\n",
    "urls = [(u, size) for (u, size) in urls if not any(s.lower() in u.lower() for s in url_substrings_to_skip)]\n",
    "len(urls)"
   ]
  },
  {
   "cell_type": "code",
   "execution_count": 13,
   "id": "4f0bacd0-4d98-49f1-9955-e3328e49c1fb",
   "metadata": {},
   "outputs": [
    {
     "data": {
      "text/plain": [
       "86244"
      ]
     },
     "execution_count": 13,
     "metadata": {},
     "output_type": "execute_result"
    }
   ],
   "source": [
    "# check there are no duplicate files in different locations on the website\n",
    "\n",
    "# deduplicate based on everything after the last slash\n",
    "urls = list({u.split('/')[-1]:(u, sz) for (u, sz) in urls}.values())\n",
    "len(urls)"
   ]
  },
  {
   "cell_type": "code",
   "execution_count": 14,
   "id": "12b5da12-df89-47f6-92c2-43840569602c",
   "metadata": {},
   "outputs": [],
   "source": [
    "# sort in descending order of size before writing\n",
    "# it makes it easier to analyse whether there's any large files we can skip\n",
    "# later on we'll shuffle the list again\n",
    "urls.sort(key=lambda u: u[1], reverse=True)"
   ]
  },
  {
   "cell_type": "code",
   "execution_count": 15,
   "id": "e37d1943-9db3-4910-b8ec-d6a3972c8ba8",
   "metadata": {},
   "outputs": [
    {
     "name": "stdout",
     "output_type": "stream",
     "text": [
      "Writing 86244 urls to /media/matthew/Tux/AppliedEconometrics/data/01-urls.json\n"
     ]
    }
   ],
   "source": [
    "print(f\"Writing {len(urls)} urls to {urls_file_path}\")\n",
    "\n",
    "with open(urls_file_path, 'w') as f:\n",
    "    json.dump(urls, f, indent=2)"
   ]
  },
  {
   "cell_type": "markdown",
   "id": "9e4189d3-318a-4675-8bb4-21b2d8876532",
   "metadata": {},
   "source": [
    "## Download the files\n",
    "\n",
    "\n",
    "Since we're downloading a lot of files, from the other side of the world, over slow wifi, we can get an error.\n",
    "We don't want to redownload all the files when one has an error. So let's just carry on, then retry the whole lot.\n",
    "When retrying, this code checks if the file already exists on disk. If not, dowload it.  If yes, it might be an incomplete download. To check, we compare the expected size of the file (obtained earlier) to the size of the file on disk. If it's the same, do not re-download the file.\n",
    "\n",
    "We get throttled a lot, which appears as 403 errors. Sleeping and retrying fixes that. \n",
    "\n",
    "This takes hours to run. You can stop the playbook, and then just re-run from here onwards. The code will not re-download files it already has. You can even restart the kernel (e.g. if you shut off your laptop) and re-run. (But then you'll have to re-run the imports up the top of the playbook, and the subsequent constant definitions. But you don't need to rerun the URL detection section. The next cell gets the saved list of URLs from `urls.txt`.)"
   ]
  },
  {
   "cell_type": "code",
   "execution_count": 16,
   "id": "bff78907-9261-4e97-a262-8b8ec7472991",
   "metadata": {},
   "outputs": [],
   "source": [
    "# if you want to skip re-indexing, run the playbook from here\n",
    "with open(urls_file_path, 'r') as f:\n",
    "    urls = json.load(f)"
   ]
  },
  {
   "cell_type": "code",
   "execution_count": 17,
   "id": "9a709bb9-371f-4104-8657-5bb1a9c2f81c",
   "metadata": {},
   "outputs": [
    {
     "data": {
      "text/plain": [
       "155313288698"
      ]
     },
     "execution_count": 17,
     "metadata": {},
     "output_type": "execute_result"
    }
   ],
   "source": [
    "# If you have not got a folder full of pre-downloaded files, this is how many bytes you're about to download.\n",
    "# If you do have a folder of downloaded files already, and are just re-running to check the script works,\n",
    "# you may download somewhere between 0 and this amount.  (Probably close to zero.)\n",
    "sum(u[1] for u in urls)"
   ]
  },
  {
   "cell_type": "code",
   "execution_count": 18,
   "id": "a07df976-e521-4714-9021-3dde56d24720",
   "metadata": {},
   "outputs": [],
   "source": [
    "# create raw folder if it doesn't exist\n",
    "utils.create_dir(raw_files_path)"
   ]
  },
  {
   "cell_type": "code",
   "execution_count": 19,
   "id": "be123fa4-41e7-411e-b640-c9b1c63be16f",
   "metadata": {},
   "outputs": [],
   "source": [
    "# shuffle, so that large files aren't clumped together.\n",
    "# this makes the progress bar estimate more accurate (compared to downloading all the big files last/first)\n",
    "# and if we don't download all the small files consecutively, we're less likely to be throttled\n",
    "shuffle(urls) # mutates list in place"
   ]
  },
  {
   "cell_type": "code",
   "execution_count": 20,
   "id": "c5dc8905-b8b1-4291-8baa-85d6e433eea0",
   "metadata": {},
   "outputs": [],
   "source": [
    "# using urllib3 instead of requests\n",
    "# because it's better for streaming large files to disk\n",
    "# https://stackoverflow.com/a/62075390/5443120\n",
    "http = urllib3.PoolManager(retries=8)"
   ]
  },
  {
   "cell_type": "code",
   "execution_count": null,
   "id": "63b80bd4-5322-42a7-a111-8ac44d4f1d35",
   "metadata": {
    "tags": []
   },
   "outputs": [
    {
     "name": "stderr",
     "output_type": "stream",
     "text": [
      "  1%|▏                                  | 566/86244 [11:01<106:18:19,  4.47s/it]"
     ]
    }
   ],
   "source": [
    "# perform an HTTP HEAD request to ask the server for the size of the file\n",
    "# without downloading the whole thing\n",
    "def get_remote_size(url, retries=6):\n",
    "    r = http.request('HEAD', url)\n",
    "    if r.status >= 300:\n",
    "        if retries > 0:\n",
    "            logger.warning(f\"Retrying after bad status ({r.status}) for HEAD {url}\")\n",
    "            sleep(randrange(5))\n",
    "            return get_remote_size(url, retries=retries-1)\n",
    "        else:\n",
    "            logger.error(f\"Not retrying after bad status ({r.status}) for HEAD {url}\")\n",
    "            raise ValueError(f\"bad status ({r.status}) for HEAD {url}\")\n",
    "    return int(r.headers['Content-Length'])\n",
    "\n",
    "# have we already downloaded this url?\n",
    "# don't just check based on a file with that name existing locally,\n",
    "# it may be an incomplete download.\n",
    "# So also check based on size.\n",
    "# expected_size is the number from the nemweb page, just prior to the URL itself\n",
    "# it may be None, if we couldn't extract it\n",
    "# We can send a quick HEAD HTTP request to check file size without downloading a file\n",
    "def already_downloaded(url, expected_size, local):\n",
    "    if not os.path.exists(local):\n",
    "        return False\n",
    "    else:\n",
    "        local_size = os.path.getsize(local)\n",
    "        if (expected_size is not None) and (local_size == expected_size):\n",
    "            return True\n",
    "        else:\n",
    "            return get_remote_size(url) == local_size\n",
    "\n",
    "# url_and_size is a tuple, like ('https://...', 123)\n",
    "# a bit awkward to combine it into one, but passing multiple arguments with multiprocessing is tricky\n",
    "def download(url_and_size, retries=6):\n",
    "    (url, size) = url_and_size\n",
    "    fname = url.split('/')[-1]\n",
    "    local_path = os.path.join(raw_files_path, fname)\n",
    "    try:\n",
    "        if already_downloaded(url, size, local_path):\n",
    "            logger.info(f\"Skipping already downloaded {url}\")\n",
    "            return 'skipped'\n",
    "        else:\n",
    "            r = http.request('GET', url, preload_content=False)\n",
    "            if (r.status == 404) and (\"nemweb.com.au/REPORTS/CURRENT\" in url):\n",
    "                # this whole playbook takes so long\n",
    "                # that some daily files get moved by AEMO into monthly files\n",
    "                # re-run the playbook to grab those new monthly files.\n",
    "                # But if this happens, it's probably for data that's only 1 week old\n",
    "                # which is outside the scope of our study.\n",
    "                # So continus on for now.\n",
    "                logger.warning(f\"File {url} not found. Probably daily file expired\")\n",
    "                return 'skipped'\n",
    "            elif r.status >= 300:\n",
    "                logger.warning(f\"Retrying after bad status ({r.status}) for GET {url}\")\n",
    "                sleep(randrange(5))\n",
    "                return download(url_and_size, retries=retries-1)\n",
    "            logger.info(f\"Downloading {url} to {local_path}\")\n",
    "            with open(local_path, 'wb') as f:\n",
    "                shutil.copyfileobj(r, f)\n",
    "            logger.info(f\"Downloaded {url} to {local_path}\")\n",
    "    except (urllib3.exceptions.HTTPError, ValueError) as ex:\n",
    "        # tidy up partial download\n",
    "        try:\n",
    "            os.remove(local_path)\n",
    "        except OSError:\n",
    "            pass\n",
    "        if retries <= 0:\n",
    "            logger.error(f\"Not retrying after error with {url}: {ex}\")\n",
    "            return ex\n",
    "        else:\n",
    "            logger.warning(f\"Retrying after error with {url}: {ex}\")\n",
    "            sleep(randrange(3))\n",
    "            return download(url_and_size, retries=retries-1)\n",
    "    return 'ok'\n",
    "                \n",
    "\n",
    "\n",
    "if __name__ == '__main__':\n",
    "    \n",
    "    # use multiprocessing to process the files concurrently\n",
    "    # tqdm for a progress bar\n",
    "    # list(tqdm(imap())) thing explained here: https://stackoverflow.com/a/41921948/5443120\n",
    "\n",
    "    # remember that urls is a list of tuples of url and size\n",
    "    if use_multiprocessing:\n",
    "        with Pool(utils.num_cpu()) as p:\n",
    "            statuses = list(tqdm(p.imap(download, urls), total=len(urls)))\n",
    "    else:\n",
    "        statuses = [download(url) for url in tqdm(urls)]\n",
    "\n",
    "    # if these are only HEAD 404s for a few files, that's ok. They've probably moved from /CURRENT to /ARCHIVE (under a different file name)\n",
    "    # Re-run the notebook from the start up to this point once more, and you'll get new files which contain that data\n",
    "    # to debug this, use the next cell\n",
    "    assert all(s in ['ok', 'skipped'] for s in statuses), \"some files failed to be downloaded. Re-run whole playbook once.\"\n",
    "\n",
    "print('done')"
   ]
  },
  {
   "cell_type": "code",
   "execution_count": null,
   "id": "10553088-f3da-4cf7-a192-b370e0695902",
   "metadata": {},
   "outputs": [],
   "source": []
  }
 ],
 "metadata": {
  "kernelspec": {
   "display_name": "Python 3 (ipykernel)",
   "language": "python",
   "name": "python3"
  },
  "language_info": {
   "codemirror_mode": {
    "name": "ipython",
    "version": 3
   },
   "file_extension": ".py",
   "mimetype": "text/x-python",
   "name": "python",
   "nbconvert_exporter": "python",
   "pygments_lexer": "ipython3",
   "version": "3.11.4"
  }
 },
 "nbformat": 4,
 "nbformat_minor": 5
}
