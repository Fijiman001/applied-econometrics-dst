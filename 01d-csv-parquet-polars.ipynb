{
 "cells": [
  {
   "cell_type": "markdown",
   "id": "1829f2fc-ee46-4a9d-a3bb-539a0acebc07",
   "metadata": {},
   "source": [
    "# Convert CSV to parquet\n",
    "\n",
    "This script takes many `.CSV.gz` files from the previous script, and converts them into a small number of `.parquet` files. Combining many small files into few large files is known as \"compaction\", which improves performance.\n",
    "\n",
    "At the same time we parse strings (all CSV data is string, really) into the proper datatype. (One advantage of parquet is that it has distinct, unambiguous types for int, float, datetime etc.) To do this, we take the known schema that we downloaded in a previous script.\n",
    "\n",
    "* we parse timestamp strings into datetime values\n",
    "* we add Nulls to files missing columns\n",
    "* we convert to float, or whatever else. (e.g. if one CSV has only integers in a column, and another has floats/decimal/double in the same column, some tools get confused by that and throw an error.\n",
    "* we extract the `TOP_TIMESTAMP` and `SCHEMA_VERSION` from the hive-style folder partitioning, and add them as columns.\n",
    "\n",
    "Note that we can't use pandas for this, since pandas cannot handle empty values for most datatypes. We're trying [polars](https://docs.pola.rs/), which is going to be the next big pandas. It is supposed to be very fast and powerful. But I kept encountering issues with it, so this script ended up slow and complex, sorry.\n",
    "\n",
    "Note that some files are too large to fit into memory. So we need to use streaming/chunking approaches. Polars is a new library which is supposed to be great for this. That's what this script mostly uses. However I found some bugs with it. So this ended up being more messy than expected. (e.g. at the time of writing, Polars cannot process 17,000 files at once, because of a stack overflow error, that appears as a seg fault error. I reported this, and it should be fixed in future versions. But even when I compiled the latest un-released version, I had other issues of the script crashing.)\n",
    "\n",
    "Note that polars can't stream from `.csv.gz`. So we extract them to `.csv`, and then stream to `.parquet`. But we cannot extract all files at once. (That's 1.4TB at this point.) I don't have enough space for that. So we extract in chunks. This is quite slow. Make sure your disk is fast. (e.g. my external hard drive is 10 or 100x slower than my internal SSD.) The script tries to inteligently check how much disk space you have, and choose batch sizes based on that.\n",
    "\n",
    "For datetimes, we treat them as string when reading from CSV, then cast to datetime in memory, then write to parquet. This was to ensure timezone is handled correctly. (The raw data is in `Australia/Brisbane`, which is non-DST, UTC+10.)\n",
    "\n",
    "We do not deduplicate yet.\n",
    "\n",
    "For other motivations for choosing `.parquet`, see the `README.md`.\n",
    "\n",
    "This script takes about 24h to run.\n",
    "\n",
    "This does the same thing as the similarly named file, called `01d-csv-to-parquet-pyarrow.ipynb`. But the output of that was sometimes corrupt. (That decompresses no the fly, without unzipping and writing `.CSV` to disk. So should be better.)"
   ]
  },
  {
   "cell_type": "code",
   "execution_count": 1,
   "id": "764d421d-a159-485e-b33c-547fd44067a2",
   "metadata": {},
   "outputs": [
    {
     "data": {
      "text/plain": [
       "<module 'utils' from '/home/matthew/Documents/TSE/AppliedEconometrics/repo/utils.py'>"
      ]
     },
     "execution_count": 1,
     "metadata": {},
     "output_type": "execute_result"
    }
   ],
   "source": [
    "import os\n",
    "import gzip\n",
    "import shutil\n",
    "from multiprocessing import Pool\n",
    "import re\n",
    "import json\n",
    "from time import time\n",
    "import importlib\n",
    "from random import shuffle\n",
    "import math\n",
    "\n",
    "from tqdm import tqdm\n",
    "import polars as pl\n",
    "\n",
    "# utils is our local utility module\n",
    "# if we change utils.py, and re-run a normal 'import'\n",
    "# python won't reload it by default. (Since it's already loaded.)\n",
    "# So we force a reload\n",
    "import utils\n",
    "importlib.reload(utils)"
   ]
  },
  {
   "cell_type": "code",
   "execution_count": 2,
   "id": "f3fbba74-268c-41ff-8902-36f98e4acce6",
   "metadata": {},
   "outputs": [],
   "source": [
    "# `./data` didn't work for some reason, so I hard coded it\n",
    "repo_data_dir = '/home/matthew/Documents/TSE/AppliedEconometrics/repo/data/'\n",
    "\n",
    "# you can point this at a disk that is large, but fast.\n",
    "base_data_dir = '/home/matthew/data/'\n",
    "\n",
    "# the output of the previous script\n",
    "all_csv_gz_dir = os.path.join(base_data_dir, '01-C-split-mapped-csv')\n",
    "\n",
    "# once each folder in all_csv_gz_dir is processed, it will be moved here.\n",
    "# so if you stop and re-start the script, you don't waste time re-processing.\n",
    "all_csv_gz_archive = os.path.join(base_data_dir, '01-D-split-mapped-csv-done')\n",
    "\n",
    "# we extract batches of `.csv.gz` here\n",
    "all_csv_dir = os.path.join(base_data_dir, '01-D-gunzipped-csv')\n",
    "\n",
    "# we save batches of files here. We'll end up with a few files per AEMO 'table'\n",
    "all_parquet_batch_dir = os.path.join(base_data_dir, '01-D-parquet-batches')\n",
    "\n",
    "schema_path = os.path.join(repo_data_dir, 'schemas.json')\n",
    "\n",
    "num_processes = os.cpu_count() - 2 # *2 because we assume hyperthreading and want one spare to keep doing other stuff"
   ]
  },
  {
   "cell_type": "markdown",
   "id": "a7a42726-1db6-457a-93fb-704c9d8e2ce6",
   "metadata": {},
   "source": [
    "## Preparation"
   ]
  },
  {
   "cell_type": "code",
   "execution_count": 3,
   "id": "f8035cc4-5648-4824-b95e-191687d9b393",
   "metadata": {},
   "outputs": [],
   "source": [
    "logger = utils.Logger(os.path.join(repo_data_dir, 'logs.txt'), flush=True)\n",
    "logger.info(\"Initialising Logger\")"
   ]
  },
  {
   "cell_type": "code",
   "execution_count": 4,
   "id": "5e43a0f3-9c71-4623-8660-08c0ea0231ad",
   "metadata": {},
   "outputs": [],
   "source": [
    "utils.renice()"
   ]
  },
  {
   "cell_type": "code",
   "execution_count": 5,
   "id": "31ee6288-c967-4f42-b667-d194cd0e8b6c",
   "metadata": {},
   "outputs": [],
   "source": [
    "version_col_name = 'SCHEMA_VERSION'\n",
    "top_timestamp_col_name = 'TOP_TIMESTAMP'"
   ]
  },
  {
   "cell_type": "markdown",
   "id": "700b9258-23c5-4a7a-b69f-c011f945e49f",
   "metadata": {},
   "source": [
    "## Schema preparation"
   ]
  },
  {
   "cell_type": "code",
   "execution_count": 6,
   "id": "b4748229-bf23-4844-b905-c1687a3529d2",
   "metadata": {},
   "outputs": [],
   "source": [
    "with open(schema_path, 'r') as f:\n",
    "    schemas = json.load(f)"
   ]
  },
  {
   "cell_type": "code",
   "execution_count": 7,
   "id": "0b854abd-49ca-4743-9392-e4174736f789",
   "metadata": {},
   "outputs": [],
   "source": [
    "# AEMO's schemas have Oracle SQL types\n",
    "# map those to types polars can use\n",
    "# if date_as_str, return string instead of datetime\n",
    "# (because polars can't read datetimes when parsing from CSV)\n",
    "def aemo_type_to_polars_type(t: str, tz=None, date_as_str=False):\n",
    "    t = t.upper()\n",
    "    if re.match(r\"VARCHAR(2)?\\(\\d+\\)\", t):\n",
    "        return pl.String()\n",
    "    if re.match(r\"CHAR\\((\\d+)\\)\", t):\n",
    "        # single character\n",
    "        # arrow has no dedicated type for that\n",
    "        # so use string\n",
    "        # (could use categorical?)\n",
    "        return pl.String()\n",
    "    elif t.startswith(\"NUMBER\"):\n",
    "        match = re.match(r\"NUMBER ?\\((\\d+), ?(\\d+)\\)\", t)\n",
    "        if match:\n",
    "            whole_digits = int(match.group(1))\n",
    "            decimal_digits = int(match.group(2))\n",
    "        else:\n",
    "            # e.g. NUMBER(2)\n",
    "            match = re.match(r\"NUMBER ?\\((\\d+)\", t)\n",
    "            assert match, f\"Unsure how to cast {t} to arrow type\"\n",
    "            whole_digits = int(match.group(1))\n",
    "            decimal_digits = 0\n",
    "            \n",
    "        if decimal_digits == 0:\n",
    "            # integer\n",
    "            # we assume signed (can't tell unsigned from the schema)\n",
    "            # but how many bits?\n",
    "            max_val = 10**whole_digits\n",
    "\n",
    "            if 2**(8-1) > max_val:\n",
    "                return pl.Int8()\n",
    "            elif 2**(16-1) > max_val:\n",
    "                return pl.Int16()\n",
    "            elif 2**(32-1) > max_val:\n",
    "                return pl.Int32()\n",
    "            else:\n",
    "                return pl.Int64()\n",
    "        else:\n",
    "            # we could use pa.decimal128(whole_digits, decimal_digits)\n",
    "            # but we don't need that much accuracy\n",
    "            return pl.Float64()\n",
    "    elif (t == 'DATE') or re.match(r\"TIMESTAMP\\((\\d)\\)\", t):\n",
    "        # watch out, when AEMO say \"date\" they mean \"datetime\"\n",
    "        # for both dates and datetimes they say \"date\",\n",
    "        # but both have a time component. (For actual dates, it's always midnight.)\n",
    "        # and some dates go out as far as 9999-12-31 23:59:59.999\n",
    "        # (and some dates are 9999-12-31 23:59:59.997)\n",
    "        if date_as_str:\n",
    "            return pl.String()\n",
    "        else:\n",
    "            return pl.Datetime(time_unit='ms', time_zone=tz)\n",
    "    else:\n",
    "        raise ValueError(f\"Unsure how to convert AEMO type {t} to polars type\")\n"
   ]
  },
  {
   "cell_type": "code",
   "execution_count": 8,
   "id": "2c3329b7-352f-443f-9336-ed9f5b2d678b",
   "metadata": {},
   "outputs": [],
   "source": [
    "# for the largest tables, far larger than the smallest 200 combined,\n",
    "# let's drop the columns we know we won't use\n",
    "# to make it faster\n",
    "def get_cols_to_drop(table):\n",
    "    if table == 'DISPATCHLOAD':\n",
    "        to_drop = []\n",
    "        cols = list(schemas[table]['columns'].keys())\n",
    "        for c in cols:\n",
    "            if any(c.upper().startswith(prefix) for prefix in ['RAISE', 'LOWER', 'VIOLATION', 'MARGINAL']) \\\n",
    "               and c not in schemas[table]['primary_keys']:\n",
    "                to_drop.append(c)\n",
    "        logger.info(f\"Will drop {to_drop} from {table}\")\n",
    "        return to_drop\n",
    "    else:\n",
    "        # only drop columns for DISPATCHLOAD\n",
    "        # the rest are too small to bother saving any space\n",
    "        # and of the other large ones, we've already dropped the large tables we don't need\n",
    "        # and the ones we kept, we need all columns\n",
    "        return []"
   ]
  },
  {
   "cell_type": "markdown",
   "id": "b06a2c21-07e7-413a-ba76-c91aed108cf6",
   "metadata": {},
   "source": [
    "## Processing"
   ]
  },
  {
   "cell_type": "code",
   "execution_count": 31,
   "id": "028dfbe3-11ea-4abe-b2f8-8bffb67417c9",
   "metadata": {},
   "outputs": [],
   "source": [
    "def gunzip_file(source_path, dest_path):\n",
    "    assert source_path.lower().endswith('.csv.gz')\n",
    "    \n",
    "    # create a destination folder\n",
    "    utils.create_dir(file=dest_path)\n",
    "    \n",
    "    try:\n",
    "        with gzip.open(source_path, 'r') as f_in:\n",
    "            with open(dest_path, 'wb') as f_out:\n",
    "                shutil.copyfileobj(f_in, f_out)\n",
    "    except Exception:\n",
    "        # don't leave a corrupt file half-written\n",
    "        if os.path.exists(dest_path):\n",
    "            os.remove(dest_path)\n",
    "        raise\n",
    "\n",
    "def csv_gz_to_parquet(table):\n",
    "    # source and dest schema are the same, except for datetimes\n",
    "    source_schema = {c: aemo_type_to_polars_type(t['AEMO_type'], date_as_str=True, tz=None) for (c,t) in schemas[table]['columns'].items()}\n",
    "    dest_schema = {c: aemo_type_to_polars_type(t['AEMO_type'], date_as_str=False, tz='Australia/Brisbane') for (c,t) in schemas[table]['columns'].items()}\n",
    "\n",
    "    table_csv_gz_dir = os.path.join(all_csv_gz_dir, table)\n",
    "    table_csv_gz_archive = os.path.join(all_csv_gz_archive, table)\n",
    "    table_csv_dir = os.path.join(all_csv_dir, table)\n",
    "    table_parquet_batched_dir = os.path.join(all_parquet_batch_dir, table)\n",
    "\n",
    "    cols_to_drop = get_cols_to_drop(table)\n",
    "    \n",
    "    logger.info(f\"Converting {table} from .csv.gz in {table_csv_gz_dir} to .csv in{table_csv_dir} then to .parquet in {table_parquet_batched_dir}\")\n",
    "\n",
    "    csv_gz_paths_unbatched = []\n",
    "    csvgz_size = 0\n",
    "    for (dir,subdirs,files) in os.walk(table_csv_gz_dir):\n",
    "            for file in files:\n",
    "                path = os.path.join(dir, file)\n",
    "                csv_gz_paths_unbatched.append(path)\n",
    "                csvgz_size = csvgz_size + os.path.getsize(path)\n",
    "    assert len(csv_gz_paths_unbatched) > 0, f\"No files found in {table_csv_gz_dir}\"\n",
    "    # make batch sizes (by bytes) more consistent\n",
    "    shuffle(csv_gz_paths_unbatched)\n",
    "\n",
    "    # calculate batch size\n",
    "    # min of:\n",
    "    #  max_batch_size\n",
    "    #  whatever results in uncompressed CSVs taking up too much space\n",
    "    \n",
    "    # emperically, this is the effectiveness of our gzip algorithm\n",
    "    compression_ratio = 30\n",
    "    \n",
    "    # emperically, polars can't handle more than this many files at once\n",
    "    # (approximate)\n",
    "    # https://github.com/pola-rs/polars/issues\n",
    "    # 10000 is the limit normally\n",
    "    if table in ['DISPATCHLOAD', 'BIDDAYOFFER']:\n",
    "        # these tables are huge. >10GB compressed\n",
    "        # I'm not sure why, but polars was freezing a lot. Dropping this helped,\n",
    "        # at the cost of disk usage and write speed, read speed\n",
    "        # so don't do this for most tables.\n",
    "        # The resulting files were still a reasonable size.\n",
    "        # (We don't want parquet <10MB)\n",
    "        max_batch_size = 20\n",
    "    else:\n",
    "        max_batch_size = 10000\n",
    "\n",
    "    # choose batch size based on how much free disk space we have\n",
    "    free_bytes = shutil.disk_usage(all_csv_dir).free\n",
    "    free_bytes = free_bytes / 2 # leave room for CSV + parquet + extra\n",
    "    \n",
    "    # figure out total uncompressed size\n",
    "    uncompressed_size = csvgz_size * compression_ratio\n",
    "\n",
    "    # divide to get number of batches\n",
    "    num_batches = uncompressed_size / free_bytes\n",
    "\n",
    "    batch_size = math.ceil(len(csv_gz_paths_unbatched) / num_batches)\n",
    "    batch_size = min(batch_size, max_batch_size)\n",
    "    num_batches = math.ceil(len(csv_gz_paths_unbatched) / batch_size)\n",
    "\n",
    "    logger.info(f\"For table {table}, {len(csv_gz_paths_unbatched)} .csv.gz files totaling {csvgz_size} bytes, estimating {uncompressed_size=}, {num_batches=}, so choosing {batch_size=}\")\n",
    "\n",
    "    # remove files from previous run\n",
    "    shutil.rmtree(table_csv_dir, ignore_errors=True)\n",
    "    shutil.rmtree(table_parquet_batched_dir, ignore_errors=True)\n",
    "    utils.create_dir(table_parquet_batched_dir)\n",
    "    \n",
    "    for (batch_num, csv_gz_paths) in enumerate(utils.batched(csv_gz_paths_unbatched, batch_size), start=1):\n",
    "        logger.info(f\"Unzipping {len(csv_gz_paths)} CSV.gz in batch {batch_num}/{num_batches} for {table}\\n\")\n",
    "\n",
    "        assert all(p.lower().endswith('.csv.gz') for p in csv_gz_paths), f\"Found a file in {table_csv_gz_dir} which does not end in .csv.gz\"\n",
    "        csv_paths = [os.path.join(table_csv_dir, os.path.relpath(path=csv_gz_path, start=table_csv_gz_dir)).replace('.gz', '') for csv_gz_path in csv_gz_paths]\n",
    "\n",
    "        with Pool() as p:\n",
    "            p.starmap(gunzip_file, zip(csv_gz_paths, csv_paths))\n",
    "\n",
    "        logger.info(f\"Scanning {len(csv_gz_paths)} CSVs in batch {batch_num}/{num_batches} for {table}\\n\")\n",
    "        datasets = []\n",
    "        for (csv_gz_path, csv_path) in zip(csv_gz_paths, csv_paths):\n",
    "            \n",
    "            match = re.search(f\"/{version_col_name}=(\\d+)/\", csv_path)\n",
    "            assert match, f\"Unable to extract schema version from {csv_path}\"\n",
    "            schema_version = int(match.group(1))\n",
    "    \n",
    "            match = re.search(f\"/{top_timestamp_col_name}=([\\d_]+)/\", csv_path)\n",
    "            assert match, f\"Unable to extract top_timestamp from {csv_path}\"\n",
    "            top_timestamp = match.group(1)\n",
    "\n",
    "            gunzip_file(source_path=csv_gz_path, dest_path=csv_path)\n",
    "    \n",
    "            ds = pl.scan_csv(csv_path, dtypes=source_schema, try_parse_dates=False, low_memory=True)\n",
    "            ds = ds.with_columns(pl.lit(schema_version, dtype=pl.UInt8()).alias(version_col_name))\n",
    "            ds = ds.with_columns(pl.lit(top_timestamp, dtype=pl.String()).alias(top_timestamp_col_name))\n",
    "\n",
    "            assert ds.fetch().shape[0] > 0, f\"File {csv_path} = {csv_gz_path} has no data rows\"\n",
    "            \n",
    "            datasets.append(ds)\n",
    "        logger.info(f\"Scanned {len(csv_gz_paths)} CSVs in batch {batch_num}/{num_batches} for {table}\\n\")\n",
    "    \n",
    "        assert len(datasets) > 0, f\"No CSV files found for {table}?\"\n",
    "    \n",
    "        ds = pl.concat(datasets, how='diagonal')\n",
    "\n",
    "        # drop columns we don't need (in the biggest tables)\n",
    "        for col in cols_to_drop:\n",
    "            if col in ds.columns:\n",
    "                ds = ds.select(pl.exclude(col))\n",
    "    \n",
    "        # parse datetimes into actual datetime\n",
    "        for (c,s) in dest_schema.items():\n",
    "            if isinstance(s['AEMO_type'], pl.Datetime):\n",
    "                ds = ds.with_columns(pl.col(c).str.strptime(pl.Datetime, \"%Y/%m/%d %H:%M:%S\", strict=False).dt.replace_time_zone(time_zone=\"Australia/Brisbane\"))\n",
    "\n",
    "\n",
    "        assert ds.fetch().shape[0] > 0, f\"Combined df for {table} has no data rows\"\n",
    "        assert ds.fetch().shape[0] > 0, f\"Combined df for {table} has no data rows\"\n",
    "        \n",
    "        \n",
    "        pq_path = os.path.join(table_parquet_batched_dir, f\"{batch_num:04}.parquet\")\n",
    "    \n",
    "        logger.info(f\"Beginning processing of {len(datasets)} CSVs in batch {batch_num} for {table}\\n\")\n",
    "        try:\n",
    "            ds.sink_parquet(pq_path)\n",
    "        except pl.ComputeError as ex:\n",
    "            # tidy up. Don't leave a corrupt file there\n",
    "            if os.path.exists(pq_path):\n",
    "                os.remove(pq_path)\n",
    "                \n",
    "            # sometimes AEMO data has a float when we expect an int\n",
    "            logger.exception(ex)\n",
    "            match = re.search(r\"could not parse `(\\d+)\\.(\\d+)` as dtype `[iu]\\d+` at column '([_\\w]+)'\", str(ex))\n",
    "            if match:\n",
    "                print(ex)\n",
    "                whole_digits = int(match.group(1))\n",
    "                decimal_digits = int(match.group(2))\n",
    "                col = match.group(3)\n",
    "                logger.warn(f\"Changing column {col} in {table} from {schemas[table]['columns'][col]['AEMO_type']} to float\")\n",
    "                schemas[table]['columns'][col]['AEMO_type'] = f\"NUMBER({whole_digits},{decimal_digits})\"\n",
    "                return csv_gz_to_parquet(table)\n",
    "            else:\n",
    "                raise\n",
    "        else:\n",
    "            # validate that what we just wrote was not corrupt\n",
    "            # nor empty\n",
    "            assert pl.scan_parquet(pq_path).fetch().shape[0] > 0, f\"No rows found in {pq_path} from {csv_paths}\"\n",
    "            shutil.rmtree(table_csv_dir)\n",
    "\n",
    "    \n",
    "    # move the source .csv.gz files to another directory\n",
    "    # so if we fail on the nth table and retry\n",
    "    # we don't reprocess this table\n",
    "    utils.create_dir(table_csv_gz_archive)\n",
    "    os.rename(table_csv_gz_dir, table_csv_gz_archive)\n",
    "    \n",
    "    logger.info(f\"Finished converting table {table} from .csv.gz to .parquet\")\n"
   ]
  },
  {
   "cell_type": "code",
   "execution_count": 32,
   "id": "db1342ff-5726-4d13-be9c-e368514eb6de",
   "metadata": {
    "collapsed": true,
    "jupyter": {
     "outputs_hidden": true
    }
   },
   "outputs": [
    {
     "ename": "AssertionError",
     "evalue": "No rows found in /home/matthew/data/01-D-parquet-batches/IRFMAMOUNT/0001.parquet from ['/home/matthew/data/01-D-gunzipped-csv/IRFMAMOUNT/SCHEMA_VERSION=1/TOP_TIMESTAMP=2012_09_07_04_47_00/PUBLIC_DVD_IRFMAMOUNT_201208010000.CSV', '/home/matthew/data/01-D-gunzipped-csv/IRFMAMOUNT/SCHEMA_VERSION=1/TOP_TIMESTAMP=2014_07_07_01_50_05/PUBLIC_DVD_IRFMAMOUNT_201406010000.CSV', '/home/matthew/data/01-D-gunzipped-csv/IRFMAMOUNT/SCHEMA_VERSION=1/TOP_TIMESTAMP=2017_03_01_00_35_04/PUBLIC_DVD_IRFMAMOUNT_201609010000.CSV', '/home/matthew/data/01-D-gunzipped-csv/IRFMAMOUNT/SCHEMA_VERSION=1/TOP_TIMESTAMP=2012_05_07_01_09_54/PUBLIC_DVD_IRFMAMOUNT_201204010000.CSV', '/home/matthew/data/01-D-gunzipped-csv/IRFMAMOUNT/SCHEMA_VERSION=1/TOP_TIMESTAMP=2022_01_21_00_30_06/PUBLIC_DVD_IRFMAMOUNT_202112010000.CSV', '/home/matthew/data/01-D-gunzipped-csv/IRFMAMOUNT/SCHEMA_VERSION=1/TOP_TIMESTAMP=2010_06_07_01_03_21/PUBLIC_DVD_IRFMAMOUNT_201005010000.CSV', '/home/matthew/data/01-D-gunzipped-csv/IRFMAMOUNT/SCHEMA_VERSION=1/TOP_TIMESTAMP=2014_10_07_00_30_06/PUBLIC_DVD_IRFMAMOUNT_201409010000.CSV', '/home/matthew/data/01-D-gunzipped-csv/IRFMAMOUNT/SCHEMA_VERSION=1/TOP_TIMESTAMP=2021_10_07_00_30_05/PUBLIC_DVD_IRFMAMOUNT_202109010000.CSV', '/home/matthew/data/01-D-gunzipped-csv/IRFMAMOUNT/SCHEMA_VERSION=1/TOP_TIMESTAMP=2014_01_07_01_10_01/PUBLIC_DVD_IRFMAMOUNT_201312010000.CSV', '/home/matthew/data/01-D-gunzipped-csv/IRFMAMOUNT/SCHEMA_VERSION=1/TOP_TIMESTAMP=2016_02_07_00_45_06/PUBLIC_DVD_IRFMAMOUNT_201601010000.CSV', '/home/matthew/data/01-D-gunzipped-csv/IRFMAMOUNT/SCHEMA_VERSION=1/TOP_TIMESTAMP=2011_11_07_00_01_56/PUBLIC_DVD_IRFMAMOUNT_201110010000.CSV', '/home/matthew/data/01-D-gunzipped-csv/IRFMAMOUNT/SCHEMA_VERSION=1/TOP_TIMESTAMP=2009_08_07_01_16_07/PUBLIC_DVD_IRFMAMOUNT_200907010000.CSV', '/home/matthew/data/01-D-gunzipped-csv/IRFMAMOUNT/SCHEMA_VERSION=1/TOP_TIMESTAMP=2015_04_07_00_35_09/PUBLIC_DVD_IRFMAMOUNT_201503010000.CSV', '/home/matthew/data/01-D-gunzipped-csv/IRFMAMOUNT/SCHEMA_VERSION=1/TOP_TIMESTAMP=2020_07_09_00_20_03/PUBLIC_DVD_IRFMAMOUNT_202006010000.CSV', '/home/matthew/data/01-D-gunzipped-csv/IRFMAMOUNT/SCHEMA_VERSION=1/TOP_TIMESTAMP=2012_01_07_01_01_58/PUBLIC_DVD_IRFMAMOUNT_201112010000.CSV', '/home/matthew/data/01-D-gunzipped-csv/IRFMAMOUNT/SCHEMA_VERSION=1/TOP_TIMESTAMP=2017_03_03_00_30_12/PUBLIC_DVD_IRFMAMOUNT_201610010000.CSV', '/home/matthew/data/01-D-gunzipped-csv/IRFMAMOUNT/SCHEMA_VERSION=1/TOP_TIMESTAMP=2011_04_07_01_01_50/PUBLIC_DVD_IRFMAMOUNT_201103010000.CSV', '/home/matthew/data/01-D-gunzipped-csv/IRFMAMOUNT/SCHEMA_VERSION=1/TOP_TIMESTAMP=2021_02_06_16_05_13/PUBLIC_DVD_IRFMAMOUNT_202101010000.CSV', '/home/matthew/data/01-D-gunzipped-csv/IRFMAMOUNT/SCHEMA_VERSION=1/TOP_TIMESTAMP=2010_09_07_00_58_21/PUBLIC_DVD_IRFMAMOUNT_201008010000.CSV', '/home/matthew/data/01-D-gunzipped-csv/IRFMAMOUNT/SCHEMA_VERSION=1/TOP_TIMESTAMP=2011_01_07_00_58_35/PUBLIC_DVD_IRFMAMOUNT_201012010000.CSV', '/home/matthew/data/01-D-gunzipped-csv/IRFMAMOUNT/SCHEMA_VERSION=1/TOP_TIMESTAMP=2013_05_07_00_57_54/PUBLIC_DVD_IRFMAMOUNT_201304010000.CSV', '/home/matthew/data/01-D-gunzipped-csv/IRFMAMOUNT/SCHEMA_VERSION=1/TOP_TIMESTAMP=2016_03_07_00_35_08/PUBLIC_DVD_IRFMAMOUNT_201602010000.CSV', '/home/matthew/data/01-D-gunzipped-csv/IRFMAMOUNT/SCHEMA_VERSION=1/TOP_TIMESTAMP=2019_08_07_12_20_00/PUBLIC_DVD_IRFMAMOUNT_201907010000.CSV', '/home/matthew/data/01-D-gunzipped-csv/IRFMAMOUNT/SCHEMA_VERSION=1/TOP_TIMESTAMP=2011_07_07_01_03_02/PUBLIC_DVD_IRFMAMOUNT_201106010000.CSV', '/home/matthew/data/01-D-gunzipped-csv/IRFMAMOUNT/SCHEMA_VERSION=1/TOP_TIMESTAMP=2018_11_08_00_05_04/PUBLIC_DVD_IRFMAMOUNT_201810010000.CSV', '/home/matthew/data/01-D-gunzipped-csv/IRFMAMOUNT/SCHEMA_VERSION=1/TOP_TIMESTAMP=2022_10_07_00_35_06/PUBLIC_DVD_IRFMAMOUNT_202209010000.CSV', '/home/matthew/data/01-D-gunzipped-csv/IRFMAMOUNT/SCHEMA_VERSION=1/TOP_TIMESTAMP=2015_12_07_02_00_10/PUBLIC_DVD_IRFMAMOUNT_201511010000.CSV', '/home/matthew/data/01-D-gunzipped-csv/IRFMAMOUNT/SCHEMA_VERSION=1/TOP_TIMESTAMP=2011_06_07_01_06_50/PUBLIC_DVD_IRFMAMOUNT_201105010000.CSV', '/home/matthew/data/01-D-gunzipped-csv/IRFMAMOUNT/SCHEMA_VERSION=1/TOP_TIMESTAMP=2011_02_07_01_08_40/PUBLIC_DVD_IRFMAMOUNT_201101010000.CSV', '/home/matthew/data/01-D-gunzipped-csv/IRFMAMOUNT/SCHEMA_VERSION=1/TOP_TIMESTAMP=2017_07_08_00_25_08/PUBLIC_DVD_IRFMAMOUNT_201706010000.CSV', '/home/matthew/data/01-D-gunzipped-csv/IRFMAMOUNT/SCHEMA_VERSION=1/TOP_TIMESTAMP=2020_09_08_00_40_12/PUBLIC_DVD_IRFMAMOUNT_202008010000.CSV', '/home/matthew/data/01-D-gunzipped-csv/IRFMAMOUNT/SCHEMA_VERSION=1/TOP_TIMESTAMP=2017_09_07_03_20_03/PUBLIC_DVD_IRFMAMOUNT_201708010000.CSV', '/home/matthew/data/01-D-gunzipped-csv/IRFMAMOUNT/SCHEMA_VERSION=1/TOP_TIMESTAMP=2012_07_07_01_17_02/PUBLIC_DVD_IRFMAMOUNT_201206010000.CSV', '/home/matthew/data/01-D-gunzipped-csv/IRFMAMOUNT/SCHEMA_VERSION=1/TOP_TIMESTAMP=2023_01_07_08_35_08/PUBLIC_DVD_IRFMAMOUNT_202212010000.CSV', '/home/matthew/data/01-D-gunzipped-csv/IRFMAMOUNT/SCHEMA_VERSION=1/TOP_TIMESTAMP=2019_05_08_00_35_05/PUBLIC_DVD_IRFMAMOUNT_201904010000.CSV', '/home/matthew/data/01-D-gunzipped-csv/IRFMAMOUNT/SCHEMA_VERSION=1/TOP_TIMESTAMP=2018_09_07_00_40_01/PUBLIC_DVD_IRFMAMOUNT_201808010000.CSV', '/home/matthew/data/01-D-gunzipped-csv/IRFMAMOUNT/SCHEMA_VERSION=1/TOP_TIMESTAMP=2013_06_07_01_01_11/PUBLIC_DVD_IRFMAMOUNT_201305010000.CSV', '/home/matthew/data/01-D-gunzipped-csv/IRFMAMOUNT/SCHEMA_VERSION=1/TOP_TIMESTAMP=2020_02_07_00_45_06/PUBLIC_DVD_IRFMAMOUNT_202001010000.CSV', '/home/matthew/data/01-D-gunzipped-csv/IRFMAMOUNT/SCHEMA_VERSION=1/TOP_TIMESTAMP=2021_07_12_13_35_06/PUBLIC_DVD_IRFMAMOUNT_202106010000.CSV', '/home/matthew/data/01-D-gunzipped-csv/IRFMAMOUNT/SCHEMA_VERSION=1/TOP_TIMESTAMP=2013_02_07_01_02_45/PUBLIC_DVD_IRFMAMOUNT_201301010000.CSV', '/home/matthew/data/01-D-gunzipped-csv/IRFMAMOUNT/SCHEMA_VERSION=1/TOP_TIMESTAMP=2010_12_07_01_01_46/PUBLIC_DVD_IRFMAMOUNT_201011010000.CSV', '/home/matthew/data/01-D-gunzipped-csv/IRFMAMOUNT/SCHEMA_VERSION=1/TOP_TIMESTAMP=2021_05_07_09_00_01/PUBLIC_DVD_IRFMAMOUNT_202104010000.CSV', '/home/matthew/data/01-D-gunzipped-csv/IRFMAMOUNT/SCHEMA_VERSION=1/TOP_TIMESTAMP=2013_09_07_01_01_57/PUBLIC_DVD_IRFMAMOUNT_201308010000.CSV', '/home/matthew/data/01-D-gunzipped-csv/IRFMAMOUNT/SCHEMA_VERSION=1/TOP_TIMESTAMP=2012_08_07_00_06_55/PUBLIC_DVD_IRFMAMOUNT_201207010000.CSV', '/home/matthew/data/01-D-gunzipped-csv/IRFMAMOUNT/SCHEMA_VERSION=1/TOP_TIMESTAMP=2018_08_07_00_40_00/PUBLIC_DVD_IRFMAMOUNT_201807010000.CSV', '/home/matthew/data/01-D-gunzipped-csv/IRFMAMOUNT/SCHEMA_VERSION=1/TOP_TIMESTAMP=2023_05_09_16_35_11/PUBLIC_DVD_IRFMAMOUNT_202304010000.CSV', '/home/matthew/data/01-D-gunzipped-csv/IRFMAMOUNT/SCHEMA_VERSION=1/TOP_TIMESTAMP=2023_08_08_02_20_08/PUBLIC_DVD_IRFMAMOUNT_202307010000.CSV', '/home/matthew/data/01-D-gunzipped-csv/IRFMAMOUNT/SCHEMA_VERSION=1/TOP_TIMESTAMP=2018_02_08_00_05_03/PUBLIC_DVD_IRFMAMOUNT_201801010000.CSV', '/home/matthew/data/01-D-gunzipped-csv/IRFMAMOUNT/SCHEMA_VERSION=1/TOP_TIMESTAMP=2013_11_07_01_03_05/PUBLIC_DVD_IRFMAMOUNT_201310010000.CSV', '/home/matthew/data/01-D-gunzipped-csv/IRFMAMOUNT/SCHEMA_VERSION=1/TOP_TIMESTAMP=2015_10_07_00_35_03/PUBLIC_DVD_IRFMAMOUNT_201509010000.CSV', '/home/matthew/data/01-D-gunzipped-csv/IRFMAMOUNT/SCHEMA_VERSION=1/TOP_TIMESTAMP=2019_03_02_00_45_05/PUBLIC_DVD_IRFMAMOUNT_201901010000.CSV', '/home/matthew/data/01-D-gunzipped-csv/IRFMAMOUNT/SCHEMA_VERSION=1/TOP_TIMESTAMP=2017_06_07_04_00_00/PUBLIC_DVD_IRFMAMOUNT_201705010000.CSV', '/home/matthew/data/01-D-gunzipped-csv/IRFMAMOUNT/SCHEMA_VERSION=1/TOP_TIMESTAMP=2022_07_13_00_35_02/PUBLIC_DVD_IRFMAMOUNT_202206010000.CSV', '/home/matthew/data/01-D-gunzipped-csv/IRFMAMOUNT/SCHEMA_VERSION=1/TOP_TIMESTAMP=2017_10_07_19_55_06/PUBLIC_DVD_IRFMAMOUNT_201709010000.CSV', '/home/matthew/data/01-D-gunzipped-csv/IRFMAMOUNT/SCHEMA_VERSION=1/TOP_TIMESTAMP=2013_07_07_00_56_02/PUBLIC_DVD_IRFMAMOUNT_201306010000.CSV', '/home/matthew/data/01-D-gunzipped-csv/IRFMAMOUNT/SCHEMA_VERSION=1/TOP_TIMESTAMP=2014_03_19_10_05_02/PUBLIC_DVD_IRFMAMOUNT_201402010000.CSV', '/home/matthew/data/01-D-gunzipped-csv/IRFMAMOUNT/SCHEMA_VERSION=1/TOP_TIMESTAMP=2021_02_01_16_50_04/PUBLIC_DVD_IRFMAMOUNT_202012010000.CSV', '/home/matthew/data/01-D-gunzipped-csv/IRFMAMOUNT/SCHEMA_VERSION=1/TOP_TIMESTAMP=2022_12_07_00_40_08/PUBLIC_DVD_IRFMAMOUNT_202211010000.CSV', '/home/matthew/data/01-D-gunzipped-csv/IRFMAMOUNT/SCHEMA_VERSION=1/TOP_TIMESTAMP=2016_07_07_18_20_05/PUBLIC_DVD_IRFMAMOUNT_201606010000.CSV', '/home/matthew/data/01-D-gunzipped-csv/IRFMAMOUNT/SCHEMA_VERSION=1/TOP_TIMESTAMP=2020_01_07_01_00_05/PUBLIC_DVD_IRFMAMOUNT_201912010000.CSV', '/home/matthew/data/01-D-gunzipped-csv/IRFMAMOUNT/SCHEMA_VERSION=1/TOP_TIMESTAMP=2010_05_07_00_58_22/PUBLIC_DVD_IRFMAMOUNT_201004010000.CSV', '/home/matthew/data/01-D-gunzipped-csv/IRFMAMOUNT/SCHEMA_VERSION=1/TOP_TIMESTAMP=2019_03_02_02_55_12/PUBLIC_DVD_IRFMAMOUNT_201812010000.CSV', '/home/matthew/data/01-D-gunzipped-csv/IRFMAMOUNT/SCHEMA_VERSION=1/TOP_TIMESTAMP=2010_02_07_00_27_44/PUBLIC_DVD_IRFMAMOUNT_201001010000.CSV', '/home/matthew/data/01-D-gunzipped-csv/IRFMAMOUNT/SCHEMA_VERSION=1/TOP_TIMESTAMP=2021_12_07_00_00_05/PUBLIC_DVD_IRFMAMOUNT_202111010000.CSV', '/home/matthew/data/01-D-gunzipped-csv/IRFMAMOUNT/SCHEMA_VERSION=1/TOP_TIMESTAMP=2021_04_07_00_30_00/PUBLIC_DVD_IRFMAMOUNT_202103010000.CSV', '/home/matthew/data/01-D-gunzipped-csv/IRFMAMOUNT/SCHEMA_VERSION=1/TOP_TIMESTAMP=2016_08_07_00_05_06/PUBLIC_DVD_IRFMAMOUNT_201607010000.CSV', '/home/matthew/data/01-D-gunzipped-csv/IRFMAMOUNT/SCHEMA_VERSION=1/TOP_TIMESTAMP=2021_06_06_16_50_05/PUBLIC_DVD_IRFMAMOUNT_202105010000.CSV', '/home/matthew/data/01-D-gunzipped-csv/IRFMAMOUNT/SCHEMA_VERSION=1/TOP_TIMESTAMP=2023_06_09_11_30_03/PUBLIC_DVD_IRFMAMOUNT_202305010000.CSV', '/home/matthew/data/01-D-gunzipped-csv/IRFMAMOUNT/SCHEMA_VERSION=1/TOP_TIMESTAMP=2016_04_07_00_35_05/PUBLIC_DVD_IRFMAMOUNT_201603010000.CSV', '/home/matthew/data/01-D-gunzipped-csv/IRFMAMOUNT/SCHEMA_VERSION=1/TOP_TIMESTAMP=2017_11_11_10_25_03/PUBLIC_DVD_IRFMAMOUNT_201710010000.CSV', '/home/matthew/data/01-D-gunzipped-csv/IRFMAMOUNT/SCHEMA_VERSION=1/TOP_TIMESTAMP=2014_08_07_00_40_05/PUBLIC_DVD_IRFMAMOUNT_201407010000.CSV', '/home/matthew/data/01-D-gunzipped-csv/IRFMAMOUNT/SCHEMA_VERSION=1/TOP_TIMESTAMP=2016_09_14_00_40_01/PUBLIC_DVD_IRFMAMOUNT_201608010000.CSV', '/home/matthew/data/01-D-gunzipped-csv/IRFMAMOUNT/SCHEMA_VERSION=1/TOP_TIMESTAMP=2023_11_07_05_15_05/PUBLIC_DVD_IRFMAMOUNT_202310010000.CSV', '/home/matthew/data/01-D-gunzipped-csv/IRFMAMOUNT/SCHEMA_VERSION=1/TOP_TIMESTAMP=2010_03_07_00_51_16/PUBLIC_DVD_IRFMAMOUNT_201002010000.CSV', '/home/matthew/data/01-D-gunzipped-csv/IRFMAMOUNT/SCHEMA_VERSION=1/TOP_TIMESTAMP=2012_04_07_01_04_58/PUBLIC_DVD_IRFMAMOUNT_201203010000.CSV', '/home/matthew/data/01-D-gunzipped-csv/IRFMAMOUNT/SCHEMA_VERSION=1/TOP_TIMESTAMP=2009_10_07_00_17_34/PUBLIC_DVD_IRFMAMOUNT_200909010000.CSV', '/home/matthew/data/01-D-gunzipped-csv/IRFMAMOUNT/SCHEMA_VERSION=1/TOP_TIMESTAMP=2020_04_07_00_55_06/PUBLIC_DVD_IRFMAMOUNT_202003010000.CSV', '/home/matthew/data/01-D-gunzipped-csv/IRFMAMOUNT/SCHEMA_VERSION=1/TOP_TIMESTAMP=2012_06_07_01_07_00/PUBLIC_DVD_IRFMAMOUNT_201205010000.CSV', '/home/matthew/data/01-D-gunzipped-csv/IRFMAMOUNT/SCHEMA_VERSION=1/TOP_TIMESTAMP=2022_08_09_00_00_11/PUBLIC_DVD_IRFMAMOUNT_202207010000.CSV', '/home/matthew/data/01-D-gunzipped-csv/IRFMAMOUNT/SCHEMA_VERSION=1/TOP_TIMESTAMP=2022_09_07_00_45_10/PUBLIC_DVD_IRFMAMOUNT_202208010000.CSV', '/home/matthew/data/01-D-gunzipped-csv/IRFMAMOUNT/SCHEMA_VERSION=1/TOP_TIMESTAMP=2011_03_07_00_58_46/PUBLIC_DVD_IRFMAMOUNT_201102010000.CSV', '/home/matthew/data/01-D-gunzipped-csv/IRFMAMOUNT/SCHEMA_VERSION=1/TOP_TIMESTAMP=2019_04_30_00_35_05/PUBLIC_DVD_IRFMAMOUNT_201903010000.CSV', '/home/matthew/data/01-D-gunzipped-csv/IRFMAMOUNT/SCHEMA_VERSION=1/TOP_TIMESTAMP=2017_12_12_00_05_00/PUBLIC_DVD_IRFMAMOUNT_201711010000.CSV', '/home/matthew/data/01-D-gunzipped-csv/IRFMAMOUNT/SCHEMA_VERSION=1/TOP_TIMESTAMP=2014_06_07_00_35_04/PUBLIC_DVD_IRFMAMOUNT_201405010000.CSV', '/home/matthew/data/01-D-gunzipped-csv/IRFMAMOUNT/SCHEMA_VERSION=1/TOP_TIMESTAMP=2017_03_03_06_15_10/PUBLIC_DVD_IRFMAMOUNT_201612010000.CSV', '/home/matthew/data/01-D-gunzipped-csv/IRFMAMOUNT/SCHEMA_VERSION=1/TOP_TIMESTAMP=2013_10_07_01_15_14/PUBLIC_DVD_IRFMAMOUNT_201309010000.CSV', '/home/matthew/data/01-D-gunzipped-csv/IRFMAMOUNT/SCHEMA_VERSION=1/TOP_TIMESTAMP=2014_12_07_00_35_00/PUBLIC_DVD_IRFMAMOUNT_201411010000.CSV', '/home/matthew/data/01-D-gunzipped-csv/IRFMAMOUNT/SCHEMA_VERSION=1/TOP_TIMESTAMP=2011_09_07_00_55_46/PUBLIC_DVD_IRFMAMOUNT_201108010000.CSV', '/home/matthew/data/01-D-gunzipped-csv/IRFMAMOUNT/SCHEMA_VERSION=1/TOP_TIMESTAMP=2010_10_07_01_42_05/PUBLIC_DVD_IRFMAMOUNT_201009010000.CSV', '/home/matthew/data/01-D-gunzipped-csv/IRFMAMOUNT/SCHEMA_VERSION=1/TOP_TIMESTAMP=2018_01_09_00_35_12/PUBLIC_DVD_IRFMAMOUNT_201712010000.CSV', '/home/matthew/data/01-D-gunzipped-csv/IRFMAMOUNT/SCHEMA_VERSION=1/TOP_TIMESTAMP=2015_05_07_00_35_01/PUBLIC_DVD_IRFMAMOUNT_201504010000.CSV', '/home/matthew/data/01-D-gunzipped-csv/IRFMAMOUNT/SCHEMA_VERSION=1/TOP_TIMESTAMP=2023_03_07_00_30_16/PUBLIC_DVD_IRFMAMOUNT_202302010000.CSV', '/home/matthew/data/01-D-gunzipped-csv/IRFMAMOUNT/SCHEMA_VERSION=1/TOP_TIMESTAMP=2009_12_09_14_45_25/PUBLIC_DVD_IRFMAMOUNT_200911010000.CSV', '/home/matthew/data/01-D-gunzipped-csv/IRFMAMOUNT/SCHEMA_VERSION=1/TOP_TIMESTAMP=2012_11_07_01_01_55/PUBLIC_DVD_IRFMAMOUNT_201210010000.CSV', '/home/matthew/data/01-D-gunzipped-csv/IRFMAMOUNT/SCHEMA_VERSION=1/TOP_TIMESTAMP=2011_10_07_01_01_53/PUBLIC_DVD_IRFMAMOUNT_201109010000.CSV', '/home/matthew/data/01-D-gunzipped-csv/IRFMAMOUNT/SCHEMA_VERSION=1/TOP_TIMESTAMP=2015_03_07_00_30_07/PUBLIC_DVD_IRFMAMOUNT_201502010000.CSV', '/home/matthew/data/01-D-gunzipped-csv/IRFMAMOUNT/SCHEMA_VERSION=1/TOP_TIMESTAMP=2012_03_07_00_09_53/PUBLIC_DVD_IRFMAMOUNT_201202010000.CSV', '/home/matthew/data/01-D-gunzipped-csv/IRFMAMOUNT/SCHEMA_VERSION=1/TOP_TIMESTAMP=2018_05_08_00_30_02/PUBLIC_DVD_IRFMAMOUNT_201804010000.CSV', '/home/matthew/data/01-D-gunzipped-csv/IRFMAMOUNT/SCHEMA_VERSION=1/TOP_TIMESTAMP=2013_03_07_00_57_21/PUBLIC_DVD_IRFMAMOUNT_201302010000.CSV', '/home/matthew/data/01-D-gunzipped-csv/IRFMAMOUNT/SCHEMA_VERSION=1/TOP_TIMESTAMP=2015_01_07_02_10_06/PUBLIC_DVD_IRFMAMOUNT_201412010000.CSV', '/home/matthew/data/01-D-gunzipped-csv/IRFMAMOUNT/SCHEMA_VERSION=1/TOP_TIMESTAMP=2009_11_07_00_59_00/PUBLIC_DVD_IRFMAMOUNT_200910010000.CSV', '/home/matthew/data/01-D-gunzipped-csv/IRFMAMOUNT/SCHEMA_VERSION=1/TOP_TIMESTAMP=2015_09_07_01_50_01/PUBLIC_DVD_IRFMAMOUNT_201508010000.CSV', '/home/matthew/data/01-D-gunzipped-csv/IRFMAMOUNT/SCHEMA_VERSION=1/TOP_TIMESTAMP=2023_12_07_00_35_12/PUBLIC_DVD_IRFMAMOUNT_202311010000.CSV', '/home/matthew/data/01-D-gunzipped-csv/IRFMAMOUNT/SCHEMA_VERSION=1/TOP_TIMESTAMP=2020_06_16_00_45_07/PUBLIC_DVD_IRFMAMOUNT_202005010000.CSV', '/home/matthew/data/01-D-gunzipped-csv/IRFMAMOUNT/SCHEMA_VERSION=1/TOP_TIMESTAMP=2023_09_07_00_00_06/PUBLIC_DVD_IRFMAMOUNT_202308010000.CSV', '/home/matthew/data/01-D-gunzipped-csv/IRFMAMOUNT/SCHEMA_VERSION=1/TOP_TIMESTAMP=2014_02_07_00_40_02/PUBLIC_DVD_IRFMAMOUNT_201401010000.CSV', '/home/matthew/data/01-D-gunzipped-csv/IRFMAMOUNT/SCHEMA_VERSION=1/TOP_TIMESTAMP=2020_05_07_00_40_08/PUBLIC_DVD_IRFMAMOUNT_202004010000.CSV', '/home/matthew/data/01-D-gunzipped-csv/IRFMAMOUNT/SCHEMA_VERSION=1/TOP_TIMESTAMP=2011_05_07_01_01_49/PUBLIC_DVD_IRFMAMOUNT_201104010000.CSV', '/home/matthew/data/01-D-gunzipped-csv/IRFMAMOUNT/SCHEMA_VERSION=1/TOP_TIMESTAMP=2021_03_06_15_45_04/PUBLIC_DVD_IRFMAMOUNT_202102010000.CSV', '/home/matthew/data/01-D-gunzipped-csv/IRFMAMOUNT/SCHEMA_VERSION=1/TOP_TIMESTAMP=2013_08_07_01_01_05/PUBLIC_DVD_IRFMAMOUNT_201307010000.CSV', '/home/matthew/data/01-D-gunzipped-csv/IRFMAMOUNT/SCHEMA_VERSION=1/TOP_TIMESTAMP=2018_04_12_00_40_04/PUBLIC_DVD_IRFMAMOUNT_201803010000.CSV', '/home/matthew/data/01-D-gunzipped-csv/IRFMAMOUNT/SCHEMA_VERSION=1/TOP_TIMESTAMP=2019_11_07_00_35_01/PUBLIC_DVD_IRFMAMOUNT_201910010000.CSV', '/home/matthew/data/01-D-gunzipped-csv/IRFMAMOUNT/SCHEMA_VERSION=1/TOP_TIMESTAMP=2015_06_07_00_35_01/PUBLIC_DVD_IRFMAMOUNT_201505010000.CSV', '/home/matthew/data/01-D-gunzipped-csv/IRFMAMOUNT/SCHEMA_VERSION=1/TOP_TIMESTAMP=2010_04_07_00_34_57/PUBLIC_DVD_IRFMAMOUNT_201003010000.CSV', '/home/matthew/data/01-D-gunzipped-csv/IRFMAMOUNT/SCHEMA_VERSION=1/TOP_TIMESTAMP=2021_09_07_00_50_09/PUBLIC_DVD_IRFMAMOUNT_202108010000.CSV', '/home/matthew/data/01-D-gunzipped-csv/IRFMAMOUNT/SCHEMA_VERSION=1/TOP_TIMESTAMP=2019_06_07_11_25_12/PUBLIC_DVD_IRFMAMOUNT_201905010000.CSV', '/home/matthew/data/01-D-gunzipped-csv/IRFMAMOUNT/SCHEMA_VERSION=1/TOP_TIMESTAMP=2012_10_07_00_56_55/PUBLIC_DVD_IRFMAMOUNT_201209010000.CSV', '/home/matthew/data/01-D-gunzipped-csv/IRFMAMOUNT/SCHEMA_VERSION=1/TOP_TIMESTAMP=2022_02_08_00_30_05/PUBLIC_DVD_IRFMAMOUNT_202201010000.CSV', '/home/matthew/data/01-D-gunzipped-csv/IRFMAMOUNT/SCHEMA_VERSION=1/TOP_TIMESTAMP=2014_11_07_00_40_06/PUBLIC_DVD_IRFMAMOUNT_201410010000.CSV', '/home/matthew/data/01-D-gunzipped-csv/IRFMAMOUNT/SCHEMA_VERSION=1/TOP_TIMESTAMP=2023_02_07_00_30_14/PUBLIC_DVD_IRFMAMOUNT_202301010000.CSV', '/home/matthew/data/01-D-gunzipped-csv/IRFMAMOUNT/SCHEMA_VERSION=1/TOP_TIMESTAMP=2017_04_12_00_30_01/PUBLIC_DVD_IRFMAMOUNT_201703010000.CSV', '/home/matthew/data/01-D-gunzipped-csv/IRFMAMOUNT/SCHEMA_VERSION=1/TOP_TIMESTAMP=2015_07_07_00_35_00/PUBLIC_DVD_IRFMAMOUNT_201506010000.CSV', '/home/matthew/data/01-D-gunzipped-csv/IRFMAMOUNT/SCHEMA_VERSION=1/TOP_TIMESTAMP=2009_09_07_00_13_33/PUBLIC_DVD_IRFMAMOUNT_200908010000.CSV', '/home/matthew/data/01-D-gunzipped-csv/IRFMAMOUNT/SCHEMA_VERSION=1/TOP_TIMESTAMP=2014_09_07_00_35_03/PUBLIC_DVD_IRFMAMOUNT_201408010000.CSV', '/home/matthew/data/01-D-gunzipped-csv/IRFMAMOUNT/SCHEMA_VERSION=1/TOP_TIMESTAMP=2013_04_07_01_04_59/PUBLIC_DVD_IRFMAMOUNT_201303010000.CSV', '/home/matthew/data/01-D-gunzipped-csv/IRFMAMOUNT/SCHEMA_VERSION=1/TOP_TIMESTAMP=2022_06_07_00_30_02/PUBLIC_DVD_IRFMAMOUNT_202205010000.CSV', '/home/matthew/data/01-D-gunzipped-csv/IRFMAMOUNT/SCHEMA_VERSION=1/TOP_TIMESTAMP=2010_07_07_00_00_42/PUBLIC_DVD_IRFMAMOUNT_201006010000.CSV', '/home/matthew/data/01-D-gunzipped-csv/IRFMAMOUNT/SCHEMA_VERSION=1/TOP_TIMESTAMP=2022_05_07_00_30_05/PUBLIC_DVD_IRFMAMOUNT_202204010000.CSV', '/home/matthew/data/01-D-gunzipped-csv/IRFMAMOUNT/SCHEMA_VERSION=1/TOP_TIMESTAMP=2017_05_09_00_00_08/PUBLIC_DVD_IRFMAMOUNT_201704010000.CSV', '/home/matthew/data/01-D-gunzipped-csv/IRFMAMOUNT/SCHEMA_VERSION=1/TOP_TIMESTAMP=2016_01_07_00_40_05/PUBLIC_DVD_IRFMAMOUNT_201512010000.CSV', '/home/matthew/data/01-D-gunzipped-csv/IRFMAMOUNT/SCHEMA_VERSION=1/TOP_TIMESTAMP=2022_03_07_03_45_04/PUBLIC_DVD_IRFMAMOUNT_202202010000.CSV', '/home/matthew/data/01-D-gunzipped-csv/IRFMAMOUNT/SCHEMA_VERSION=1/TOP_TIMESTAMP=2022_11_08_00_25_07/PUBLIC_DVD_IRFMAMOUNT_202210010000.CSV', '/home/matthew/data/01-D-gunzipped-csv/IRFMAMOUNT/SCHEMA_VERSION=1/TOP_TIMESTAMP=2010_08_07_00_55_17/PUBLIC_DVD_IRFMAMOUNT_201007010000.CSV', '/home/matthew/data/01-D-gunzipped-csv/IRFMAMOUNT/SCHEMA_VERSION=1/TOP_TIMESTAMP=2019_10_05_00_30_04/PUBLIC_DVD_IRFMAMOUNT_201909010000.CSV', '/home/matthew/data/01-D-gunzipped-csv/IRFMAMOUNT/SCHEMA_VERSION=1/TOP_TIMESTAMP=2019_03_09_00_30_07/PUBLIC_DVD_IRFMAMOUNT_201902010000.CSV', '/home/matthew/data/01-D-gunzipped-csv/IRFMAMOUNT/SCHEMA_VERSION=1/TOP_TIMESTAMP=2023_04_07_00_40_09/PUBLIC_DVD_IRFMAMOUNT_202303010000.CSV', '/home/matthew/data/01-D-gunzipped-csv/IRFMAMOUNT/SCHEMA_VERSION=1/TOP_TIMESTAMP=2020_08_07_00_05_05/PUBLIC_DVD_IRFMAMOUNT_202007010000.CSV', '/home/matthew/data/01-D-gunzipped-csv/IRFMAMOUNT/SCHEMA_VERSION=1/TOP_TIMESTAMP=2018_06_07_00_35_01/PUBLIC_DVD_IRFMAMOUNT_201805010000.CSV', '/home/matthew/data/01-D-gunzipped-csv/IRFMAMOUNT/SCHEMA_VERSION=1/TOP_TIMESTAMP=2019_12_07_00_40_01/PUBLIC_DVD_IRFMAMOUNT_201911010000.CSV', '/home/matthew/data/01-D-gunzipped-csv/IRFMAMOUNT/SCHEMA_VERSION=1/TOP_TIMESTAMP=2012_12_07_00_56_55/PUBLIC_DVD_IRFMAMOUNT_201211010000.CSV', '/home/matthew/data/01-D-gunzipped-csv/IRFMAMOUNT/SCHEMA_VERSION=1/TOP_TIMESTAMP=2013_12_07_02_25_03/PUBLIC_DVD_IRFMAMOUNT_201311010000.CSV', '/home/matthew/data/01-D-gunzipped-csv/IRFMAMOUNT/SCHEMA_VERSION=1/TOP_TIMESTAMP=2013_01_07_00_56_54/PUBLIC_DVD_IRFMAMOUNT_201212010000.CSV', '/home/matthew/data/01-D-gunzipped-csv/IRFMAMOUNT/SCHEMA_VERSION=1/TOP_TIMESTAMP=2020_03_09_08_55_08/PUBLIC_DVD_IRFMAMOUNT_202002010000.CSV', '/home/matthew/data/01-D-gunzipped-csv/IRFMAMOUNT/SCHEMA_VERSION=1/TOP_TIMESTAMP=2017_03_02_00_30_08/PUBLIC_DVD_IRFMAMOUNT_201701010000.CSV', '/home/matthew/data/01-D-gunzipped-csv/IRFMAMOUNT/SCHEMA_VERSION=1/TOP_TIMESTAMP=2023_10_11_12_55_08/PUBLIC_DVD_IRFMAMOUNT_202309010000.CSV', '/home/matthew/data/01-D-gunzipped-csv/IRFMAMOUNT/SCHEMA_VERSION=1/TOP_TIMESTAMP=2023_07_07_00_25_12/PUBLIC_DVD_IRFMAMOUNT_202306010000.CSV', '/home/matthew/data/01-D-gunzipped-csv/IRFMAMOUNT/SCHEMA_VERSION=1/TOP_TIMESTAMP=2020_10_07_00_35_00/PUBLIC_DVD_IRFMAMOUNT_202009010000.CSV', '/home/matthew/data/01-D-gunzipped-csv/IRFMAMOUNT/SCHEMA_VERSION=1/TOP_TIMESTAMP=2015_02_07_00_05_01/PUBLIC_DVD_IRFMAMOUNT_201501010000.CSV', '/home/matthew/data/01-D-gunzipped-csv/IRFMAMOUNT/SCHEMA_VERSION=1/TOP_TIMESTAMP=2020_11_07_00_35_00/PUBLIC_DVD_IRFMAMOUNT_202010010000.CSV', '/home/matthew/data/01-D-gunzipped-csv/IRFMAMOUNT/SCHEMA_VERSION=1/TOP_TIMESTAMP=2017_08_08_00_30_02/PUBLIC_DVD_IRFMAMOUNT_201707010000.CSV', '/home/matthew/data/01-D-gunzipped-csv/IRFMAMOUNT/SCHEMA_VERSION=1/TOP_TIMESTAMP=2018_03_08_09_05_03/PUBLIC_DVD_IRFMAMOUNT_201802010000.CSV', '/home/matthew/data/01-D-gunzipped-csv/IRFMAMOUNT/SCHEMA_VERSION=1/TOP_TIMESTAMP=2012_02_07_00_01_56/PUBLIC_DVD_IRFMAMOUNT_201201010000.CSV', '/home/matthew/data/01-D-gunzipped-csv/IRFMAMOUNT/SCHEMA_VERSION=1/TOP_TIMESTAMP=2019_07_08_09_50_04/PUBLIC_DVD_IRFMAMOUNT_201906010000.CSV', '/home/matthew/data/01-D-gunzipped-csv/IRFMAMOUNT/SCHEMA_VERSION=1/TOP_TIMESTAMP=2018_10_09_14_15_06/PUBLIC_DVD_IRFMAMOUNT_201809010000.CSV', '/home/matthew/data/01-D-gunzipped-csv/IRFMAMOUNT/SCHEMA_VERSION=1/TOP_TIMESTAMP=2015_08_07_02_20_08/PUBLIC_DVD_IRFMAMOUNT_201507010000.CSV', '/home/matthew/data/01-D-gunzipped-csv/IRFMAMOUNT/SCHEMA_VERSION=1/TOP_TIMESTAMP=2021_08_07_00_20_04/PUBLIC_DVD_IRFMAMOUNT_202107010000.CSV', '/home/matthew/data/01-D-gunzipped-csv/IRFMAMOUNT/SCHEMA_VERSION=1/TOP_TIMESTAMP=2016_06_07_00_40_07/PUBLIC_DVD_IRFMAMOUNT_201605010000.CSV', '/home/matthew/data/01-D-gunzipped-csv/IRFMAMOUNT/SCHEMA_VERSION=1/TOP_TIMESTAMP=2011_08_07_01_01_53/PUBLIC_DVD_IRFMAMOUNT_201107010000.CSV', '/home/matthew/data/01-D-gunzipped-csv/IRFMAMOUNT/SCHEMA_VERSION=1/TOP_TIMESTAMP=2020_12_08_00_45_06/PUBLIC_DVD_IRFMAMOUNT_202011010000.CSV', '/home/matthew/data/01-D-gunzipped-csv/IRFMAMOUNT/SCHEMA_VERSION=1/TOP_TIMESTAMP=2010_11_07_00_56_43/PUBLIC_DVD_IRFMAMOUNT_201010010000.CSV', '/home/matthew/data/01-D-gunzipped-csv/IRFMAMOUNT/SCHEMA_VERSION=1/TOP_TIMESTAMP=2014_05_19_16_30_00/PUBLIC_DVD_IRFMAMOUNT_201403010000.CSV', '/home/matthew/data/01-D-gunzipped-csv/IRFMAMOUNT/SCHEMA_VERSION=1/TOP_TIMESTAMP=2021_11_08_00_50_05/PUBLIC_DVD_IRFMAMOUNT_202110010000.CSV', '/home/matthew/data/01-D-gunzipped-csv/IRFMAMOUNT/SCHEMA_VERSION=1/TOP_TIMESTAMP=2010_01_07_00_55_28/PUBLIC_DVD_IRFMAMOUNT_200912010000.CSV', '/home/matthew/data/01-D-gunzipped-csv/IRFMAMOUNT/SCHEMA_VERSION=1/TOP_TIMESTAMP=2018_07_08_00_30_01/PUBLIC_DVD_IRFMAMOUNT_201806010000.CSV', '/home/matthew/data/01-D-gunzipped-csv/IRFMAMOUNT/SCHEMA_VERSION=1/TOP_TIMESTAMP=2019_09_07_00_35_04/PUBLIC_DVD_IRFMAMOUNT_201908010000.CSV', '/home/matthew/data/01-D-gunzipped-csv/IRFMAMOUNT/SCHEMA_VERSION=1/TOP_TIMESTAMP=2014_05_07_00_30_10/PUBLIC_DVD_IRFMAMOUNT_201404010000.CSV', '/home/matthew/data/01-D-gunzipped-csv/IRFMAMOUNT/SCHEMA_VERSION=1/TOP_TIMESTAMP=2018_12_07_00_40_03/PUBLIC_DVD_IRFMAMOUNT_201811010000.CSV', '/home/matthew/data/01-D-gunzipped-csv/IRFMAMOUNT/SCHEMA_VERSION=1/TOP_TIMESTAMP=2016_05_07_00_45_06/PUBLIC_DVD_IRFMAMOUNT_201604010000.CSV', '/home/matthew/data/01-D-gunzipped-csv/IRFMAMOUNT/SCHEMA_VERSION=1/TOP_TIMESTAMP=2015_11_07_00_05_05/PUBLIC_DVD_IRFMAMOUNT_201510010000.CSV', '/home/matthew/data/01-D-gunzipped-csv/IRFMAMOUNT/SCHEMA_VERSION=1/TOP_TIMESTAMP=2011_12_07_01_05_38/PUBLIC_DVD_IRFMAMOUNT_201111010000.CSV', '/home/matthew/data/01-D-gunzipped-csv/IRFMAMOUNT/SCHEMA_VERSION=1/TOP_TIMESTAMP=2022_04_07_10_25_08/PUBLIC_DVD_IRFMAMOUNT_202203010000.CSV', '/home/matthew/data/01-D-gunzipped-csv/IRFMAMOUNT/SCHEMA_VERSION=1/TOP_TIMESTAMP=2017_03_10_18_30_12/PUBLIC_DVD_IRFMAMOUNT_201702010000.CSV', '/home/matthew/data/01-D-gunzipped-csv/IRFMAMOUNT/SCHEMA_VERSION=1/TOP_TIMESTAMP=2017_03_03_03_05_12/PUBLIC_DVD_IRFMAMOUNT_201611010000.CSV']",
     "output_type": "error",
     "traceback": [
      "\u001b[0;31m---------------------------------------------------------------------------\u001b[0m",
      "\u001b[0;31mAssertionError\u001b[0m                            Traceback (most recent call last)",
      "Cell \u001b[0;32mIn[32], line 2\u001b[0m\n\u001b[1;32m      1\u001b[0m table \u001b[38;5;241m=\u001b[39m \u001b[38;5;124m'\u001b[39m\u001b[38;5;124mIRFMAMOUNT\u001b[39m\u001b[38;5;124m'\u001b[39m\n\u001b[0;32m----> 2\u001b[0m \u001b[43mcsv_gz_to_parquet\u001b[49m\u001b[43m(\u001b[49m\u001b[43mtable\u001b[49m\u001b[43m)\u001b[49m\n",
      "Cell \u001b[0;32mIn[31], line 163\u001b[0m, in \u001b[0;36mcsv_gz_to_parquet\u001b[0;34m(table)\u001b[0m\n\u001b[1;32m    159\u001b[0m             \u001b[38;5;28;01mraise\u001b[39;00m\n\u001b[1;32m    160\u001b[0m     \u001b[38;5;28;01melse\u001b[39;00m:\n\u001b[1;32m    161\u001b[0m         \u001b[38;5;66;03m# validate that what we just wrote was not corrupt\u001b[39;00m\n\u001b[1;32m    162\u001b[0m         \u001b[38;5;66;03m# nor empty\u001b[39;00m\n\u001b[0;32m--> 163\u001b[0m         \u001b[38;5;28;01massert\u001b[39;00m pl\u001b[38;5;241m.\u001b[39mscan_parquet(pq_path)\u001b[38;5;241m.\u001b[39mfetch()\u001b[38;5;241m.\u001b[39mshape[\u001b[38;5;241m0\u001b[39m] \u001b[38;5;241m>\u001b[39m \u001b[38;5;241m0\u001b[39m, \u001b[38;5;124mf\u001b[39m\u001b[38;5;124m\"\u001b[39m\u001b[38;5;124mNo rows found in \u001b[39m\u001b[38;5;132;01m{\u001b[39;00mpq_path\u001b[38;5;132;01m}\u001b[39;00m\u001b[38;5;124m from \u001b[39m\u001b[38;5;132;01m{\u001b[39;00mcsv_paths\u001b[38;5;132;01m}\u001b[39;00m\u001b[38;5;124m\"\u001b[39m\n\u001b[1;32m    164\u001b[0m         shutil\u001b[38;5;241m.\u001b[39mrmtree(table_csv_dir)\n\u001b[1;32m    167\u001b[0m \u001b[38;5;66;03m# move the source .csv.gz files to another directory\u001b[39;00m\n\u001b[1;32m    168\u001b[0m \u001b[38;5;66;03m# so if we fail on the nth table and retry\u001b[39;00m\n\u001b[1;32m    169\u001b[0m \u001b[38;5;66;03m# we don't reprocess this table\u001b[39;00m\n",
      "\u001b[0;31mAssertionError\u001b[0m: No rows found in /home/matthew/data/01-D-parquet-batches/IRFMAMOUNT/0001.parquet from ['/home/matthew/data/01-D-gunzipped-csv/IRFMAMOUNT/SCHEMA_VERSION=1/TOP_TIMESTAMP=2012_09_07_04_47_00/PUBLIC_DVD_IRFMAMOUNT_201208010000.CSV', '/home/matthew/data/01-D-gunzipped-csv/IRFMAMOUNT/SCHEMA_VERSION=1/TOP_TIMESTAMP=2014_07_07_01_50_05/PUBLIC_DVD_IRFMAMOUNT_201406010000.CSV', '/home/matthew/data/01-D-gunzipped-csv/IRFMAMOUNT/SCHEMA_VERSION=1/TOP_TIMESTAMP=2017_03_01_00_35_04/PUBLIC_DVD_IRFMAMOUNT_201609010000.CSV', '/home/matthew/data/01-D-gunzipped-csv/IRFMAMOUNT/SCHEMA_VERSION=1/TOP_TIMESTAMP=2012_05_07_01_09_54/PUBLIC_DVD_IRFMAMOUNT_201204010000.CSV', '/home/matthew/data/01-D-gunzipped-csv/IRFMAMOUNT/SCHEMA_VERSION=1/TOP_TIMESTAMP=2022_01_21_00_30_06/PUBLIC_DVD_IRFMAMOUNT_202112010000.CSV', '/home/matthew/data/01-D-gunzipped-csv/IRFMAMOUNT/SCHEMA_VERSION=1/TOP_TIMESTAMP=2010_06_07_01_03_21/PUBLIC_DVD_IRFMAMOUNT_201005010000.CSV', '/home/matthew/data/01-D-gunzipped-csv/IRFMAMOUNT/SCHEMA_VERSION=1/TOP_TIMESTAMP=2014_10_07_00_30_06/PUBLIC_DVD_IRFMAMOUNT_201409010000.CSV', '/home/matthew/data/01-D-gunzipped-csv/IRFMAMOUNT/SCHEMA_VERSION=1/TOP_TIMESTAMP=2021_10_07_00_30_05/PUBLIC_DVD_IRFMAMOUNT_202109010000.CSV', '/home/matthew/data/01-D-gunzipped-csv/IRFMAMOUNT/SCHEMA_VERSION=1/TOP_TIMESTAMP=2014_01_07_01_10_01/PUBLIC_DVD_IRFMAMOUNT_201312010000.CSV', '/home/matthew/data/01-D-gunzipped-csv/IRFMAMOUNT/SCHEMA_VERSION=1/TOP_TIMESTAMP=2016_02_07_00_45_06/PUBLIC_DVD_IRFMAMOUNT_201601010000.CSV', '/home/matthew/data/01-D-gunzipped-csv/IRFMAMOUNT/SCHEMA_VERSION=1/TOP_TIMESTAMP=2011_11_07_00_01_56/PUBLIC_DVD_IRFMAMOUNT_201110010000.CSV', '/home/matthew/data/01-D-gunzipped-csv/IRFMAMOUNT/SCHEMA_VERSION=1/TOP_TIMESTAMP=2009_08_07_01_16_07/PUBLIC_DVD_IRFMAMOUNT_200907010000.CSV', '/home/matthew/data/01-D-gunzipped-csv/IRFMAMOUNT/SCHEMA_VERSION=1/TOP_TIMESTAMP=2015_04_07_00_35_09/PUBLIC_DVD_IRFMAMOUNT_201503010000.CSV', '/home/matthew/data/01-D-gunzipped-csv/IRFMAMOUNT/SCHEMA_VERSION=1/TOP_TIMESTAMP=2020_07_09_00_20_03/PUBLIC_DVD_IRFMAMOUNT_202006010000.CSV', '/home/matthew/data/01-D-gunzipped-csv/IRFMAMOUNT/SCHEMA_VERSION=1/TOP_TIMESTAMP=2012_01_07_01_01_58/PUBLIC_DVD_IRFMAMOUNT_201112010000.CSV', '/home/matthew/data/01-D-gunzipped-csv/IRFMAMOUNT/SCHEMA_VERSION=1/TOP_TIMESTAMP=2017_03_03_00_30_12/PUBLIC_DVD_IRFMAMOUNT_201610010000.CSV', '/home/matthew/data/01-D-gunzipped-csv/IRFMAMOUNT/SCHEMA_VERSION=1/TOP_TIMESTAMP=2011_04_07_01_01_50/PUBLIC_DVD_IRFMAMOUNT_201103010000.CSV', '/home/matthew/data/01-D-gunzipped-csv/IRFMAMOUNT/SCHEMA_VERSION=1/TOP_TIMESTAMP=2021_02_06_16_05_13/PUBLIC_DVD_IRFMAMOUNT_202101010000.CSV', '/home/matthew/data/01-D-gunzipped-csv/IRFMAMOUNT/SCHEMA_VERSION=1/TOP_TIMESTAMP=2010_09_07_00_58_21/PUBLIC_DVD_IRFMAMOUNT_201008010000.CSV', '/home/matthew/data/01-D-gunzipped-csv/IRFMAMOUNT/SCHEMA_VERSION=1/TOP_TIMESTAMP=2011_01_07_00_58_35/PUBLIC_DVD_IRFMAMOUNT_201012010000.CSV', '/home/matthew/data/01-D-gunzipped-csv/IRFMAMOUNT/SCHEMA_VERSION=1/TOP_TIMESTAMP=2013_05_07_00_57_54/PUBLIC_DVD_IRFMAMOUNT_201304010000.CSV', '/home/matthew/data/01-D-gunzipped-csv/IRFMAMOUNT/SCHEMA_VERSION=1/TOP_TIMESTAMP=2016_03_07_00_35_08/PUBLIC_DVD_IRFMAMOUNT_201602010000.CSV', '/home/matthew/data/01-D-gunzipped-csv/IRFMAMOUNT/SCHEMA_VERSION=1/TOP_TIMESTAMP=2019_08_07_12_20_00/PUBLIC_DVD_IRFMAMOUNT_201907010000.CSV', '/home/matthew/data/01-D-gunzipped-csv/IRFMAMOUNT/SCHEMA_VERSION=1/TOP_TIMESTAMP=2011_07_07_01_03_02/PUBLIC_DVD_IRFMAMOUNT_201106010000.CSV', '/home/matthew/data/01-D-gunzipped-csv/IRFMAMOUNT/SCHEMA_VERSION=1/TOP_TIMESTAMP=2018_11_08_00_05_04/PUBLIC_DVD_IRFMAMOUNT_201810010000.CSV', '/home/matthew/data/01-D-gunzipped-csv/IRFMAMOUNT/SCHEMA_VERSION=1/TOP_TIMESTAMP=2022_10_07_00_35_06/PUBLIC_DVD_IRFMAMOUNT_202209010000.CSV', '/home/matthew/data/01-D-gunzipped-csv/IRFMAMOUNT/SCHEMA_VERSION=1/TOP_TIMESTAMP=2015_12_07_02_00_10/PUBLIC_DVD_IRFMAMOUNT_201511010000.CSV', '/home/matthew/data/01-D-gunzipped-csv/IRFMAMOUNT/SCHEMA_VERSION=1/TOP_TIMESTAMP=2011_06_07_01_06_50/PUBLIC_DVD_IRFMAMOUNT_201105010000.CSV', '/home/matthew/data/01-D-gunzipped-csv/IRFMAMOUNT/SCHEMA_VERSION=1/TOP_TIMESTAMP=2011_02_07_01_08_40/PUBLIC_DVD_IRFMAMOUNT_201101010000.CSV', '/home/matthew/data/01-D-gunzipped-csv/IRFMAMOUNT/SCHEMA_VERSION=1/TOP_TIMESTAMP=2017_07_08_00_25_08/PUBLIC_DVD_IRFMAMOUNT_201706010000.CSV', '/home/matthew/data/01-D-gunzipped-csv/IRFMAMOUNT/SCHEMA_VERSION=1/TOP_TIMESTAMP=2020_09_08_00_40_12/PUBLIC_DVD_IRFMAMOUNT_202008010000.CSV', '/home/matthew/data/01-D-gunzipped-csv/IRFMAMOUNT/SCHEMA_VERSION=1/TOP_TIMESTAMP=2017_09_07_03_20_03/PUBLIC_DVD_IRFMAMOUNT_201708010000.CSV', '/home/matthew/data/01-D-gunzipped-csv/IRFMAMOUNT/SCHEMA_VERSION=1/TOP_TIMESTAMP=2012_07_07_01_17_02/PUBLIC_DVD_IRFMAMOUNT_201206010000.CSV', '/home/matthew/data/01-D-gunzipped-csv/IRFMAMOUNT/SCHEMA_VERSION=1/TOP_TIMESTAMP=2023_01_07_08_35_08/PUBLIC_DVD_IRFMAMOUNT_202212010000.CSV', '/home/matthew/data/01-D-gunzipped-csv/IRFMAMOUNT/SCHEMA_VERSION=1/TOP_TIMESTAMP=2019_05_08_00_35_05/PUBLIC_DVD_IRFMAMOUNT_201904010000.CSV', '/home/matthew/data/01-D-gunzipped-csv/IRFMAMOUNT/SCHEMA_VERSION=1/TOP_TIMESTAMP=2018_09_07_00_40_01/PUBLIC_DVD_IRFMAMOUNT_201808010000.CSV', '/home/matthew/data/01-D-gunzipped-csv/IRFMAMOUNT/SCHEMA_VERSION=1/TOP_TIMESTAMP=2013_06_07_01_01_11/PUBLIC_DVD_IRFMAMOUNT_201305010000.CSV', '/home/matthew/data/01-D-gunzipped-csv/IRFMAMOUNT/SCHEMA_VERSION=1/TOP_TIMESTAMP=2020_02_07_00_45_06/PUBLIC_DVD_IRFMAMOUNT_202001010000.CSV', '/home/matthew/data/01-D-gunzipped-csv/IRFMAMOUNT/SCHEMA_VERSION=1/TOP_TIMESTAMP=2021_07_12_13_35_06/PUBLIC_DVD_IRFMAMOUNT_202106010000.CSV', '/home/matthew/data/01-D-gunzipped-csv/IRFMAMOUNT/SCHEMA_VERSION=1/TOP_TIMESTAMP=2013_02_07_01_02_45/PUBLIC_DVD_IRFMAMOUNT_201301010000.CSV', '/home/matthew/data/01-D-gunzipped-csv/IRFMAMOUNT/SCHEMA_VERSION=1/TOP_TIMESTAMP=2010_12_07_01_01_46/PUBLIC_DVD_IRFMAMOUNT_201011010000.CSV', '/home/matthew/data/01-D-gunzipped-csv/IRFMAMOUNT/SCHEMA_VERSION=1/TOP_TIMESTAMP=2021_05_07_09_00_01/PUBLIC_DVD_IRFMAMOUNT_202104010000.CSV', '/home/matthew/data/01-D-gunzipped-csv/IRFMAMOUNT/SCHEMA_VERSION=1/TOP_TIMESTAMP=2013_09_07_01_01_57/PUBLIC_DVD_IRFMAMOUNT_201308010000.CSV', '/home/matthew/data/01-D-gunzipped-csv/IRFMAMOUNT/SCHEMA_VERSION=1/TOP_TIMESTAMP=2012_08_07_00_06_55/PUBLIC_DVD_IRFMAMOUNT_201207010000.CSV', '/home/matthew/data/01-D-gunzipped-csv/IRFMAMOUNT/SCHEMA_VERSION=1/TOP_TIMESTAMP=2018_08_07_00_40_00/PUBLIC_DVD_IRFMAMOUNT_201807010000.CSV', '/home/matthew/data/01-D-gunzipped-csv/IRFMAMOUNT/SCHEMA_VERSION=1/TOP_TIMESTAMP=2023_05_09_16_35_11/PUBLIC_DVD_IRFMAMOUNT_202304010000.CSV', '/home/matthew/data/01-D-gunzipped-csv/IRFMAMOUNT/SCHEMA_VERSION=1/TOP_TIMESTAMP=2023_08_08_02_20_08/PUBLIC_DVD_IRFMAMOUNT_202307010000.CSV', '/home/matthew/data/01-D-gunzipped-csv/IRFMAMOUNT/SCHEMA_VERSION=1/TOP_TIMESTAMP=2018_02_08_00_05_03/PUBLIC_DVD_IRFMAMOUNT_201801010000.CSV', '/home/matthew/data/01-D-gunzipped-csv/IRFMAMOUNT/SCHEMA_VERSION=1/TOP_TIMESTAMP=2013_11_07_01_03_05/PUBLIC_DVD_IRFMAMOUNT_201310010000.CSV', '/home/matthew/data/01-D-gunzipped-csv/IRFMAMOUNT/SCHEMA_VERSION=1/TOP_TIMESTAMP=2015_10_07_00_35_03/PUBLIC_DVD_IRFMAMOUNT_201509010000.CSV', '/home/matthew/data/01-D-gunzipped-csv/IRFMAMOUNT/SCHEMA_VERSION=1/TOP_TIMESTAMP=2019_03_02_00_45_05/PUBLIC_DVD_IRFMAMOUNT_201901010000.CSV', '/home/matthew/data/01-D-gunzipped-csv/IRFMAMOUNT/SCHEMA_VERSION=1/TOP_TIMESTAMP=2017_06_07_04_00_00/PUBLIC_DVD_IRFMAMOUNT_201705010000.CSV', '/home/matthew/data/01-D-gunzipped-csv/IRFMAMOUNT/SCHEMA_VERSION=1/TOP_TIMESTAMP=2022_07_13_00_35_02/PUBLIC_DVD_IRFMAMOUNT_202206010000.CSV', '/home/matthew/data/01-D-gunzipped-csv/IRFMAMOUNT/SCHEMA_VERSION=1/TOP_TIMESTAMP=2017_10_07_19_55_06/PUBLIC_DVD_IRFMAMOUNT_201709010000.CSV', '/home/matthew/data/01-D-gunzipped-csv/IRFMAMOUNT/SCHEMA_VERSION=1/TOP_TIMESTAMP=2013_07_07_00_56_02/PUBLIC_DVD_IRFMAMOUNT_201306010000.CSV', '/home/matthew/data/01-D-gunzipped-csv/IRFMAMOUNT/SCHEMA_VERSION=1/TOP_TIMESTAMP=2014_03_19_10_05_02/PUBLIC_DVD_IRFMAMOUNT_201402010000.CSV', '/home/matthew/data/01-D-gunzipped-csv/IRFMAMOUNT/SCHEMA_VERSION=1/TOP_TIMESTAMP=2021_02_01_16_50_04/PUBLIC_DVD_IRFMAMOUNT_202012010000.CSV', '/home/matthew/data/01-D-gunzipped-csv/IRFMAMOUNT/SCHEMA_VERSION=1/TOP_TIMESTAMP=2022_12_07_00_40_08/PUBLIC_DVD_IRFMAMOUNT_202211010000.CSV', '/home/matthew/data/01-D-gunzipped-csv/IRFMAMOUNT/SCHEMA_VERSION=1/TOP_TIMESTAMP=2016_07_07_18_20_05/PUBLIC_DVD_IRFMAMOUNT_201606010000.CSV', '/home/matthew/data/01-D-gunzipped-csv/IRFMAMOUNT/SCHEMA_VERSION=1/TOP_TIMESTAMP=2020_01_07_01_00_05/PUBLIC_DVD_IRFMAMOUNT_201912010000.CSV', '/home/matthew/data/01-D-gunzipped-csv/IRFMAMOUNT/SCHEMA_VERSION=1/TOP_TIMESTAMP=2010_05_07_00_58_22/PUBLIC_DVD_IRFMAMOUNT_201004010000.CSV', '/home/matthew/data/01-D-gunzipped-csv/IRFMAMOUNT/SCHEMA_VERSION=1/TOP_TIMESTAMP=2019_03_02_02_55_12/PUBLIC_DVD_IRFMAMOUNT_201812010000.CSV', '/home/matthew/data/01-D-gunzipped-csv/IRFMAMOUNT/SCHEMA_VERSION=1/TOP_TIMESTAMP=2010_02_07_00_27_44/PUBLIC_DVD_IRFMAMOUNT_201001010000.CSV', '/home/matthew/data/01-D-gunzipped-csv/IRFMAMOUNT/SCHEMA_VERSION=1/TOP_TIMESTAMP=2021_12_07_00_00_05/PUBLIC_DVD_IRFMAMOUNT_202111010000.CSV', '/home/matthew/data/01-D-gunzipped-csv/IRFMAMOUNT/SCHEMA_VERSION=1/TOP_TIMESTAMP=2021_04_07_00_30_00/PUBLIC_DVD_IRFMAMOUNT_202103010000.CSV', '/home/matthew/data/01-D-gunzipped-csv/IRFMAMOUNT/SCHEMA_VERSION=1/TOP_TIMESTAMP=2016_08_07_00_05_06/PUBLIC_DVD_IRFMAMOUNT_201607010000.CSV', '/home/matthew/data/01-D-gunzipped-csv/IRFMAMOUNT/SCHEMA_VERSION=1/TOP_TIMESTAMP=2021_06_06_16_50_05/PUBLIC_DVD_IRFMAMOUNT_202105010000.CSV', '/home/matthew/data/01-D-gunzipped-csv/IRFMAMOUNT/SCHEMA_VERSION=1/TOP_TIMESTAMP=2023_06_09_11_30_03/PUBLIC_DVD_IRFMAMOUNT_202305010000.CSV', '/home/matthew/data/01-D-gunzipped-csv/IRFMAMOUNT/SCHEMA_VERSION=1/TOP_TIMESTAMP=2016_04_07_00_35_05/PUBLIC_DVD_IRFMAMOUNT_201603010000.CSV', '/home/matthew/data/01-D-gunzipped-csv/IRFMAMOUNT/SCHEMA_VERSION=1/TOP_TIMESTAMP=2017_11_11_10_25_03/PUBLIC_DVD_IRFMAMOUNT_201710010000.CSV', '/home/matthew/data/01-D-gunzipped-csv/IRFMAMOUNT/SCHEMA_VERSION=1/TOP_TIMESTAMP=2014_08_07_00_40_05/PUBLIC_DVD_IRFMAMOUNT_201407010000.CSV', '/home/matthew/data/01-D-gunzipped-csv/IRFMAMOUNT/SCHEMA_VERSION=1/TOP_TIMESTAMP=2016_09_14_00_40_01/PUBLIC_DVD_IRFMAMOUNT_201608010000.CSV', '/home/matthew/data/01-D-gunzipped-csv/IRFMAMOUNT/SCHEMA_VERSION=1/TOP_TIMESTAMP=2023_11_07_05_15_05/PUBLIC_DVD_IRFMAMOUNT_202310010000.CSV', '/home/matthew/data/01-D-gunzipped-csv/IRFMAMOUNT/SCHEMA_VERSION=1/TOP_TIMESTAMP=2010_03_07_00_51_16/PUBLIC_DVD_IRFMAMOUNT_201002010000.CSV', '/home/matthew/data/01-D-gunzipped-csv/IRFMAMOUNT/SCHEMA_VERSION=1/TOP_TIMESTAMP=2012_04_07_01_04_58/PUBLIC_DVD_IRFMAMOUNT_201203010000.CSV', '/home/matthew/data/01-D-gunzipped-csv/IRFMAMOUNT/SCHEMA_VERSION=1/TOP_TIMESTAMP=2009_10_07_00_17_34/PUBLIC_DVD_IRFMAMOUNT_200909010000.CSV', '/home/matthew/data/01-D-gunzipped-csv/IRFMAMOUNT/SCHEMA_VERSION=1/TOP_TIMESTAMP=2020_04_07_00_55_06/PUBLIC_DVD_IRFMAMOUNT_202003010000.CSV', '/home/matthew/data/01-D-gunzipped-csv/IRFMAMOUNT/SCHEMA_VERSION=1/TOP_TIMESTAMP=2012_06_07_01_07_00/PUBLIC_DVD_IRFMAMOUNT_201205010000.CSV', '/home/matthew/data/01-D-gunzipped-csv/IRFMAMOUNT/SCHEMA_VERSION=1/TOP_TIMESTAMP=2022_08_09_00_00_11/PUBLIC_DVD_IRFMAMOUNT_202207010000.CSV', '/home/matthew/data/01-D-gunzipped-csv/IRFMAMOUNT/SCHEMA_VERSION=1/TOP_TIMESTAMP=2022_09_07_00_45_10/PUBLIC_DVD_IRFMAMOUNT_202208010000.CSV', '/home/matthew/data/01-D-gunzipped-csv/IRFMAMOUNT/SCHEMA_VERSION=1/TOP_TIMESTAMP=2011_03_07_00_58_46/PUBLIC_DVD_IRFMAMOUNT_201102010000.CSV', '/home/matthew/data/01-D-gunzipped-csv/IRFMAMOUNT/SCHEMA_VERSION=1/TOP_TIMESTAMP=2019_04_30_00_35_05/PUBLIC_DVD_IRFMAMOUNT_201903010000.CSV', '/home/matthew/data/01-D-gunzipped-csv/IRFMAMOUNT/SCHEMA_VERSION=1/TOP_TIMESTAMP=2017_12_12_00_05_00/PUBLIC_DVD_IRFMAMOUNT_201711010000.CSV', '/home/matthew/data/01-D-gunzipped-csv/IRFMAMOUNT/SCHEMA_VERSION=1/TOP_TIMESTAMP=2014_06_07_00_35_04/PUBLIC_DVD_IRFMAMOUNT_201405010000.CSV', '/home/matthew/data/01-D-gunzipped-csv/IRFMAMOUNT/SCHEMA_VERSION=1/TOP_TIMESTAMP=2017_03_03_06_15_10/PUBLIC_DVD_IRFMAMOUNT_201612010000.CSV', '/home/matthew/data/01-D-gunzipped-csv/IRFMAMOUNT/SCHEMA_VERSION=1/TOP_TIMESTAMP=2013_10_07_01_15_14/PUBLIC_DVD_IRFMAMOUNT_201309010000.CSV', '/home/matthew/data/01-D-gunzipped-csv/IRFMAMOUNT/SCHEMA_VERSION=1/TOP_TIMESTAMP=2014_12_07_00_35_00/PUBLIC_DVD_IRFMAMOUNT_201411010000.CSV', '/home/matthew/data/01-D-gunzipped-csv/IRFMAMOUNT/SCHEMA_VERSION=1/TOP_TIMESTAMP=2011_09_07_00_55_46/PUBLIC_DVD_IRFMAMOUNT_201108010000.CSV', '/home/matthew/data/01-D-gunzipped-csv/IRFMAMOUNT/SCHEMA_VERSION=1/TOP_TIMESTAMP=2010_10_07_01_42_05/PUBLIC_DVD_IRFMAMOUNT_201009010000.CSV', '/home/matthew/data/01-D-gunzipped-csv/IRFMAMOUNT/SCHEMA_VERSION=1/TOP_TIMESTAMP=2018_01_09_00_35_12/PUBLIC_DVD_IRFMAMOUNT_201712010000.CSV', '/home/matthew/data/01-D-gunzipped-csv/IRFMAMOUNT/SCHEMA_VERSION=1/TOP_TIMESTAMP=2015_05_07_00_35_01/PUBLIC_DVD_IRFMAMOUNT_201504010000.CSV', '/home/matthew/data/01-D-gunzipped-csv/IRFMAMOUNT/SCHEMA_VERSION=1/TOP_TIMESTAMP=2023_03_07_00_30_16/PUBLIC_DVD_IRFMAMOUNT_202302010000.CSV', '/home/matthew/data/01-D-gunzipped-csv/IRFMAMOUNT/SCHEMA_VERSION=1/TOP_TIMESTAMP=2009_12_09_14_45_25/PUBLIC_DVD_IRFMAMOUNT_200911010000.CSV', '/home/matthew/data/01-D-gunzipped-csv/IRFMAMOUNT/SCHEMA_VERSION=1/TOP_TIMESTAMP=2012_11_07_01_01_55/PUBLIC_DVD_IRFMAMOUNT_201210010000.CSV', '/home/matthew/data/01-D-gunzipped-csv/IRFMAMOUNT/SCHEMA_VERSION=1/TOP_TIMESTAMP=2011_10_07_01_01_53/PUBLIC_DVD_IRFMAMOUNT_201109010000.CSV', '/home/matthew/data/01-D-gunzipped-csv/IRFMAMOUNT/SCHEMA_VERSION=1/TOP_TIMESTAMP=2015_03_07_00_30_07/PUBLIC_DVD_IRFMAMOUNT_201502010000.CSV', '/home/matthew/data/01-D-gunzipped-csv/IRFMAMOUNT/SCHEMA_VERSION=1/TOP_TIMESTAMP=2012_03_07_00_09_53/PUBLIC_DVD_IRFMAMOUNT_201202010000.CSV', '/home/matthew/data/01-D-gunzipped-csv/IRFMAMOUNT/SCHEMA_VERSION=1/TOP_TIMESTAMP=2018_05_08_00_30_02/PUBLIC_DVD_IRFMAMOUNT_201804010000.CSV', '/home/matthew/data/01-D-gunzipped-csv/IRFMAMOUNT/SCHEMA_VERSION=1/TOP_TIMESTAMP=2013_03_07_00_57_21/PUBLIC_DVD_IRFMAMOUNT_201302010000.CSV', '/home/matthew/data/01-D-gunzipped-csv/IRFMAMOUNT/SCHEMA_VERSION=1/TOP_TIMESTAMP=2015_01_07_02_10_06/PUBLIC_DVD_IRFMAMOUNT_201412010000.CSV', '/home/matthew/data/01-D-gunzipped-csv/IRFMAMOUNT/SCHEMA_VERSION=1/TOP_TIMESTAMP=2009_11_07_00_59_00/PUBLIC_DVD_IRFMAMOUNT_200910010000.CSV', '/home/matthew/data/01-D-gunzipped-csv/IRFMAMOUNT/SCHEMA_VERSION=1/TOP_TIMESTAMP=2015_09_07_01_50_01/PUBLIC_DVD_IRFMAMOUNT_201508010000.CSV', '/home/matthew/data/01-D-gunzipped-csv/IRFMAMOUNT/SCHEMA_VERSION=1/TOP_TIMESTAMP=2023_12_07_00_35_12/PUBLIC_DVD_IRFMAMOUNT_202311010000.CSV', '/home/matthew/data/01-D-gunzipped-csv/IRFMAMOUNT/SCHEMA_VERSION=1/TOP_TIMESTAMP=2020_06_16_00_45_07/PUBLIC_DVD_IRFMAMOUNT_202005010000.CSV', '/home/matthew/data/01-D-gunzipped-csv/IRFMAMOUNT/SCHEMA_VERSION=1/TOP_TIMESTAMP=2023_09_07_00_00_06/PUBLIC_DVD_IRFMAMOUNT_202308010000.CSV', '/home/matthew/data/01-D-gunzipped-csv/IRFMAMOUNT/SCHEMA_VERSION=1/TOP_TIMESTAMP=2014_02_07_00_40_02/PUBLIC_DVD_IRFMAMOUNT_201401010000.CSV', '/home/matthew/data/01-D-gunzipped-csv/IRFMAMOUNT/SCHEMA_VERSION=1/TOP_TIMESTAMP=2020_05_07_00_40_08/PUBLIC_DVD_IRFMAMOUNT_202004010000.CSV', '/home/matthew/data/01-D-gunzipped-csv/IRFMAMOUNT/SCHEMA_VERSION=1/TOP_TIMESTAMP=2011_05_07_01_01_49/PUBLIC_DVD_IRFMAMOUNT_201104010000.CSV', '/home/matthew/data/01-D-gunzipped-csv/IRFMAMOUNT/SCHEMA_VERSION=1/TOP_TIMESTAMP=2021_03_06_15_45_04/PUBLIC_DVD_IRFMAMOUNT_202102010000.CSV', '/home/matthew/data/01-D-gunzipped-csv/IRFMAMOUNT/SCHEMA_VERSION=1/TOP_TIMESTAMP=2013_08_07_01_01_05/PUBLIC_DVD_IRFMAMOUNT_201307010000.CSV', '/home/matthew/data/01-D-gunzipped-csv/IRFMAMOUNT/SCHEMA_VERSION=1/TOP_TIMESTAMP=2018_04_12_00_40_04/PUBLIC_DVD_IRFMAMOUNT_201803010000.CSV', '/home/matthew/data/01-D-gunzipped-csv/IRFMAMOUNT/SCHEMA_VERSION=1/TOP_TIMESTAMP=2019_11_07_00_35_01/PUBLIC_DVD_IRFMAMOUNT_201910010000.CSV', '/home/matthew/data/01-D-gunzipped-csv/IRFMAMOUNT/SCHEMA_VERSION=1/TOP_TIMESTAMP=2015_06_07_00_35_01/PUBLIC_DVD_IRFMAMOUNT_201505010000.CSV', '/home/matthew/data/01-D-gunzipped-csv/IRFMAMOUNT/SCHEMA_VERSION=1/TOP_TIMESTAMP=2010_04_07_00_34_57/PUBLIC_DVD_IRFMAMOUNT_201003010000.CSV', '/home/matthew/data/01-D-gunzipped-csv/IRFMAMOUNT/SCHEMA_VERSION=1/TOP_TIMESTAMP=2021_09_07_00_50_09/PUBLIC_DVD_IRFMAMOUNT_202108010000.CSV', '/home/matthew/data/01-D-gunzipped-csv/IRFMAMOUNT/SCHEMA_VERSION=1/TOP_TIMESTAMP=2019_06_07_11_25_12/PUBLIC_DVD_IRFMAMOUNT_201905010000.CSV', '/home/matthew/data/01-D-gunzipped-csv/IRFMAMOUNT/SCHEMA_VERSION=1/TOP_TIMESTAMP=2012_10_07_00_56_55/PUBLIC_DVD_IRFMAMOUNT_201209010000.CSV', '/home/matthew/data/01-D-gunzipped-csv/IRFMAMOUNT/SCHEMA_VERSION=1/TOP_TIMESTAMP=2022_02_08_00_30_05/PUBLIC_DVD_IRFMAMOUNT_202201010000.CSV', '/home/matthew/data/01-D-gunzipped-csv/IRFMAMOUNT/SCHEMA_VERSION=1/TOP_TIMESTAMP=2014_11_07_00_40_06/PUBLIC_DVD_IRFMAMOUNT_201410010000.CSV', '/home/matthew/data/01-D-gunzipped-csv/IRFMAMOUNT/SCHEMA_VERSION=1/TOP_TIMESTAMP=2023_02_07_00_30_14/PUBLIC_DVD_IRFMAMOUNT_202301010000.CSV', '/home/matthew/data/01-D-gunzipped-csv/IRFMAMOUNT/SCHEMA_VERSION=1/TOP_TIMESTAMP=2017_04_12_00_30_01/PUBLIC_DVD_IRFMAMOUNT_201703010000.CSV', '/home/matthew/data/01-D-gunzipped-csv/IRFMAMOUNT/SCHEMA_VERSION=1/TOP_TIMESTAMP=2015_07_07_00_35_00/PUBLIC_DVD_IRFMAMOUNT_201506010000.CSV', '/home/matthew/data/01-D-gunzipped-csv/IRFMAMOUNT/SCHEMA_VERSION=1/TOP_TIMESTAMP=2009_09_07_00_13_33/PUBLIC_DVD_IRFMAMOUNT_200908010000.CSV', '/home/matthew/data/01-D-gunzipped-csv/IRFMAMOUNT/SCHEMA_VERSION=1/TOP_TIMESTAMP=2014_09_07_00_35_03/PUBLIC_DVD_IRFMAMOUNT_201408010000.CSV', '/home/matthew/data/01-D-gunzipped-csv/IRFMAMOUNT/SCHEMA_VERSION=1/TOP_TIMESTAMP=2013_04_07_01_04_59/PUBLIC_DVD_IRFMAMOUNT_201303010000.CSV', '/home/matthew/data/01-D-gunzipped-csv/IRFMAMOUNT/SCHEMA_VERSION=1/TOP_TIMESTAMP=2022_06_07_00_30_02/PUBLIC_DVD_IRFMAMOUNT_202205010000.CSV', '/home/matthew/data/01-D-gunzipped-csv/IRFMAMOUNT/SCHEMA_VERSION=1/TOP_TIMESTAMP=2010_07_07_00_00_42/PUBLIC_DVD_IRFMAMOUNT_201006010000.CSV', '/home/matthew/data/01-D-gunzipped-csv/IRFMAMOUNT/SCHEMA_VERSION=1/TOP_TIMESTAMP=2022_05_07_00_30_05/PUBLIC_DVD_IRFMAMOUNT_202204010000.CSV', '/home/matthew/data/01-D-gunzipped-csv/IRFMAMOUNT/SCHEMA_VERSION=1/TOP_TIMESTAMP=2017_05_09_00_00_08/PUBLIC_DVD_IRFMAMOUNT_201704010000.CSV', '/home/matthew/data/01-D-gunzipped-csv/IRFMAMOUNT/SCHEMA_VERSION=1/TOP_TIMESTAMP=2016_01_07_00_40_05/PUBLIC_DVD_IRFMAMOUNT_201512010000.CSV', '/home/matthew/data/01-D-gunzipped-csv/IRFMAMOUNT/SCHEMA_VERSION=1/TOP_TIMESTAMP=2022_03_07_03_45_04/PUBLIC_DVD_IRFMAMOUNT_202202010000.CSV', '/home/matthew/data/01-D-gunzipped-csv/IRFMAMOUNT/SCHEMA_VERSION=1/TOP_TIMESTAMP=2022_11_08_00_25_07/PUBLIC_DVD_IRFMAMOUNT_202210010000.CSV', '/home/matthew/data/01-D-gunzipped-csv/IRFMAMOUNT/SCHEMA_VERSION=1/TOP_TIMESTAMP=2010_08_07_00_55_17/PUBLIC_DVD_IRFMAMOUNT_201007010000.CSV', '/home/matthew/data/01-D-gunzipped-csv/IRFMAMOUNT/SCHEMA_VERSION=1/TOP_TIMESTAMP=2019_10_05_00_30_04/PUBLIC_DVD_IRFMAMOUNT_201909010000.CSV', '/home/matthew/data/01-D-gunzipped-csv/IRFMAMOUNT/SCHEMA_VERSION=1/TOP_TIMESTAMP=2019_03_09_00_30_07/PUBLIC_DVD_IRFMAMOUNT_201902010000.CSV', '/home/matthew/data/01-D-gunzipped-csv/IRFMAMOUNT/SCHEMA_VERSION=1/TOP_TIMESTAMP=2023_04_07_00_40_09/PUBLIC_DVD_IRFMAMOUNT_202303010000.CSV', '/home/matthew/data/01-D-gunzipped-csv/IRFMAMOUNT/SCHEMA_VERSION=1/TOP_TIMESTAMP=2020_08_07_00_05_05/PUBLIC_DVD_IRFMAMOUNT_202007010000.CSV', '/home/matthew/data/01-D-gunzipped-csv/IRFMAMOUNT/SCHEMA_VERSION=1/TOP_TIMESTAMP=2018_06_07_00_35_01/PUBLIC_DVD_IRFMAMOUNT_201805010000.CSV', '/home/matthew/data/01-D-gunzipped-csv/IRFMAMOUNT/SCHEMA_VERSION=1/TOP_TIMESTAMP=2019_12_07_00_40_01/PUBLIC_DVD_IRFMAMOUNT_201911010000.CSV', '/home/matthew/data/01-D-gunzipped-csv/IRFMAMOUNT/SCHEMA_VERSION=1/TOP_TIMESTAMP=2012_12_07_00_56_55/PUBLIC_DVD_IRFMAMOUNT_201211010000.CSV', '/home/matthew/data/01-D-gunzipped-csv/IRFMAMOUNT/SCHEMA_VERSION=1/TOP_TIMESTAMP=2013_12_07_02_25_03/PUBLIC_DVD_IRFMAMOUNT_201311010000.CSV', '/home/matthew/data/01-D-gunzipped-csv/IRFMAMOUNT/SCHEMA_VERSION=1/TOP_TIMESTAMP=2013_01_07_00_56_54/PUBLIC_DVD_IRFMAMOUNT_201212010000.CSV', '/home/matthew/data/01-D-gunzipped-csv/IRFMAMOUNT/SCHEMA_VERSION=1/TOP_TIMESTAMP=2020_03_09_08_55_08/PUBLIC_DVD_IRFMAMOUNT_202002010000.CSV', '/home/matthew/data/01-D-gunzipped-csv/IRFMAMOUNT/SCHEMA_VERSION=1/TOP_TIMESTAMP=2017_03_02_00_30_08/PUBLIC_DVD_IRFMAMOUNT_201701010000.CSV', '/home/matthew/data/01-D-gunzipped-csv/IRFMAMOUNT/SCHEMA_VERSION=1/TOP_TIMESTAMP=2023_10_11_12_55_08/PUBLIC_DVD_IRFMAMOUNT_202309010000.CSV', '/home/matthew/data/01-D-gunzipped-csv/IRFMAMOUNT/SCHEMA_VERSION=1/TOP_TIMESTAMP=2023_07_07_00_25_12/PUBLIC_DVD_IRFMAMOUNT_202306010000.CSV', '/home/matthew/data/01-D-gunzipped-csv/IRFMAMOUNT/SCHEMA_VERSION=1/TOP_TIMESTAMP=2020_10_07_00_35_00/PUBLIC_DVD_IRFMAMOUNT_202009010000.CSV', '/home/matthew/data/01-D-gunzipped-csv/IRFMAMOUNT/SCHEMA_VERSION=1/TOP_TIMESTAMP=2015_02_07_00_05_01/PUBLIC_DVD_IRFMAMOUNT_201501010000.CSV', '/home/matthew/data/01-D-gunzipped-csv/IRFMAMOUNT/SCHEMA_VERSION=1/TOP_TIMESTAMP=2020_11_07_00_35_00/PUBLIC_DVD_IRFMAMOUNT_202010010000.CSV', '/home/matthew/data/01-D-gunzipped-csv/IRFMAMOUNT/SCHEMA_VERSION=1/TOP_TIMESTAMP=2017_08_08_00_30_02/PUBLIC_DVD_IRFMAMOUNT_201707010000.CSV', '/home/matthew/data/01-D-gunzipped-csv/IRFMAMOUNT/SCHEMA_VERSION=1/TOP_TIMESTAMP=2018_03_08_09_05_03/PUBLIC_DVD_IRFMAMOUNT_201802010000.CSV', '/home/matthew/data/01-D-gunzipped-csv/IRFMAMOUNT/SCHEMA_VERSION=1/TOP_TIMESTAMP=2012_02_07_00_01_56/PUBLIC_DVD_IRFMAMOUNT_201201010000.CSV', '/home/matthew/data/01-D-gunzipped-csv/IRFMAMOUNT/SCHEMA_VERSION=1/TOP_TIMESTAMP=2019_07_08_09_50_04/PUBLIC_DVD_IRFMAMOUNT_201906010000.CSV', '/home/matthew/data/01-D-gunzipped-csv/IRFMAMOUNT/SCHEMA_VERSION=1/TOP_TIMESTAMP=2018_10_09_14_15_06/PUBLIC_DVD_IRFMAMOUNT_201809010000.CSV', '/home/matthew/data/01-D-gunzipped-csv/IRFMAMOUNT/SCHEMA_VERSION=1/TOP_TIMESTAMP=2015_08_07_02_20_08/PUBLIC_DVD_IRFMAMOUNT_201507010000.CSV', '/home/matthew/data/01-D-gunzipped-csv/IRFMAMOUNT/SCHEMA_VERSION=1/TOP_TIMESTAMP=2021_08_07_00_20_04/PUBLIC_DVD_IRFMAMOUNT_202107010000.CSV', '/home/matthew/data/01-D-gunzipped-csv/IRFMAMOUNT/SCHEMA_VERSION=1/TOP_TIMESTAMP=2016_06_07_00_40_07/PUBLIC_DVD_IRFMAMOUNT_201605010000.CSV', '/home/matthew/data/01-D-gunzipped-csv/IRFMAMOUNT/SCHEMA_VERSION=1/TOP_TIMESTAMP=2011_08_07_01_01_53/PUBLIC_DVD_IRFMAMOUNT_201107010000.CSV', '/home/matthew/data/01-D-gunzipped-csv/IRFMAMOUNT/SCHEMA_VERSION=1/TOP_TIMESTAMP=2020_12_08_00_45_06/PUBLIC_DVD_IRFMAMOUNT_202011010000.CSV', '/home/matthew/data/01-D-gunzipped-csv/IRFMAMOUNT/SCHEMA_VERSION=1/TOP_TIMESTAMP=2010_11_07_00_56_43/PUBLIC_DVD_IRFMAMOUNT_201010010000.CSV', '/home/matthew/data/01-D-gunzipped-csv/IRFMAMOUNT/SCHEMA_VERSION=1/TOP_TIMESTAMP=2014_05_19_16_30_00/PUBLIC_DVD_IRFMAMOUNT_201403010000.CSV', '/home/matthew/data/01-D-gunzipped-csv/IRFMAMOUNT/SCHEMA_VERSION=1/TOP_TIMESTAMP=2021_11_08_00_50_05/PUBLIC_DVD_IRFMAMOUNT_202110010000.CSV', '/home/matthew/data/01-D-gunzipped-csv/IRFMAMOUNT/SCHEMA_VERSION=1/TOP_TIMESTAMP=2010_01_07_00_55_28/PUBLIC_DVD_IRFMAMOUNT_200912010000.CSV', '/home/matthew/data/01-D-gunzipped-csv/IRFMAMOUNT/SCHEMA_VERSION=1/TOP_TIMESTAMP=2018_07_08_00_30_01/PUBLIC_DVD_IRFMAMOUNT_201806010000.CSV', '/home/matthew/data/01-D-gunzipped-csv/IRFMAMOUNT/SCHEMA_VERSION=1/TOP_TIMESTAMP=2019_09_07_00_35_04/PUBLIC_DVD_IRFMAMOUNT_201908010000.CSV', '/home/matthew/data/01-D-gunzipped-csv/IRFMAMOUNT/SCHEMA_VERSION=1/TOP_TIMESTAMP=2014_05_07_00_30_10/PUBLIC_DVD_IRFMAMOUNT_201404010000.CSV', '/home/matthew/data/01-D-gunzipped-csv/IRFMAMOUNT/SCHEMA_VERSION=1/TOP_TIMESTAMP=2018_12_07_00_40_03/PUBLIC_DVD_IRFMAMOUNT_201811010000.CSV', '/home/matthew/data/01-D-gunzipped-csv/IRFMAMOUNT/SCHEMA_VERSION=1/TOP_TIMESTAMP=2016_05_07_00_45_06/PUBLIC_DVD_IRFMAMOUNT_201604010000.CSV', '/home/matthew/data/01-D-gunzipped-csv/IRFMAMOUNT/SCHEMA_VERSION=1/TOP_TIMESTAMP=2015_11_07_00_05_05/PUBLIC_DVD_IRFMAMOUNT_201510010000.CSV', '/home/matthew/data/01-D-gunzipped-csv/IRFMAMOUNT/SCHEMA_VERSION=1/TOP_TIMESTAMP=2011_12_07_01_05_38/PUBLIC_DVD_IRFMAMOUNT_201111010000.CSV', '/home/matthew/data/01-D-gunzipped-csv/IRFMAMOUNT/SCHEMA_VERSION=1/TOP_TIMESTAMP=2022_04_07_10_25_08/PUBLIC_DVD_IRFMAMOUNT_202203010000.CSV', '/home/matthew/data/01-D-gunzipped-csv/IRFMAMOUNT/SCHEMA_VERSION=1/TOP_TIMESTAMP=2017_03_10_18_30_12/PUBLIC_DVD_IRFMAMOUNT_201702010000.CSV', '/home/matthew/data/01-D-gunzipped-csv/IRFMAMOUNT/SCHEMA_VERSION=1/TOP_TIMESTAMP=2017_03_03_03_05_12/PUBLIC_DVD_IRFMAMOUNT_201611010000.CSV']"
     ]
    }
   ],
   "source": [
    "table = 'IRFMAMOUNT'\n",
    "csv_gz_to_parquet(table)"
   ]
  },
  {
   "cell_type": "code",
   "execution_count": 82,
   "id": "0a185c43-eb44-4407-a2a8-a21fa607997e",
   "metadata": {},
   "outputs": [
    {
     "ename": "AssertionError",
     "evalue": "Dest file is empty",
     "output_type": "error",
     "traceback": [
      "\u001b[0;31m---------------------------------------------------------------------------\u001b[0m",
      "\u001b[0;31mAssertionError\u001b[0m                            Traceback (most recent call last)",
      "Cell \u001b[0;32mIn[82], line 11\u001b[0m\n\u001b[1;32m      9\u001b[0m \u001b[38;5;28;01massert\u001b[39;00m lf\u001b[38;5;241m.\u001b[39mcollect()\u001b[38;5;241m.\u001b[39mshape[\u001b[38;5;241m0\u001b[39m] \u001b[38;5;241m>\u001b[39m \u001b[38;5;241m0\u001b[39m, \u001b[38;5;124mf\u001b[39m\u001b[38;5;124m\"\u001b[39m\u001b[38;5;124msource CSV is empty\u001b[39m\u001b[38;5;124m\"\u001b[39m\n\u001b[1;32m     10\u001b[0m df \u001b[38;5;241m=\u001b[39m pl\u001b[38;5;241m.\u001b[39mread_parquet(pq_path)\n\u001b[0;32m---> 11\u001b[0m \u001b[38;5;28;01massert\u001b[39;00m df\u001b[38;5;241m.\u001b[39mshape[\u001b[38;5;241m0\u001b[39m] \u001b[38;5;241m>\u001b[39m \u001b[38;5;241m0\u001b[39m, \u001b[38;5;124mf\u001b[39m\u001b[38;5;124m\"\u001b[39m\u001b[38;5;124mDest file is empty\u001b[39m\u001b[38;5;124m\"\u001b[39m\n\u001b[1;32m     12\u001b[0m \u001b[38;5;28;01massert\u001b[39;00m df\u001b[38;5;241m.\u001b[39mshape[\u001b[38;5;241m0\u001b[39m] \u001b[38;5;241m==\u001b[39m n_rows, \u001b[38;5;124mf\u001b[39m\u001b[38;5;124m\"\u001b[39m\u001b[38;5;124mDest file has wrong row count\u001b[39m\u001b[38;5;124m\"\u001b[39m\n",
      "\u001b[0;31mAssertionError\u001b[0m: Dest file is empty"
     ]
    }
   ],
   "source": [
    "csv_path = '/home/matthew/data/debug/test-in.CSV'\n",
    "pq_path = '/home/matthew/data/debug/test-out.parquet'\n",
    "\n",
    "n_rows = 1025\n",
    "df = pl.DataFrame({\"x\": n_rows * [1], \"y\": n_rows * [2]})\n",
    "df.write_csv(csv_path)\n",
    "\n",
    "lf = pl.scan_csv(csv_path, low_memory=low_memory)\n",
    "lf.sink_parquet(pq_path)\n",
    "assert lf.collect().shape[0] > 0, f\"source CSV is empty\"\n",
    "df = pl.read_parquet(pq_path)\n",
    "assert df.shape[0] > 0, f\"Dest file is empty\"\n",
    "assert df.shape[0] == n_rows, f\"Dest file has wrong row count\"\n"
   ]
  },
  {
   "cell_type": "code",
   "execution_count": 83,
   "id": "6124ed46-7578-4da8-b4e6-0ddef6e562eb",
   "metadata": {},
   "outputs": [
    {
     "data": {
      "text/plain": [
       "1025"
      ]
     },
     "execution_count": 83,
     "metadata": {},
     "output_type": "execute_result"
    }
   ],
   "source": [
    "n_rows"
   ]
  },
  {
   "cell_type": "code",
   "execution_count": null,
   "id": "69af02c3-d4aa-4cbc-a75b-0c77b72a0a6b",
   "metadata": {},
   "outputs": [],
   "source": [
    "for table in tqdm(os.listdir(all_csv_gz_dir)):\n",
    "    csv_gz_to_parquet(table)"
   ]
  },
  {
   "cell_type": "code",
   "execution_count": null,
   "id": "d27ef911-20f2-49bd-a792-8ae3255bce51",
   "metadata": {},
   "outputs": [],
   "source": []
  }
 ],
 "metadata": {
  "kernelspec": {
   "display_name": "Python 3 (ipykernel)",
   "language": "python",
   "name": "python3"
  },
  "language_info": {
   "codemirror_mode": {
    "name": "ipython",
    "version": 3
   },
   "file_extension": ".py",
   "mimetype": "text/x-python",
   "name": "python",
   "nbconvert_exporter": "python",
   "pygments_lexer": "ipython3",
   "version": "3.11.4"
  }
 },
 "nbformat": 4,
 "nbformat_minor": 5
}
