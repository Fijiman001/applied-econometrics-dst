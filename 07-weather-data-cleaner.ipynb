{
 "cells": [
  {
   "cell_type": "code",
   "execution_count": 1,
   "metadata": {},
   "outputs": [],
   "source": [
    "import pandas as pd\n",
    "import os"
   ]
  },
  {
   "cell_type": "code",
   "execution_count": 2,
   "metadata": {},
   "outputs": [],
   "source": [
    "#Define the clean and combine function\n",
    "def clean_and_combine(file_path):\n",
    "    #Load the data\n",
    "    weather_data = pd.read_csv(file_path)\n",
    "\n",
    "    #Clean Data\n",
    "    weather_data['Date'] = pd.to_datetime(weather_data[['Year', 'Month', 'Day']])\n",
    "    weather_data = weather_data.drop(columns=[\"Product code\", \n",
    "                                            \"Bureau of Meteorology station number\",\n",
    "                                            \"Days of accumulation of maximum temperature\", \n",
    "                                            \"Quality\",\n",
    "                                            \"Year\", \"Month\", \"Day\"])\n",
    "    weather_data = weather_data.loc[weather_data['Date'] >= '2010-01-01']\n",
    "\n",
    "    weather_data = weather_data.rename(columns={'Maximum temperature (Degree C)': 'Temperature'})\n",
    "\n",
    "\n",
    "    # Define the city-region mapping\n",
    "    city_region_map = {\n",
    "            'adelaide': 'SA1',\n",
    "            'brisbane': 'QLD1',\n",
    "            'sydney': 'NSW1',\n",
    "            'melbourne': 'VIC1',\n",
    "            'hobart': 'TAS1'\n",
    "                }  \n",
    "    \n",
    "    # Extract the city name from the file name\n",
    "    city_name = os.path.basename(file_name).split('weather_')[-1].split('.csv')[0]\n",
    "    region_code = city_region_map.get(city_name)\n",
    "    weather_data['regionid'] = region_code\n",
    "        \n",
    "    # Append cleaned data to list\n",
    "    all_data.append(weather_data)\n",
    "    print(f'Data cleaned and added to list for {region_code}')"
   ]
  },
  {
   "cell_type": "code",
   "execution_count": 3,
   "metadata": {},
   "outputs": [
    {
     "name": "stdout",
     "output_type": "stream",
     "text": [
      "Data cleaned and added to list for SA1\n",
      "Data cleaned and added to list for QLD1\n",
      "Data cleaned and added to list for TAS1\n",
      "Data cleaned and added to list for VIC1\n",
      "Data cleaned and added to list for NSW1\n",
      "All data merged and saved to CSV\n"
     ]
    }
   ],
   "source": [
    "# Specify the directory where your CSV files are stored\n",
    "directory_path = 'C:/Users/David/Documents/VWL/Master Toulouse/Semester 2 M1/Applied  Metrics Project/Data/weather data/'\n",
    "all_data = []\n",
    "# Loop through each CSV file in the directory\n",
    "for file_name in os.listdir(directory_path):\n",
    "    if file_name.endswith('.csv'):\n",
    "        # Construct the full file path\n",
    "        file_path = os.path.join(directory_path, file_name)\n",
    "\n",
    "        # Call the function to clean \n",
    "        clean_and_combine(file_path)\n",
    "\n",
    "\n",
    "# Merge all data frames\n",
    "merged_data = pd.concat(all_data)\n",
    "\n",
    "# Save merged data to CSV\n",
    "merged_data.to_csv('C:/Users/David/Documents/VWL/Master Toulouse/Semester 2 M1/Applied  Metrics Project/Data/weather_merged.csv', index=False)\n",
    "print('All data merged and saved to CSV')\n"
   ]
  }
 ],
 "metadata": {
  "kernelspec": {
   "display_name": "base",
   "language": "python",
   "name": "python3"
  },
  "language_info": {
   "codemirror_mode": {
    "name": "ipython",
    "version": 3
   },
   "file_extension": ".py",
   "mimetype": "text/x-python",
   "name": "python",
   "nbconvert_exporter": "python",
   "pygments_lexer": "ipython3",
   "version": "3.8.18"
  }
 },
 "nbformat": 4,
 "nbformat_minor": 2
}
