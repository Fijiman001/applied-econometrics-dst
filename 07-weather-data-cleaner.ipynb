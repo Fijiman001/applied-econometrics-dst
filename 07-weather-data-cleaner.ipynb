{
 "cells": [
  {
   "cell_type": "code",
   "execution_count": null,
   "metadata": {},
   "outputs": [],
   "source": [
    "import pandas as pd\n",
    "import os"
   ]
  },
  {
   "cell_type": "code",
   "execution_count": null,
   "metadata": {},
   "outputs": [],
   "source": [
    "#Define the clean and combine function\n",
    "def clean_and_combine(file_path):\n",
    "    #Load the data\n",
    "    weather_data = pd.read_csv(file_path)\n",
    "\n",
    "    #Clean Data\n",
    "    weather_data['Date'] = pd.to_datetime(weather_data[['Year', 'Month', 'Day']])\n",
    "    weather_data = weather_data.drop(columns=[\"Product code\", \n",
    "                                            \"Bureau of Meteorology station number\",\n",
    "                                            \"Days of accumulation of maximum temperature\", \n",
    "                                            \"Quality\",\n",
    "                                            \"Year\", \"Month\", \"Day\"])\n",
    "    weather_data = weather_data.loc[weather_data['Date'] >= '2009-01-01']\n",
    "\n",
    "    weather_data = weather_data.rename(columns={'Maximum temperature (Degree C)': 'temperature'})\n",
    "    \n",
    "    # Correct NaN\n",
    "    # Calculate the rolling mean with a window of 7 days (3 days before, the current day, and 3 days after)\n",
    "    weather_data['rolling_mean'] = weather_data['temperature'].rolling(window=3, min_periods=1, center=True).mean()\n",
    "    weather_data['temperature'] = weather_data['temperature'].fillna(weather_data['rolling_mean'])\n",
    "    weather_data = weather_data.drop(columns=['rolling_mean'])\n",
    "\n",
    "\n",
    "    # Define the city-region mapping\n",
    "    city_region_map = {\n",
    "            'adelaide': 'SA1',\n",
    "            'brisbane': 'QLD1',\n",
    "            'sydney': 'NSW1',\n",
    "            'melbourne': 'VIC1',\n",
    "            'hobart': 'TAS1'\n",
    "                }  \n",
    "    \n",
    "    # Extract the city name from the file name\n",
    "    city_name = os.path.basename(file_name).split('weather_')[-1].split('.csv')[0]\n",
    "    region_code = city_region_map.get(city_name)\n",
    "    weather_data['regionid'] = region_code\n",
    "        \n",
    "    # Append cleaned data to list\n",
    "    all_data.append(weather_data)\n",
    "    print(f'Data cleaned and added to list for {region_code}')"
   ]
  },
  {
   "cell_type": "code",
   "execution_count": null,
   "metadata": {},
   "outputs": [],
   "source": [
    "# Specify the directory where your CSV files are stored \n",
    "#data_dir = 'C:/Users/David/Documents/VWL/Master Toulouse/Semester 2 M1/Applied  Metrics Project/Data'\n",
    "data_dir = '/home/matthew/data'\n",
    "weather_dir = f'{data_dir}/weather data'\n",
    "all_data = []\n",
    "# Loop through each CSV file in the directory\n",
    "for file_name in os.listdir(weather_dir):\n",
    "    if file_name.endswith('.csv'):\n",
    "        # Construct the full file path\n",
    "        file_path = os.path.join(weather_dir, file_name)\n",
    "\n",
    "        # Call the function to clean \n",
    "        clean_and_combine(file_path)\n",
    "\n",
    "\n",
    "# Merge all data frames\n",
    "merged_data = pd.concat(all_data)\n"
   ]
  },
  {
   "cell_type": "code",
   "execution_count": null,
   "metadata": {},
   "outputs": [],
   "source": [
    "# check if any data is missing\n",
    "merged_data.isna().any()"
   ]
  },
  {
   "cell_type": "code",
   "execution_count": null,
   "metadata": {},
   "outputs": [],
   "source": [
    "# Some temperature is missing\n",
    "# check it's not on consecutive days\n",
    "# (so we can just interpolate to fill in gaps.)\n",
    "merged_data.sort_values(by=['regionid', 'Date'], inplace=True)\n",
    "\n",
    "t = merged_data['temperature']\n",
    "r = merged_data['regionid']\n",
    "merged_data['missing_consec'] = t.isna() & t.shift(1, fill_value=1).isna() & (r == r.shift(1))\n",
    "\n",
    "merged_data[merged_data['missing_consec'] | merged_data['missing_consec'].shift(-1) | merged_data['missing_consec'].shift(-2) | merged_data['missing_consec'].shift(2)] "
   ]
  },
  {
   "cell_type": "code",
   "execution_count": null,
   "metadata": {},
   "outputs": [],
   "source": [
    "# It seems we have up to 2 days missing in a row.\n",
    "# let's just linearly interpolate the gaps\n",
    "#merged_data.groupby('regionid').apply(lambda group: group['temperature'].interpolate(method='linear'))\n",
    "merged_data = merged_data.set_index('regionid').groupby('regionid').transform(pd.DataFrame.interpolate).reset_index()"
   ]
  },
  {
   "cell_type": "code",
   "execution_count": null,
   "metadata": {},
   "outputs": [],
   "source": [
    "merged_data.drop(columns=['missing_consec'], inplace=True)"
   ]
  },
  {
   "cell_type": "code",
   "execution_count": null,
   "metadata": {},
   "outputs": [],
   "source": [
    "# Save merged data to CSV\n",
    "merged_data.to_csv(f'{data_dir}/07-weather-merged.csv', index=False)\n",
    "print('All data merged and saved to CSV')"
   ]
  }
 ],
 "metadata": {
  "kernelspec": {
   "display_name": "Python 3 (ipykernel)",
   "language": "python",
   "name": "python3"
  },
  "language_info": {
   "codemirror_mode": {
    "name": "ipython",
    "version": 3
   },
   "file_extension": ".py",
   "mimetype": "text/x-python",
   "name": "python",
   "nbconvert_exporter": "python",
   "pygments_lexer": "ipython3",
   "version": "3.11.4"
  }
 },
 "nbformat": 4,
 "nbformat_minor": 4
}
