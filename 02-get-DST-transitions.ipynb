{
 "cells": [
  {
   "cell_type": "markdown",
   "id": "c83cfadb-099e-4082-85f6-9f62e864c26c",
   "metadata": {},
   "source": [
    "# Generate list of DST transitions dates\n",
    "\n",
    "We need to obtain a list of when daylight savings transitions happened.\n",
    "\n",
    "Python is able to convert from timezones with DST to ones without. (e.g. `Australia/Sydney` to `Australia/Brisbane`.) Therefore the python datetime library must contain the raw data about when timezone changes happen.\n",
    "\n",
    "This script grabs that data, and writes it into a convenient form.\n",
    "\n",
    "We do this instead of downloading from an official site such as [this](https://www.nsw.gov.au/about-nsw/daylight-saving), because the official site has one page per year. It would be a pain to go through each one. We'd probably make a mistake doing so. \n",
    "\n",
    "Note that over the last decade or two, all of the regions with DST move their clock (\"transition\")  on the same day. \n",
    "They all shift forward/back by the same amount (1 hour).\n",
    "Although SA is permenantly half an hour off from VIC, NSW, TAS.\n",
    "(So they actually move their clocks back/forward half an hour before the others. For now we're just looking at dates and not caring about that. Since in practice people physically change their clocks just after dinnertime. If anything, people may go to be earlier/later a few hours before a DST transition. So the exact 2am transition time is not really relevant for us.)\n",
    "\n",
    "Note that the dates are saved to CSV as `yyyy-mm-dd`. I have verified manually that R `read_csv` interprets this correctly."
   ]
  },
  {
   "cell_type": "code",
   "execution_count": 1,
   "id": "3ceeff06-d47d-46fc-979e-a3e5e138654c",
   "metadata": {},
   "outputs": [],
   "source": [
    "import datetime as dt\n",
    "import os\n",
    "\n",
    "import pytz\n",
    "import pandas as pd"
   ]
  },
  {
   "cell_type": "code",
   "execution_count": 2,
   "id": "c87e923d-ea69-4469-bb48-ab7d80e6f3ef",
   "metadata": {},
   "outputs": [],
   "source": [
    "base_data_dir = '/home/matthew/data/'\n",
    "output_path = os.path.join(base_data_dir, '02-dst-dates.csv')"
   ]
  },
  {
   "cell_type": "code",
   "execution_count": 3,
   "id": "9e98d194-df48-467a-9ab5-9afdef70f73e",
   "metadata": {},
   "outputs": [],
   "source": [
    "# AEMO data is in \"market time\", which is Brisbane time (no DST), UTC+10.\n",
    "MARKET_TIME_OFFSET = 10 "
   ]
  },
  {
   "cell_type": "code",
   "execution_count": 4,
   "id": "8b7720af-03c1-4f23-8b88-56302e60cc96",
   "metadata": {},
   "outputs": [],
   "source": [
    "data = []\n",
    "tz = pytz.timezone('Australia/Sydney')\n",
    "assert len(tz._utc_transition_times) == len(tz._transition_info)\n",
    "for (transition_utc, (delta, t2, tz_acronym)) in zip(tz._utc_transition_times, tz._transition_info):\n",
    "    if (dt.datetime(year=2000, month=1, day=1) < transition_utc) and (transition_utc < dt.datetime.now() + dt.timedelta(days=365)):\n",
    "        data.append({\n",
    "            'date': transition_utc.astimezone(tz).date(), \n",
    "            'direction': 'start' if (t2 > dt.timedelta(0)) else 'stop',\n",
    "        })\n",
    "\n",
    "df = pd.DataFrame(data)"
   ]
  },
  {
   "cell_type": "code",
   "execution_count": 5,
   "id": "c7ecb84e-39fa-4582-bc71-fcba2c1f7907",
   "metadata": {},
   "outputs": [
    {
     "ename": "AssertionError",
     "evalue": "",
     "output_type": "error",
     "traceback": [
      "\u001b[0;31m---------------------------------------------------------------------------\u001b[0m",
      "\u001b[0;31mAssertionError\u001b[0m                            Traceback (most recent call last)",
      "Cell \u001b[0;32mIn[5], line 8\u001b[0m\n\u001b[1;32m      5\u001b[0m expected_date \u001b[38;5;241m=\u001b[39m dt\u001b[38;5;241m.\u001b[39mdate(\u001b[38;5;241m2023\u001b[39m, \u001b[38;5;241m10\u001b[39m, \u001b[38;5;241m1\u001b[39m)\n\u001b[1;32m      6\u001b[0m expected_direction \u001b[38;5;241m=\u001b[39m \u001b[38;5;124m'\u001b[39m\u001b[38;5;124mstart\u001b[39m\u001b[38;5;124m'\u001b[39m\n\u001b[0;32m----> 8\u001b[0m \u001b[38;5;28;01massert\u001b[39;00m df[(df[\u001b[38;5;124m'\u001b[39m\u001b[38;5;124mdate\u001b[39m\u001b[38;5;124m'\u001b[39m] \u001b[38;5;241m==\u001b[39m expected_date) \u001b[38;5;241m&\u001b[39m (df[\u001b[38;5;124m'\u001b[39m\u001b[38;5;124mdirection\u001b[39m\u001b[38;5;124m'\u001b[39m] \u001b[38;5;241m==\u001b[39m expected_direction)]\u001b[38;5;241m.\u001b[39mshape[\u001b[38;5;241m0\u001b[39m] \u001b[38;5;241m==\u001b[39m \u001b[38;5;241m1\u001b[39m\n",
      "\u001b[0;31mAssertionError\u001b[0m: "
     ]
    }
   ],
   "source": [
    "# do a unit test\n",
    "# to make sure we're not off by 1\n",
    "# https://www.nsw.gov.au/about-nsw/daylight-saving\n",
    "# \"Daylight saving begins at 2am, Eastern Standard Time on Sunday 1 October 2023.\"\n",
    "expected_date = dt.date(2023, 10, 1)\n",
    "expected_direction = 'start'\n",
    "\n",
    "assert df[(df['date'] == expected_date) & (df['direction'] == expected_direction)].shape[0] == 1"
   ]
  },
  {
   "cell_type": "code",
   "execution_count": null,
   "id": "532cbf43-e229-4764-8614-0591183ad31b",
   "metadata": {},
   "outputs": [],
   "source": [
    "df.to_csv(output_path, index=False)"
   ]
  }
 ],
 "metadata": {
  "kernelspec": {
   "display_name": "Python 3 (ipykernel)",
   "language": "python",
   "name": "python3"
  },
  "language_info": {
   "codemirror_mode": {
    "name": "ipython",
    "version": 3
   },
   "file_extension": ".py",
   "mimetype": "text/x-python",
   "name": "python",
   "nbconvert_exporter": "python",
   "pygments_lexer": "ipython3",
   "version": "3.11.4"
  }
 },
 "nbformat": 4,
 "nbformat_minor": 5
}
