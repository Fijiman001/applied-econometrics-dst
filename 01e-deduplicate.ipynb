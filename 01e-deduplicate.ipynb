{
 "cells": [
  {
   "cell_type": "markdown",
   "id": "433b56bd-68ce-4bfc-80ca-b44d171ce6d4",
   "metadata": {},
   "source": [
    "# deduplicate"
   ]
  },
  {
   "cell_type": "code",
   "execution_count": null,
   "id": "e462eca3-01bc-4a70-8694-386e1050c762",
   "metadata": {},
   "outputs": [],
   "source": [
    "import os\n",
    "import json\n",
    "\n",
    "import polars as pl"
   ]
  },
  {
   "cell_type": "markdown",
   "id": "026391c6-21d7-4263-a71e-91b0a8b9f0e5",
   "metadata": {},
   "source": [
    "## Constants"
   ]
  },
  {
   "cell_type": "code",
   "execution_count": null,
   "id": "7479d67c-3266-4574-9975-8cbd27d9f95b",
   "metadata": {},
   "outputs": [],
   "source": [
    "disk_one = '/media/matthew/Tux/AppliedEconometrics/data'\n",
    "disk_two = '/media/matthew/nemweb/AppliedEconometrics/data'\n",
    "repo_data_dir = '/home/matthew/Documents/TSE/AppliedEconometrics/repo/data/'\n",
    "laptop_data_dir = '/home/matthew/data/'\n",
    "\n",
    "\n",
    "source_dir = os.path.join(laptop_data_dir, '01-F-parquet-duplicated')\n",
    "dest_dir = os.path.join(laptop_data_dir, '01-G-parquet-deduplicated')\n",
    "\n",
    "schema_path = os.path.join(repo_data_dir, 'schemas.json')\n"
   ]
  },
  {
   "cell_type": "markdown",
   "id": "1655ecbb-eeaf-4cca-8506-ac9cfab8acdc",
   "metadata": {},
   "source": [
    "## Deduplicate"
   ]
  },
  {
   "cell_type": "code",
   "execution_count": null,
   "id": "3a8f8ece-1a7d-43eb-87ae-ec4567e0d2f6",
   "metadata": {},
   "outputs": [],
   "source": []
  }
 ],
 "metadata": {
  "kernelspec": {
   "display_name": "Python 3 (ipykernel)",
   "language": "python",
   "name": "python3"
  },
  "language_info": {
   "codemirror_mode": {
    "name": "ipython",
    "version": 3
   },
   "file_extension": ".py",
   "mimetype": "text/x-python",
   "name": "python",
   "nbconvert_exporter": "python",
   "pygments_lexer": "ipython3",
   "version": "3.11.4"
  }
 },
 "nbformat": 4,
 "nbformat_minor": 5
}
