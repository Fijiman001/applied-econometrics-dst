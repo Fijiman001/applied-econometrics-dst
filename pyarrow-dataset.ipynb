{
 "cells": [
  {
   "cell_type": "code",
   "execution_count": 2,
   "id": "30f4fc36-10f7-4ce9-8bb4-fb50ce825807",
   "metadata": {},
   "outputs": [],
   "source": [
    "import os\n",
    "import json\n",
    "import re\n",
    "import shutil\n",
    "\n",
    "import pyarrow.dataset as ds\n",
    "import pyarrow as pa\n",
    "import pyarrow.csv as csv\n",
    "import pyarrow.compute as pc\n",
    "import pyarrow"
   ]
  },
  {
   "cell_type": "code",
   "execution_count": 3,
   "id": "7a771a16-793c-46bf-8120-816a8f26f408",
   "metadata": {},
   "outputs": [],
   "source": [
    "repo_data_dir = '/home/matthew/Documents/TSE/AppliedEconometrics/repo/data/'\n",
    "laptop_data_dir = '/home/matthew/data/'\n",
    "\n",
    "schema_path = os.path.join(repo_data_dir, 'schemas.json')\n"
   ]
  },
  {
   "cell_type": "code",
   "execution_count": 4,
   "id": "44518f20-6873-4b43-ae03-cebe928ba517",
   "metadata": {},
   "outputs": [],
   "source": [
    "with open(schema_path, 'r') as f:\n",
    "    schemas = json.load(f)"
   ]
  },
  {
   "cell_type": "code",
   "execution_count": 4,
   "id": "31c2414b-323d-4a3e-be6d-fc13bf89afc5",
   "metadata": {},
   "outputs": [],
   "source": [
    "# AEMO's schemas have Oracle SQL types\n",
    "# map those to types arrow can use\n",
    "# e.g. DATE -> pl.datatypes.Date\n",
    "# NUMBER(2,0) -> pl.Int16\n",
    "# NUMBER(15,5) -> pl.Float64\n",
    "# VARCHAR2(10) -> pl.String\n",
    "# if date_as_str, return string instead of datetime\n",
    "# (because pyarrow can't read datetimes when parsing from CSV)\n",
    "def aemo_type_to_arrow_type(t: str, date_as_str=False) -> pa.DataType:\n",
    "    t = t.upper()\n",
    "    if re.match(r\"VARCHAR(2)?\\(\\d+\\)\", t):\n",
    "        return pa.string()\n",
    "    if re.match(r\"CHAR\\((\\d+)\\)\", t):\n",
    "        # single character\n",
    "        # arrow has no dedicated type for that\n",
    "        # so use string\n",
    "        # (could use categorical?)\n",
    "        return pa.string()\n",
    "    elif t.startswith(\"NUMBER\"):\n",
    "        match = re.match(r\"NUMBER ?\\((\\d+), ?(\\d+)\\)\", t)\n",
    "        if match:\n",
    "            whole_digits = int(match.group(1))\n",
    "            decimal_digits = int(match.group(2))\n",
    "        else:\n",
    "            # e.g. NUMBER(2)\n",
    "            match = re.match(r\"NUMBER ?\\((\\d+)\", t)\n",
    "            assert match, f\"Unsure how to cast {t} to arrow type\"\n",
    "            whole_digits = int(match.group(1))\n",
    "            decimal_digits = 0\n",
    "            \n",
    "        if decimal_digits == 0:\n",
    "            # integer\n",
    "            # we assume signed (can't tell unsigned from the schema)\n",
    "            # but how many bits?\n",
    "            max_val = 10**whole_digits\n",
    "\n",
    "            if 2**(8-1) > max_val:\n",
    "                return pa.int8()\n",
    "            elif 2**(16-1) > max_val:\n",
    "                return pa.int16()\n",
    "            elif 2**(32-1) > max_val:\n",
    "                return pa.int32()\n",
    "            else:\n",
    "                return pa.int64()\n",
    "        else:\n",
    "            # we could use pa.decimal128(whole_digits, decimal_digits)\n",
    "            # but we don't need that much accuracy\n",
    "            return pa.float64()\n",
    "    elif (t == 'DATE') or re.match(r\"TIMESTAMP\\((\\d)\\)\", t):\n",
    "        # watch out, when AEMO say \"date\" they mean \"datetime\"\n",
    "        # for both dates and datetimes they say \"date\",\n",
    "        # but both have a time component. (For actual dates, it's always midnight.)\n",
    "        # and some dates go out as far as 9999-12-31 23:59:59.999\n",
    "        # (and some dates are 9999-12-31 23:59:59.997)\n",
    "        if date_as_str:\n",
    "            return pa.string()\n",
    "        else:\n",
    "            return pa.timestamp('s')\n",
    "    else:\n",
    "        raise ValueError(f\"Unsure how to convert AEMO type {t} to arrow type\")\n"
   ]
  },
  {
   "cell_type": "code",
   "execution_count": 5,
   "id": "3413c812-aefb-4451-899e-afdbf8af2c56",
   "metadata": {},
   "outputs": [
    {
     "ename": "KeyboardInterrupt",
     "evalue": "",
     "output_type": "error",
     "traceback": [
      "\u001b[0;31m---------------------------------------------------------------------------\u001b[0m",
      "\u001b[0;31mKeyboardInterrupt\u001b[0m                         Traceback (most recent call last)",
      "    \u001b[0;31m[... skipping hidden 1 frame]\u001b[0m\n",
      "Cell \u001b[0;32mIn[5], line 26\u001b[0m\n\u001b[1;32m     14\u001b[0m dataset \u001b[38;5;241m=\u001b[39m ds\u001b[38;5;241m.\u001b[39mdataset(\n\u001b[1;32m     15\u001b[0m     source\u001b[38;5;241m=\u001b[39msource_dir, \n\u001b[1;32m     16\u001b[0m     \u001b[38;5;28mformat\u001b[39m\u001b[38;5;241m=\u001b[39mds\u001b[38;5;241m.\u001b[39mCsvFileFormat(\n\u001b[0;32m   (...)\u001b[0m\n\u001b[1;32m     22\u001b[0m     schema\u001b[38;5;241m=\u001b[39mpyarrow\u001b[38;5;241m.\u001b[39mschema(schema)\n\u001b[1;32m     23\u001b[0m )\n\u001b[0;32m---> 26\u001b[0m table \u001b[38;5;241m=\u001b[39m \u001b[43mdataset\u001b[49m\u001b[38;5;241;43m.\u001b[39;49m\u001b[43mto_table\u001b[49m\u001b[43m(\u001b[49m\u001b[43m)\u001b[49m\n\u001b[1;32m     27\u001b[0m \u001b[38;5;28;01mfor\u001b[39;00m (c, t) \u001b[38;5;129;01min\u001b[39;00m schema\u001b[38;5;241m.\u001b[39mitems():\n",
      "\u001b[0;31mKeyboardInterrupt\u001b[0m: ",
      "\nDuring handling of the above exception, another exception occurred:\n",
      "\u001b[0;31mKeyboardInterrupt\u001b[0m                         Traceback (most recent call last)",
      "File \u001b[0;32m~/Documents/TSE/AppliedEconometrics/repo/venv/lib/python3.11/site-packages/IPython/core/interactiveshell.py:3574\u001b[0m, in \u001b[0;36mInteractiveShell.run_code\u001b[0;34m(self, code_obj, result, async_)\u001b[0m\n\u001b[1;32m   3572\u001b[0m \u001b[38;5;28;01mexcept\u001b[39;00m:\n\u001b[1;32m   3573\u001b[0m     \u001b[38;5;28;01mif\u001b[39;00m result \u001b[38;5;129;01mis\u001b[39;00m \u001b[38;5;129;01mnot\u001b[39;00m \u001b[38;5;28;01mNone\u001b[39;00m:\n\u001b[0;32m-> 3574\u001b[0m         result\u001b[38;5;241m.\u001b[39merror_in_exec \u001b[38;5;241m=\u001b[39m \u001b[43msys\u001b[49m\u001b[38;5;241;43m.\u001b[39;49m\u001b[43mexc_info\u001b[49m\u001b[43m(\u001b[49m\u001b[43m)\u001b[49m[\u001b[38;5;241m1\u001b[39m]\n\u001b[1;32m   3575\u001b[0m     \u001b[38;5;28mself\u001b[39m\u001b[38;5;241m.\u001b[39mshowtraceback(running_compiled_code\u001b[38;5;241m=\u001b[39m\u001b[38;5;28;01mTrue\u001b[39;00m)\n\u001b[1;32m   3576\u001b[0m \u001b[38;5;28;01melse\u001b[39;00m:\n",
      "\u001b[0;31mKeyboardInterrupt\u001b[0m: "
     ]
    }
   ],
   "source": [
    "table = \"DISPATCHPRICE\"\n",
    "source_dir = f\"/home/matthew/data/01-D-split-mapped-csv-done/{table}/\"\n",
    "\n",
    "csv_schema = {c: aemo_type_to_arrow_type(t['AEMO_type'], date_as_str=False) for (c,t) in schemas[table]['columns'].items()}\n",
    "part_schema = {\n",
    "    \"SCHEMA_VERSION\": pa.int8(), \n",
    "    \"TOP_TIMESTAMP\": pa.string(),\n",
    "}\n",
    "schema = dict(csv_schema, **part_schema)\n",
    "part = ds.partitioning(\n",
    "    pa.schema(part_schema),\n",
    "    flavor=\"hive\"\n",
    ")\n",
    "dataset = ds.dataset(\n",
    "    source=source_dir, \n",
    "    format=ds.CsvFileFormat(\n",
    "        convert_options=csv.ConvertOptions(\n",
    "            timestamp_parsers=[\"%Y/%m/%d %H:%M:%S\"]\n",
    "        )\n",
    "    ),\n",
    "    partitioning=part,\n",
    "    schema=pyarrow.schema(schema)\n",
    ")\n",
    "\n",
    "\n",
    "table = dataset.to_table()\n",
    "for (c, t) in schema.items():\n",
    "    if isinstance(t, pa.TimestampType):\n",
    "        col_i = table.schema.get_all_field_indices(c)[0]\n",
    "        table = table.set_column(col_i, c, pc.assume_timezone(table.column(col_i), 'Australia/Brisbane'))\n"
   ]
  },
  {
   "cell_type": "code",
   "execution_count": null,
   "id": "3ddb9fa4-ad38-4cc2-929c-2b4c4fdc429f",
   "metadata": {},
   "outputs": [],
   "source": [
    "#dest_partition_cols = ['REGIONID', 'INTERVENTION']\n",
    "dest_partition_cols = []\n",
    "dest_dir = f\"/home/matthew/data/debug/test-pyarrow-partitioned/{table}-3\"\n",
    "shutil.rmtree(dest_dir, ignore_errors=True)\n",
    "ds.write_dataset(\n",
    "    data=dataset, \n",
    "    base_dir=dest_dir, \n",
    "    format=\"parquet\", \n",
    "    min_rows_per_group=1024*(2**3), \n",
    "    existing_data_behavior=\"delete_matching\",\n",
    "    partitioning = ds.partitioning(\n",
    "        pa.schema({c:t for (c,t) in schema.items() if c in dest_partition_cols}),\n",
    "        flavor=\"hive\"\n",
    "    )\n",
    ")"
   ]
  },
  {
   "cell_type": "code",
   "execution_count": null,
   "id": "79a21264-4f64-45d1-b1b0-4fd26de26fbe",
   "metadata": {},
   "outputs": [],
   "source": [
    "import polars as pl\n",
    "\n",
    "pl.scan_parquet(f\"/home/matthew/data/debug/test-pyarrow-partitioned/{table}-2/\").fetch()"
   ]
  },
  {
   "cell_type": "code",
   "execution_count": 32,
   "id": "887c6925-e4a9-4c80-ab57-8122cbd1c416",
   "metadata": {},
   "outputs": [
    {
     "data": {
      "text/html": [
       "<div>\n",
       "<style scoped>\n",
       "    .dataframe tbody tr th:only-of-type {\n",
       "        vertical-align: middle;\n",
       "    }\n",
       "\n",
       "    .dataframe tbody tr th {\n",
       "        vertical-align: top;\n",
       "    }\n",
       "\n",
       "    .dataframe thead th {\n",
       "        text-align: right;\n",
       "    }\n",
       "</style>\n",
       "<table border=\"1\" class=\"dataframe\">\n",
       "  <thead>\n",
       "    <tr style=\"text-align: right;\">\n",
       "      <th></th>\n",
       "      <th>a</th>\n",
       "      <th>t</th>\n",
       "    </tr>\n",
       "  </thead>\n",
       "  <tbody>\n",
       "    <tr>\n",
       "      <th>0</th>\n",
       "      <td>1</td>\n",
       "      <td>2016-04-20 10:12:10</td>\n",
       "    </tr>\n",
       "  </tbody>\n",
       "</table>\n",
       "</div>"
      ],
      "text/plain": [
       "   a                   t\n",
       "0  1 2016-04-20 10:12:10"
      ]
     },
     "execution_count": 32,
     "metadata": {},
     "output_type": "execute_result"
    }
   ],
   "source": [
    "schema = {\n",
    "    'a': pa.int64(),\n",
    "    't': pa.timestamp('us'),\n",
    "}\n",
    "dataset = ds.dataset(\n",
    "    source='/home/matthew/data/debug/testcsv/data.csv', \n",
    "    format=ds.CsvFileFormat(\n",
    "        convert_options=csv.ConvertOptions(\n",
    "            timestamp_parsers=[\n",
    "                \"%Y/%m/%d %H:%M:%S\",\n",
    "                \"%Y/%m/%d %H:%M:%S.%f\",\n",
    "            ]\n",
    "        )\n",
    "    ),\n",
    "    schema=pyarrow.schema(schema)\n",
    ")\n",
    "\n",
    "dataset.to_table().to_pandas()"
   ]
  },
  {
   "cell_type": "code",
   "execution_count": 19,
   "id": "eb2fe999-92bd-492b-b16f-0d8ab77d8109",
   "metadata": {},
   "outputs": [
    {
     "data": {
      "text/plain": [
       "datetime.datetime(2016, 4, 20, 10, 12, 10, 123456)"
      ]
     },
     "execution_count": 19,
     "metadata": {},
     "output_type": "execute_result"
    }
   ],
   "source": [
    "from datetime import datetime\n",
    "datetime.strptime(\"2016/04/20 10:12:10.123456\", \"%Y/%m/%d %H:%M:%S.%f\")"
   ]
  },
  {
   "cell_type": "code",
   "execution_count": null,
   "id": "59540c96-e971-453b-ab73-b418b29809cd",
   "metadata": {},
   "outputs": [],
   "source": [
    "dir(dataset)"
   ]
  },
  {
   "cell_type": "code",
   "execution_count": null,
   "id": "609d4bd8-210c-40e6-ad15-316415a7ce46",
   "metadata": {},
   "outputs": [],
   "source": [
    "table.schema.get_all_field_indices('t')[0]"
   ]
  },
  {
   "cell_type": "code",
   "execution_count": null,
   "id": "c79ec67c-a1af-4cd8-919a-0fd0d31f8496",
   "metadata": {},
   "outputs": [],
   "source": [
    "isinstance(pa.timestamp('s'), pa.TimestampType)"
   ]
  },
  {
   "cell_type": "code",
   "execution_count": null,
   "id": "bcb8de7b-a21b-494d-8f5f-8688fcd68a53",
   "metadata": {},
   "outputs": [],
   "source": [
    "pa.TimestampType"
   ]
  },
  {
   "cell_type": "code",
   "execution_count": null,
   "id": "94298b89-943d-46b5-be01-bb786614f8f0",
   "metadata": {},
   "outputs": [],
   "source": []
  }
 ],
 "metadata": {
  "kernelspec": {
   "display_name": "Python 3 (ipykernel)",
   "language": "python",
   "name": "python3"
  },
  "language_info": {
   "codemirror_mode": {
    "name": "ipython",
    "version": 3
   },
   "file_extension": ".py",
   "mimetype": "text/x-python",
   "name": "python",
   "nbconvert_exporter": "python",
   "pygments_lexer": "ipython3",
   "version": "3.11.4"
  }
 },
 "nbformat": 4,
 "nbformat_minor": 5
}
