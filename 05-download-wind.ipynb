{
 "cells": [
  {
   "cell_type": "markdown",
   "id": "0b67c53c-5503-4aea-aa36-9a551bd2cef9",
   "metadata": {},
   "source": [
    "# Wind speed data download\n",
    "This script webscrapes windspeed data from Willy Weather.\n",
    "\n",
    "e.g.\n",
    "https://www.willyweather.com.au/climate/weather-stations/tas/hobart/hobart-ellerslie-road.html?superGraph=plots:wind-speed,wind-gust,grain:monthly,graphRange:1year&climateRecords=period:all-time&longTermGraph=plots:temperature,period:all-time,month:all&windRose=period:1-year,month:all-months\n",
    "\n",
    "Units are km/h\n",
    "\n",
    "This script takes a few minutes."
   ]
  },
  {
   "cell_type": "code",
   "execution_count": 14,
   "id": "749606ca-eacf-4fc7-ae26-31f63d52b4ce",
   "metadata": {},
   "outputs": [],
   "source": [
    "import datetime as dt\n",
    "import os\n",
    "\n",
    "import requests\n",
    "import pandas as pd\n",
    "from tqdm import tqdm"
   ]
  },
  {
   "cell_type": "code",
   "execution_count": 15,
   "id": "932f8481-84b0-4eea-8603-d37a3a981872",
   "metadata": {},
   "outputs": [],
   "source": [
    "base_data_dir = 'data'"
   ]
  },
  {
   "cell_type": "code",
   "execution_count": 16,
   "id": "3690bfc5-4aa2-4238-bdba-fd4c860e7c5e",
   "metadata": {},
   "outputs": [],
   "source": [
    "stations = [\n",
    "    {\n",
    "        'regionid': 'NSW1',\n",
    "        'name': 'Dubbo',\n",
    "        'id': 340,\n",
    "    },\n",
    "    {\n",
    "        'regionid': 'SA1',\n",
    "        'name': 'Coober Pedy',\n",
    "        'id': 133\n",
    "    },\n",
    "    {\n",
    "        'regionid': 'QLD1',\n",
    "        'name': 'Longreach',\n",
    "        'id': 236,\n",
    "    },\n",
    "    {\n",
    "        'regionid': 'VIC1',\n",
    "        'name': 'Bendigo',\n",
    "        'id': 411\n",
    "    },\n",
    "    {\n",
    "        'regionid': 'TAS1',\n",
    "        'name': 'Hobart',\n",
    "        'id': 501\n",
    "    },\n",
    "    \n",
    "]\n",
    "start_year = 2009\n",
    "end_year = 2023"
   ]
  },
  {
   "cell_type": "code",
   "execution_count": 17,
   "id": "a2c51879-441b-493e-9a4c-c524738a25cb",
   "metadata": {},
   "outputs": [
    {
     "name": "stdout",
     "output_type": "stream",
     "text": [
      "Starting\n"
     ]
    },
    {
     "name": "stderr",
     "output_type": "stream",
     "text": [
      "100%|██████████████████████████████████████████████████████████████████████████████████████████████████████████████████████████████████████████████████| 15/15 [02:10<00:00,  8.73s/it]\n"
     ]
    }
   ],
   "source": [
    "data = []\n",
    "print(\"Starting\")\n",
    "for year in tqdm(range(start_year, end_year+1)):\n",
    "    for station in stations:\n",
    "        \n",
    "        start_date = f\"{year}-01-01\"\n",
    "        end_date = f\"{year}-12-31\"\n",
    "        \n",
    "        url = f\"https://www.willyweather.com.au/climate/weather-stations/graphs.json?graph=station:{station['id']},startDate:{start_date},endDate:{end_date},grain:daily,longTermAverageType:all-time,series=order:5,id:avg-wind-speed,type:climate,series=order:6,id:max-wind-speed,type:climate,series=order:7,id:avg-wind-speed,type:climate,series=order:8,id:max-wind-direction,type:climate,series=order:9,id:long-term-avg-avg-wind-speed,type:climate,series=order:10,id:long-term-avg-max-wind-speed,type:climate\"\n",
    "        raw = requests.get(url).json()\n",
    "        for metric in raw['data']['climateGraphs']:\n",
    "            for day in raw['data']['climateGraphs'][metric]['dataConfig']['series']['groups']:\n",
    "                for point in day['points']:\n",
    "                    data.append({\n",
    "                        'regionid': station['regionid'],\n",
    "                        'metric': metric.replace('-', '_') + '_km_per_h',\n",
    "                        'date': dt.datetime.strptime(day['dateTime'], \"%Y-%m-%d %H:%M:%S\").date(),\n",
    "                        't': point['x'],\n",
    "                        'value': point['y']\n",
    "                    })"
   ]
  },
  {
   "cell_type": "code",
   "execution_count": 18,
   "id": "fb0bd032-da49-42e8-8a9a-97f9911f1238",
   "metadata": {},
   "outputs": [
    {
     "data": {
      "text/html": [
       "<div>\n",
       "<style scoped>\n",
       "    .dataframe tbody tr th:only-of-type {\n",
       "        vertical-align: middle;\n",
       "    }\n",
       "\n",
       "    .dataframe tbody tr th {\n",
       "        vertical-align: top;\n",
       "    }\n",
       "\n",
       "    .dataframe thead th {\n",
       "        text-align: right;\n",
       "    }\n",
       "</style>\n",
       "<table border=\"1\" class=\"dataframe\">\n",
       "  <thead>\n",
       "    <tr style=\"text-align: right;\">\n",
       "      <th>metric</th>\n",
       "      <th>date</th>\n",
       "      <th>regionid</th>\n",
       "      <th>avg_wind_speed_km_per_h</th>\n",
       "      <th>max_wind_speed_km_per_h</th>\n",
       "    </tr>\n",
       "  </thead>\n",
       "  <tbody>\n",
       "    <tr>\n",
       "      <th>0</th>\n",
       "      <td>2009-01-01</td>\n",
       "      <td>NSW1</td>\n",
       "      <td>14.8</td>\n",
       "      <td>42.5</td>\n",
       "    </tr>\n",
       "    <tr>\n",
       "      <th>1</th>\n",
       "      <td>2009-01-01</td>\n",
       "      <td>QLD1</td>\n",
       "      <td>17.3</td>\n",
       "      <td>70.2</td>\n",
       "    </tr>\n",
       "    <tr>\n",
       "      <th>2</th>\n",
       "      <td>2009-01-01</td>\n",
       "      <td>SA1</td>\n",
       "      <td>23.4</td>\n",
       "      <td>50.0</td>\n",
       "    </tr>\n",
       "    <tr>\n",
       "      <th>3</th>\n",
       "      <td>2009-01-01</td>\n",
       "      <td>TAS1</td>\n",
       "      <td>24.5</td>\n",
       "      <td>76.0</td>\n",
       "    </tr>\n",
       "    <tr>\n",
       "      <th>4</th>\n",
       "      <td>2009-01-01</td>\n",
       "      <td>VIC1</td>\n",
       "      <td>18.4</td>\n",
       "      <td>55.4</td>\n",
       "    </tr>\n",
       "  </tbody>\n",
       "</table>\n",
       "</div>"
      ],
      "text/plain": [
       "metric        date regionid  avg_wind_speed_km_per_h  max_wind_speed_km_per_h\n",
       "0       2009-01-01     NSW1                     14.8                     42.5\n",
       "1       2009-01-01     QLD1                     17.3                     70.2\n",
       "2       2009-01-01      SA1                     23.4                     50.0\n",
       "3       2009-01-01     TAS1                     24.5                     76.0\n",
       "4       2009-01-01     VIC1                     18.4                     55.4"
      ]
     },
     "execution_count": 18,
     "metadata": {},
     "output_type": "execute_result"
    }
   ],
   "source": [
    "df = pd.DataFrame(data)\n",
    "df = df.pivot(index=['regionid', 'date'], columns='metric', values='value').reset_index()\n",
    "df = df.groupby(['date', 'regionid']).agg('mean').reset_index()\n",
    "df.head()"
   ]
  },
  {
   "cell_type": "code",
   "execution_count": 19,
   "id": "1fcf3858-600e-4661-834c-444e5decd9fc",
   "metadata": {},
   "outputs": [],
   "source": [
    "output_path = os.path.join(base_data_dir, '05-wind.csv')\n",
    "df.to_csv(output_path, index=False)"
   ]
  },
  {
   "cell_type": "code",
   "execution_count": null,
   "id": "4a9d6b1b-ee74-4c64-9cf4-ea4fda7cf0f1",
   "metadata": {},
   "outputs": [],
   "source": []
  }
 ],
 "metadata": {
  "kernelspec": {
   "display_name": "Python 3 (ipykernel)",
   "language": "python",
   "name": "python3"
  },
  "language_info": {
   "codemirror_mode": {
    "name": "ipython",
    "version": 3
   },
   "file_extension": ".py",
   "mimetype": "text/x-python",
   "name": "python",
   "nbconvert_exporter": "python",
   "pygments_lexer": "ipython3",
   "version": "3.11.4"
  }
 },
 "nbformat": 4,
 "nbformat_minor": 5
}
