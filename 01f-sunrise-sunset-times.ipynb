{
 "cells": [
  {
   "cell_type": "markdown",
   "id": "76391a6a-d05f-45ef-9d67-cf9bcd19526f",
   "metadata": {},
   "source": [
    "# Sunlight data\n",
    "\n",
    "This script generates a graph of sunrise/sunset throughout the year,\n",
    "for the 2nd presentation."
   ]
  },
  {
   "cell_type": "code",
   "execution_count": null,
   "id": "9a6b681b-3360-4169-b3a4-35c3fd4cbb96",
   "metadata": {},
   "outputs": [],
   "source": [
    "%pip install -r ../requirements.txt"
   ]
  },
  {
   "cell_type": "code",
   "execution_count": null,
   "id": "6d4c8db9-0583-4794-9e57-0a8c5fbedac7",
   "metadata": {},
   "outputs": [],
   "source": [
    "import datetime as dt\n",
    "import sys\n",
    "import os\n",
    "\n",
    "from astral.sun import sun\n",
    "from astral.geocoder import database, lookup\n",
    "from astral import LocationInfo\n",
    "import pandas as pd"
   ]
  },
  {
   "cell_type": "code",
   "execution_count": null,
   "id": "d27bd7d1-01e5-4a57-bd08-ede64fb34ff9",
   "metadata": {},
   "outputs": [],
   "source": [
    "assert sys.version_info >= (3, 6), \"Python version too low.\""
   ]
  },
  {
   "cell_type": "code",
   "execution_count": null,
   "id": "a09f7703-5b6e-4907-ac8d-cc8652bdf881",
   "metadata": {},
   "outputs": [],
   "source": [
    "base_dir = \"../\" # parent of this directory\n",
    "output_path = os.path.join(base_dir, \"data/01f-sunrise.csv\")"
   ]
  },
  {
   "cell_type": "code",
   "execution_count": null,
   "id": "b440eb45-1cf7-46fb-91ea-db5d49c937c9",
   "metadata": {},
   "outputs": [],
   "source": [
    "regions = {\n",
    "    'QLD1': 'Brisbane',\n",
    "    'NSW1': 'Sydney',\n",
    "    'VIC1': 'Melbourne',\n",
    "    'SA1': 'Adelaide',\n",
    "    'TAS1': 'Hobart'\n",
    "}"
   ]
  },
  {
   "cell_type": "code",
   "execution_count": null,
   "id": "ab479fc6-ea47-4533-953b-b088c7bae274",
   "metadata": {},
   "outputs": [],
   "source": [
    "data = []\n",
    "\n",
    "for (region, city_name) in regions.items():\n",
    "    city_obj = lookup(city_name, database())\n",
    "    \n",
    "    d = dt.date(2009, 1, 1)\n",
    "    \n",
    "    while d.year < 2025:\n",
    "        s1 = sun(city_obj.observer, date=d, tzinfo=f'Australia/{city_name}')\n",
    "        s2 = sun(city_obj.observer, date=d, tzinfo='Australia/Brisbane')\n",
    "        data.append({\n",
    "            'city': city_name,\n",
    "            'region': region,\n",
    "            'd': d,\n",
    "            'sunrise_local': s1['sunrise'],\n",
    "            'sunset_local': s1['sunset'],\n",
    "            'sunrise_fixed': s2['sunrise'],\n",
    "            'sunset_fixed': s2['sunset'],\n",
    "        })\n",
    "        d = d + dt.timedelta(days=1)\n",
    "df = pd.DataFrame(data)\n",
    "df.head()"
   ]
  },
  {
   "cell_type": "code",
   "execution_count": null,
   "id": "095dca5e-abcd-4396-8f8f-bc16131f272f",
   "metadata": {},
   "outputs": [],
   "source": [
    "df.to_csv(output_path, index=False)"
   ]
  }
 ],
 "metadata": {
  "kernelspec": {
   "display_name": "Python 3 (ipykernel)",
   "language": "python",
   "name": "python3"
  },
  "language_info": {
   "codemirror_mode": {
    "name": "ipython",
    "version": 3
   },
   "file_extension": ".py",
   "mimetype": "text/x-python",
   "name": "python",
   "nbconvert_exporter": "python",
   "pygments_lexer": "ipython3",
   "version": "3.11.4"
  }
 },
 "nbformat": 4,
 "nbformat_minor": 5
}
