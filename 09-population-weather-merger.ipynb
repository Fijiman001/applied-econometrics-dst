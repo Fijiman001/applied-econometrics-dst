{
 "cells": [
  {
   "cell_type": "code",
   "execution_count": 1,
   "metadata": {},
   "outputs": [],
   "source": [
    "import pandas as pd"
   ]
  },
  {
   "cell_type": "code",
   "execution_count": 3,
   "metadata": {},
   "outputs": [],
   "source": [
    "\n",
    "\n",
    "# Load Data\n",
    "data_dir = 'C:/Users/David/Documents/VWL/Master Toulouse/Semester 2 M1/Applied  Metrics Project/Data'\n",
    "\n",
    "weather = pd.read_csv(f'{data_dir}/07-weather-merged.csv')\n",
    "population = pd.read_csv(f'{data_dir}/08-population-australia-merged.csv')\n",
    "\n",
    "# Rename column in population dataframe\n",
    "population = population.rename(columns={\"State\": \"regionid\"})\n",
    "\n",
    "# Merge data frames\n",
    "merged_df = pd.merge(population, weather, on=[\"regionid\", \"Date\"], how='outer')\n",
    "\n",
    "weather.head()\n",
    "population.head()\n",
    "\n",
    "# Sort values\n",
    "merged_df = merged_df.sort_values(by=[\"regionid\", \"Date\"])\n",
    "\n",
    "# Forward fill missing values in Population column within each group\n",
    "merged_df['Population'] = merged_df.groupby('regionid')['Population'].ffill()"
   ]
  },
  {
   "cell_type": "code",
   "execution_count": null,
   "metadata": {},
   "outputs": [],
   "source": [
    "#Save to csv\n",
    "merged_df.to_csv(f'{data_dir}/09-temp-pop-merged.csv', index = False)\n",
    "print(\"merged and saved to csv\")"
   ]
  }
 ],
 "metadata": {
  "kernelspec": {
   "display_name": "base",
   "language": "python",
   "name": "python3"
  },
  "language_info": {
   "codemirror_mode": {
    "name": "ipython",
    "version": 3
   },
   "file_extension": ".py",
   "mimetype": "text/x-python",
   "name": "python",
   "nbconvert_exporter": "python",
   "pygments_lexer": "ipython3",
   "version": "3.8.18"
  }
 },
 "nbformat": 4,
 "nbformat_minor": 2
}
