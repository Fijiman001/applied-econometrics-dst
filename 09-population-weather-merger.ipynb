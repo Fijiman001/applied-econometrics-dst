{
 "cells": [
  {
   "cell_type": "code",
   "execution_count": 1,
   "metadata": {},
   "outputs": [],
   "source": [
    "import pandas as pd"
   ]
  },
  {
   "cell_type": "code",
   "execution_count": 8,
   "metadata": {},
   "outputs": [
    {
     "data": {
      "text/html": [
       "<div>\n",
       "<style scoped>\n",
       "    .dataframe tbody tr th:only-of-type {\n",
       "        vertical-align: middle;\n",
       "    }\n",
       "\n",
       "    .dataframe tbody tr th {\n",
       "        vertical-align: top;\n",
       "    }\n",
       "\n",
       "    .dataframe thead th {\n",
       "        text-align: right;\n",
       "    }\n",
       "</style>\n",
       "<table border=\"1\" class=\"dataframe\">\n",
       "  <thead>\n",
       "    <tr style=\"text-align: right;\">\n",
       "      <th></th>\n",
       "      <th>Date</th>\n",
       "      <th>regionid</th>\n",
       "      <th>population</th>\n",
       "      <th>temperature</th>\n",
       "      <th>solar_exposure_x</th>\n",
       "      <th>solar_exposure_y</th>\n",
       "    </tr>\n",
       "  </thead>\n",
       "  <tbody>\n",
       "    <tr>\n",
       "      <th>0</th>\n",
       "      <td>2008-12-01</td>\n",
       "      <td>NSW1</td>\n",
       "      <td>7352883.0</td>\n",
       "      <td>NaN</td>\n",
       "      <td>NaN</td>\n",
       "      <td>NaN</td>\n",
       "    </tr>\n",
       "    <tr>\n",
       "      <th>22059</th>\n",
       "      <td>2009-01-01</td>\n",
       "      <td>NSW1</td>\n",
       "      <td>7353431.0</td>\n",
       "      <td>35.0</td>\n",
       "      <td>35.0</td>\n",
       "      <td>8.0</td>\n",
       "    </tr>\n",
       "    <tr>\n",
       "      <th>22060</th>\n",
       "      <td>2009-01-02</td>\n",
       "      <td>NSW1</td>\n",
       "      <td>7353979.0</td>\n",
       "      <td>23.0</td>\n",
       "      <td>23.0</td>\n",
       "      <td>10.0</td>\n",
       "    </tr>\n",
       "    <tr>\n",
       "      <th>22061</th>\n",
       "      <td>2009-01-03</td>\n",
       "      <td>NSW1</td>\n",
       "      <td>7354528.0</td>\n",
       "      <td>23.0</td>\n",
       "      <td>23.0</td>\n",
       "      <td>9.0</td>\n",
       "    </tr>\n",
       "    <tr>\n",
       "      <th>22062</th>\n",
       "      <td>2009-01-04</td>\n",
       "      <td>NSW1</td>\n",
       "      <td>7355076.0</td>\n",
       "      <td>27.0</td>\n",
       "      <td>27.0</td>\n",
       "      <td>9.0</td>\n",
       "    </tr>\n",
       "  </tbody>\n",
       "</table>\n",
       "</div>"
      ],
      "text/plain": [
       "             Date regionid  population  temperature  solar_exposure_x  \\\n",
       "0      2008-12-01     NSW1   7352883.0          NaN               NaN   \n",
       "22059  2009-01-01     NSW1   7353431.0         35.0              35.0   \n",
       "22060  2009-01-02     NSW1   7353979.0         23.0              23.0   \n",
       "22061  2009-01-03     NSW1   7354528.0         23.0              23.0   \n",
       "22062  2009-01-04     NSW1   7355076.0         27.0              27.0   \n",
       "\n",
       "       solar_exposure_y  \n",
       "0                   NaN  \n",
       "22059               8.0  \n",
       "22060              10.0  \n",
       "22061               9.0  \n",
       "22062               9.0  "
      ]
     },
     "execution_count": 8,
     "metadata": {},
     "output_type": "execute_result"
    }
   ],
   "source": [
    "# Load Data\n",
    "data_dir = 'C:/Users/David/Documents/VWL/Master Toulouse/Semester 2 M1/Applied  Metrics Project/Data'\n",
    "\n",
    "weather = pd.read_csv(f'{data_dir}/07-weather-merged.csv')\n",
    "population = pd.read_csv(f'{data_dir}/08-population-australia-merged.csv')\n",
    "sunshine = pd.read_csv(f'{data_dir}/07-a-sunshine-merged.csv')\n",
    "\n",
    "# Rename column in population dataframe\n",
    "population = population.rename(columns={\"State\": \"regionid\"})\n",
    "\n",
    "# Merge data frames\n",
    "merged_df = pd.merge(population, weather, on=[\"regionid\", \"Date\"], how='outer')\n",
    "merged_df = pd.merge(merged_df, sunshine, on=[\"regionid\", \"Date\"], how='outer') \n",
    "\n",
    "# Sort values\n",
    "merged_df = merged_df.sort_values(by=[\"regionid\", \"Date\"])\n",
    "\n",
    "# Forward fill missing values in Population column within each group\n",
    "merged_df['population'] = merged_df.groupby('regionid')['population'].transform(lambda group: group.interpolate(method='linear'))\n",
    "\n",
    "#Drop Dates before 2009 and after 2023\n",
    "merged_df = merged_df.drop(merged_df[(merged_df['Date'] <= '2008-12-31') & (merged_df['Date'] >= '2024-01-01')].index).round()\n",
    "merged_df.head()"
   ]
  },
  {
   "cell_type": "code",
   "execution_count": 9,
   "metadata": {},
   "outputs": [
    {
     "name": "stdout",
     "output_type": "stream",
     "text": [
      "merged and saved to csv\n"
     ]
    }
   ],
   "source": [
    "#Save to csv\n",
    "merged_df.to_csv(f'{data_dir}/09-temp-pop-merged.csv', index = False)\n",
    "print(\"merged and saved to csv\")"
   ]
  }
 ],
 "metadata": {
  "kernelspec": {
   "display_name": "Python 3 (ipykernel)",
   "language": "python",
   "name": "python3"
  },
  "language_info": {
   "codemirror_mode": {
    "name": "ipython",
    "version": 3
   },
   "file_extension": ".py",
   "mimetype": "text/x-python",
   "name": "python",
   "nbconvert_exporter": "python",
   "pygments_lexer": "ipython3",
   "version": "3.8.18"
  }
 },
 "nbformat": 4,
 "nbformat_minor": 4
}
