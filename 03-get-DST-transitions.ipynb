{
 "cells": [
  {
   "cell_type": "code",
   "execution_count": null,
   "id": "3ceeff06-d47d-46fc-979e-a3e5e138654c",
   "metadata": {},
   "outputs": [],
   "source": [
    "from datetime import datetime, timedelta\n",
    "import pytz\n",
    "import pandas as pd"
   ]
  },
  {
   "cell_type": "code",
   "execution_count": null,
   "id": "8b7720af-03c1-4f23-8b88-56302e60cc96",
   "metadata": {},
   "outputs": [],
   "source": [
    "def get_dst_transitions(timezone_name):\n",
    "    tz = pytz.timezone(timezone_name)\n",
    "    transitions = []\n",
    "\n",
    "    # Get the daylight saving time transitions for the next 10 years\n",
    "    for year in range(datetime.now().year, datetime.now().year - 10):\n",
    "        dst_changes = list(tz._utc_transition_times(year))\n",
    "        transitions.extend(dst_changes)\n",
    "\n",
    "    return transitions\n",
    "\n",
    "# first arg is REGIONID in AEMO data\n",
    "# second arg is the time zone\n",
    "regions = [\n",
    "    ('NSW1', 'Australia/Sydney'),\n",
    "    ('VIC1', 'Australia/Melbourne'),\n",
    "    ('TAS1', 'Australia/Hobart'),\n",
    "    ('SA1', 'Australia/Adelaide'),\n",
    "]\n",
    "\n",
    "data = []\n",
    "for (regionid, tz_name) in regions:\n",
    "    tz = pytz.timezone(tz_name)\n",
    "    assert len(tz._utc_transition_times) == len(tz._transition_info)\n",
    "    for (t1, (delta, t2, tz_acronym)) in zip(tz._utc_transition_times, tz._transition_info):\n",
    "        data.append((regionid, t1, t2, delta, tz_acronym))\n",
    "\n",
    "pd.DataFrame(data).tail()"
   ]
  },
  {
   "cell_type": "code",
   "execution_count": null,
   "id": "eb631fea-2f0f-46ef-a7a7-312f45a32ed6",
   "metadata": {},
   "outputs": [],
   "source": []
  }
 ],
 "metadata": {
  "kernelspec": {
   "display_name": "Python 3 (ipykernel)",
   "language": "python",
   "name": "python3"
  },
  "language_info": {
   "codemirror_mode": {
    "name": "ipython",
    "version": 3
   },
   "file_extension": ".py",
   "mimetype": "text/x-python",
   "name": "python",
   "nbconvert_exporter": "python",
   "pygments_lexer": "ipython3",
   "version": "3.11.4"
  }
 },
 "nbformat": 4,
 "nbformat_minor": 5
}
