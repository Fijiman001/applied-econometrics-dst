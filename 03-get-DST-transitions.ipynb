{
 "cells": [
  {
   "cell_type": "markdown",
   "id": "c83cfadb-099e-4082-85f6-9f62e864c26c",
   "metadata": {},
   "source": [
    "# Generate list of DST transitions dates\n",
    "\n",
    "We need to obtain a list of when daylight savings transitions happened.\n",
    "\n",
    "Python is able to convert from timezones with DST to ones without. (e.g. `Australia/Sydney` to `Australia/Brisbane`.) Therefore the python datetime library must contain the raw data about when timezone changes happen.\n",
    "\n",
    "This script grabs that data, and writes it into a convenient form.\n",
    "\n",
    "We do this instead of downloading from an official site such as [this](https://www.nsw.gov.au/about-nsw/daylight-saving), because the official site has one page per year. It would be a pain to go through each one. We'd probably make a mistake doing so. \n",
    "\n",
    "Note that over the last decade or two, all of the regions with DST move their clock (\"transition\")  on the same day. \n",
    "They all shift forward/back by the same amount (1 hour).\n",
    "Although SA is permenantly half an hour off from VIC, NSW, TAS.\n",
    "(So they actually move their clocks back/forward half an hour before the others. For now we're just looking at dates and not caring about that. Since in practice people physically change their clocks just after dinnertime. If anything, people may go to be earlier/later a few hours before a DST transition. So the exact 2am transition time is not really relevant for us.)\n",
    "\n",
    "Note that the dates are saved to CSV as `yyyy-mm-dd`. I have verified manually that R `read_csv` interprets this correctly."
   ]
  },
  {
   "cell_type": "code",
   "execution_count": 1,
   "id": "8c31cf19-cb1f-406e-8f91-ddf18ab058d6",
   "metadata": {
    "collapsed": true,
    "jupyter": {
     "outputs_hidden": true
    }
   },
   "outputs": [
    {
     "name": "stdout",
     "output_type": "stream",
     "text": [
      "Requirement already satisfied: beautifulsoup4 in ./venv/lib/python3.11/site-packages (from -r requirements.txt (line 1)) (4.12.3)\n",
      "Requirement already satisfied: requests in ./venv/lib/python3.11/site-packages (from -r requirements.txt (line 2)) (2.31.0)\n",
      "Requirement already satisfied: jupyterlab in ./venv/lib/python3.11/site-packages (from -r requirements.txt (line 3)) (4.1.2)\n",
      "Requirement already satisfied: ipywidgets in ./venv/lib/python3.11/site-packages (from -r requirements.txt (line 4)) (8.1.2)\n",
      "Requirement already satisfied: pandas in ./venv/lib/python3.11/site-packages (from -r requirements.txt (line 5)) (2.2.1)\n",
      "Requirement already satisfied: openpyxl in ./venv/lib/python3.11/site-packages (from -r requirements.txt (line 6)) (3.1.2)\n",
      "Requirement already satisfied: pyarrow in ./venv/lib/python3.11/site-packages (from -r requirements.txt (line 7)) (15.0.0)\n",
      "Requirement already satisfied: tqdm in ./venv/lib/python3.11/site-packages (from -r requirements.txt (line 8)) (4.66.2)\n",
      "Requirement already satisfied: polars in ./venv/lib/python3.11/site-packages (from -r requirements.txt (line 9)) (0.20.10)\n",
      "Requirement already satisfied: astral in ./venv/lib/python3.11/site-packages (from -r requirements.txt (line 10)) (3.2)\n",
      "Requirement already satisfied: soupsieve>1.2 in ./venv/lib/python3.11/site-packages (from beautifulsoup4->-r requirements.txt (line 1)) (2.5)\n",
      "Requirement already satisfied: charset-normalizer<4,>=2 in ./venv/lib/python3.11/site-packages (from requests->-r requirements.txt (line 2)) (3.3.2)\n",
      "Requirement already satisfied: idna<4,>=2.5 in ./venv/lib/python3.11/site-packages (from requests->-r requirements.txt (line 2)) (3.6)\n",
      "Requirement already satisfied: urllib3<3,>=1.21.1 in ./venv/lib/python3.11/site-packages (from requests->-r requirements.txt (line 2)) (2.2.1)\n",
      "Requirement already satisfied: certifi>=2017.4.17 in ./venv/lib/python3.11/site-packages (from requests->-r requirements.txt (line 2)) (2024.2.2)\n",
      "Requirement already satisfied: async-lru>=1.0.0 in ./venv/lib/python3.11/site-packages (from jupyterlab->-r requirements.txt (line 3)) (2.0.4)\n",
      "Requirement already satisfied: httpx>=0.25.0 in ./venv/lib/python3.11/site-packages (from jupyterlab->-r requirements.txt (line 3)) (0.27.0)\n",
      "Requirement already satisfied: ipykernel in ./venv/lib/python3.11/site-packages (from jupyterlab->-r requirements.txt (line 3)) (6.29.2)\n",
      "Requirement already satisfied: jinja2>=3.0.3 in ./venv/lib/python3.11/site-packages (from jupyterlab->-r requirements.txt (line 3)) (3.1.3)\n",
      "Requirement already satisfied: jupyter-core in ./venv/lib/python3.11/site-packages (from jupyterlab->-r requirements.txt (line 3)) (5.7.1)\n",
      "Requirement already satisfied: jupyter-lsp>=2.0.0 in ./venv/lib/python3.11/site-packages (from jupyterlab->-r requirements.txt (line 3)) (2.2.2)\n",
      "Requirement already satisfied: jupyter-server<3,>=2.4.0 in ./venv/lib/python3.11/site-packages (from jupyterlab->-r requirements.txt (line 3)) (2.12.5)\n",
      "Requirement already satisfied: jupyterlab-server<3,>=2.19.0 in ./venv/lib/python3.11/site-packages (from jupyterlab->-r requirements.txt (line 3)) (2.25.3)\n",
      "Requirement already satisfied: notebook-shim>=0.2 in ./venv/lib/python3.11/site-packages (from jupyterlab->-r requirements.txt (line 3)) (0.2.4)\n",
      "Requirement already satisfied: packaging in ./venv/lib/python3.11/site-packages (from jupyterlab->-r requirements.txt (line 3)) (23.2)\n",
      "Requirement already satisfied: tornado>=6.2.0 in ./venv/lib/python3.11/site-packages (from jupyterlab->-r requirements.txt (line 3)) (6.4)\n",
      "Requirement already satisfied: traitlets in ./venv/lib/python3.11/site-packages (from jupyterlab->-r requirements.txt (line 3)) (5.14.1)\n",
      "Requirement already satisfied: comm>=0.1.3 in ./venv/lib/python3.11/site-packages (from ipywidgets->-r requirements.txt (line 4)) (0.2.1)\n",
      "Requirement already satisfied: ipython>=6.1.0 in ./venv/lib/python3.11/site-packages (from ipywidgets->-r requirements.txt (line 4)) (8.22.1)\n",
      "Requirement already satisfied: widgetsnbextension~=4.0.10 in ./venv/lib/python3.11/site-packages (from ipywidgets->-r requirements.txt (line 4)) (4.0.10)\n",
      "Requirement already satisfied: jupyterlab-widgets~=3.0.10 in ./venv/lib/python3.11/site-packages (from ipywidgets->-r requirements.txt (line 4)) (3.0.10)\n",
      "Requirement already satisfied: numpy<2,>=1.23.2 in ./venv/lib/python3.11/site-packages (from pandas->-r requirements.txt (line 5)) (1.26.4)\n",
      "Requirement already satisfied: python-dateutil>=2.8.2 in ./venv/lib/python3.11/site-packages (from pandas->-r requirements.txt (line 5)) (2.8.2)\n",
      "Requirement already satisfied: pytz>=2020.1 in ./venv/lib/python3.11/site-packages (from pandas->-r requirements.txt (line 5)) (2024.1)\n",
      "Requirement already satisfied: tzdata>=2022.7 in ./venv/lib/python3.11/site-packages (from pandas->-r requirements.txt (line 5)) (2024.1)\n",
      "Requirement already satisfied: et-xmlfile in ./venv/lib/python3.11/site-packages (from openpyxl->-r requirements.txt (line 6)) (1.1.0)\n",
      "Requirement already satisfied: anyio in ./venv/lib/python3.11/site-packages (from httpx>=0.25.0->jupyterlab->-r requirements.txt (line 3)) (4.3.0)\n",
      "Requirement already satisfied: httpcore==1.* in ./venv/lib/python3.11/site-packages (from httpx>=0.25.0->jupyterlab->-r requirements.txt (line 3)) (1.0.4)\n",
      "Requirement already satisfied: sniffio in ./venv/lib/python3.11/site-packages (from httpx>=0.25.0->jupyterlab->-r requirements.txt (line 3)) (1.3.0)\n",
      "Requirement already satisfied: h11<0.15,>=0.13 in ./venv/lib/python3.11/site-packages (from httpcore==1.*->httpx>=0.25.0->jupyterlab->-r requirements.txt (line 3)) (0.14.0)\n",
      "Requirement already satisfied: decorator in ./venv/lib/python3.11/site-packages (from ipython>=6.1.0->ipywidgets->-r requirements.txt (line 4)) (5.1.1)\n",
      "Requirement already satisfied: jedi>=0.16 in ./venv/lib/python3.11/site-packages (from ipython>=6.1.0->ipywidgets->-r requirements.txt (line 4)) (0.19.1)\n",
      "Requirement already satisfied: matplotlib-inline in ./venv/lib/python3.11/site-packages (from ipython>=6.1.0->ipywidgets->-r requirements.txt (line 4)) (0.1.6)\n",
      "Requirement already satisfied: prompt-toolkit<3.1.0,>=3.0.41 in ./venv/lib/python3.11/site-packages (from ipython>=6.1.0->ipywidgets->-r requirements.txt (line 4)) (3.0.43)\n",
      "Requirement already satisfied: pygments>=2.4.0 in ./venv/lib/python3.11/site-packages (from ipython>=6.1.0->ipywidgets->-r requirements.txt (line 4)) (2.17.2)\n",
      "Requirement already satisfied: stack-data in ./venv/lib/python3.11/site-packages (from ipython>=6.1.0->ipywidgets->-r requirements.txt (line 4)) (0.6.3)\n",
      "Requirement already satisfied: pexpect>4.3 in ./venv/lib/python3.11/site-packages (from ipython>=6.1.0->ipywidgets->-r requirements.txt (line 4)) (4.9.0)\n",
      "Requirement already satisfied: MarkupSafe>=2.0 in ./venv/lib/python3.11/site-packages (from jinja2>=3.0.3->jupyterlab->-r requirements.txt (line 3)) (2.1.5)\n",
      "Requirement already satisfied: argon2-cffi in ./venv/lib/python3.11/site-packages (from jupyter-server<3,>=2.4.0->jupyterlab->-r requirements.txt (line 3)) (23.1.0)\n",
      "Requirement already satisfied: jupyter-client>=7.4.4 in ./venv/lib/python3.11/site-packages (from jupyter-server<3,>=2.4.0->jupyterlab->-r requirements.txt (line 3)) (8.6.0)\n",
      "Requirement already satisfied: jupyter-events>=0.9.0 in ./venv/lib/python3.11/site-packages (from jupyter-server<3,>=2.4.0->jupyterlab->-r requirements.txt (line 3)) (0.9.0)\n",
      "Requirement already satisfied: jupyter-server-terminals in ./venv/lib/python3.11/site-packages (from jupyter-server<3,>=2.4.0->jupyterlab->-r requirements.txt (line 3)) (0.5.2)\n",
      "Requirement already satisfied: nbconvert>=6.4.4 in ./venv/lib/python3.11/site-packages (from jupyter-server<3,>=2.4.0->jupyterlab->-r requirements.txt (line 3)) (7.16.1)\n",
      "Requirement already satisfied: nbformat>=5.3.0 in ./venv/lib/python3.11/site-packages (from jupyter-server<3,>=2.4.0->jupyterlab->-r requirements.txt (line 3)) (5.9.2)\n",
      "Requirement already satisfied: overrides in ./venv/lib/python3.11/site-packages (from jupyter-server<3,>=2.4.0->jupyterlab->-r requirements.txt (line 3)) (7.7.0)\n",
      "Requirement already satisfied: prometheus-client in ./venv/lib/python3.11/site-packages (from jupyter-server<3,>=2.4.0->jupyterlab->-r requirements.txt (line 3)) (0.20.0)\n",
      "Requirement already satisfied: pyzmq>=24 in ./venv/lib/python3.11/site-packages (from jupyter-server<3,>=2.4.0->jupyterlab->-r requirements.txt (line 3)) (25.1.2)\n",
      "Requirement already satisfied: send2trash>=1.8.2 in ./venv/lib/python3.11/site-packages (from jupyter-server<3,>=2.4.0->jupyterlab->-r requirements.txt (line 3)) (1.8.2)\n",
      "Requirement already satisfied: terminado>=0.8.3 in ./venv/lib/python3.11/site-packages (from jupyter-server<3,>=2.4.0->jupyterlab->-r requirements.txt (line 3)) (0.18.0)\n",
      "Requirement already satisfied: websocket-client in ./venv/lib/python3.11/site-packages (from jupyter-server<3,>=2.4.0->jupyterlab->-r requirements.txt (line 3)) (1.7.0)\n",
      "Requirement already satisfied: platformdirs>=2.5 in ./venv/lib/python3.11/site-packages (from jupyter-core->jupyterlab->-r requirements.txt (line 3)) (4.2.0)\n",
      "Requirement already satisfied: babel>=2.10 in ./venv/lib/python3.11/site-packages (from jupyterlab-server<3,>=2.19.0->jupyterlab->-r requirements.txt (line 3)) (2.14.0)\n",
      "Requirement already satisfied: json5>=0.9.0 in ./venv/lib/python3.11/site-packages (from jupyterlab-server<3,>=2.19.0->jupyterlab->-r requirements.txt (line 3)) (0.9.17)\n",
      "Requirement already satisfied: jsonschema>=4.18.0 in ./venv/lib/python3.11/site-packages (from jupyterlab-server<3,>=2.19.0->jupyterlab->-r requirements.txt (line 3)) (4.21.1)\n",
      "Requirement already satisfied: six>=1.5 in ./venv/lib/python3.11/site-packages (from python-dateutil>=2.8.2->pandas->-r requirements.txt (line 5)) (1.16.0)\n",
      "Requirement already satisfied: debugpy>=1.6.5 in ./venv/lib/python3.11/site-packages (from ipykernel->jupyterlab->-r requirements.txt (line 3)) (1.8.1)\n",
      "Requirement already satisfied: nest-asyncio in ./venv/lib/python3.11/site-packages (from ipykernel->jupyterlab->-r requirements.txt (line 3)) (1.6.0)\n",
      "Requirement already satisfied: psutil in ./venv/lib/python3.11/site-packages (from ipykernel->jupyterlab->-r requirements.txt (line 3)) (5.9.8)\n",
      "Requirement already satisfied: parso<0.9.0,>=0.8.3 in ./venv/lib/python3.11/site-packages (from jedi>=0.16->ipython>=6.1.0->ipywidgets->-r requirements.txt (line 4)) (0.8.3)\n",
      "Requirement already satisfied: attrs>=22.2.0 in ./venv/lib/python3.11/site-packages (from jsonschema>=4.18.0->jupyterlab-server<3,>=2.19.0->jupyterlab->-r requirements.txt (line 3)) (23.2.0)\n",
      "Requirement already satisfied: jsonschema-specifications>=2023.03.6 in ./venv/lib/python3.11/site-packages (from jsonschema>=4.18.0->jupyterlab-server<3,>=2.19.0->jupyterlab->-r requirements.txt (line 3)) (2023.12.1)\n",
      "Requirement already satisfied: referencing>=0.28.4 in ./venv/lib/python3.11/site-packages (from jsonschema>=4.18.0->jupyterlab-server<3,>=2.19.0->jupyterlab->-r requirements.txt (line 3)) (0.33.0)\n",
      "Requirement already satisfied: rpds-py>=0.7.1 in ./venv/lib/python3.11/site-packages (from jsonschema>=4.18.0->jupyterlab-server<3,>=2.19.0->jupyterlab->-r requirements.txt (line 3)) (0.18.0)\n",
      "Requirement already satisfied: python-json-logger>=2.0.4 in ./venv/lib/python3.11/site-packages (from jupyter-events>=0.9.0->jupyter-server<3,>=2.4.0->jupyterlab->-r requirements.txt (line 3)) (2.0.7)\n",
      "Requirement already satisfied: pyyaml>=5.3 in ./venv/lib/python3.11/site-packages (from jupyter-events>=0.9.0->jupyter-server<3,>=2.4.0->jupyterlab->-r requirements.txt (line 3)) (6.0.1)\n",
      "Requirement already satisfied: rfc3339-validator in ./venv/lib/python3.11/site-packages (from jupyter-events>=0.9.0->jupyter-server<3,>=2.4.0->jupyterlab->-r requirements.txt (line 3)) (0.1.4)\n",
      "Requirement already satisfied: rfc3986-validator>=0.1.1 in ./venv/lib/python3.11/site-packages (from jupyter-events>=0.9.0->jupyter-server<3,>=2.4.0->jupyterlab->-r requirements.txt (line 3)) (0.1.1)\n",
      "Requirement already satisfied: bleach!=5.0.0 in ./venv/lib/python3.11/site-packages (from nbconvert>=6.4.4->jupyter-server<3,>=2.4.0->jupyterlab->-r requirements.txt (line 3)) (6.1.0)\n",
      "Requirement already satisfied: defusedxml in ./venv/lib/python3.11/site-packages (from nbconvert>=6.4.4->jupyter-server<3,>=2.4.0->jupyterlab->-r requirements.txt (line 3)) (0.7.1)\n",
      "Requirement already satisfied: jupyterlab-pygments in ./venv/lib/python3.11/site-packages (from nbconvert>=6.4.4->jupyter-server<3,>=2.4.0->jupyterlab->-r requirements.txt (line 3)) (0.3.0)\n",
      "Requirement already satisfied: mistune<4,>=2.0.3 in ./venv/lib/python3.11/site-packages (from nbconvert>=6.4.4->jupyter-server<3,>=2.4.0->jupyterlab->-r requirements.txt (line 3)) (3.0.2)\n",
      "Requirement already satisfied: nbclient>=0.5.0 in ./venv/lib/python3.11/site-packages (from nbconvert>=6.4.4->jupyter-server<3,>=2.4.0->jupyterlab->-r requirements.txt (line 3)) (0.9.0)\n",
      "Requirement already satisfied: pandocfilters>=1.4.1 in ./venv/lib/python3.11/site-packages (from nbconvert>=6.4.4->jupyter-server<3,>=2.4.0->jupyterlab->-r requirements.txt (line 3)) (1.5.1)\n",
      "Requirement already satisfied: tinycss2 in ./venv/lib/python3.11/site-packages (from nbconvert>=6.4.4->jupyter-server<3,>=2.4.0->jupyterlab->-r requirements.txt (line 3)) (1.2.1)\n",
      "Requirement already satisfied: fastjsonschema in ./venv/lib/python3.11/site-packages (from nbformat>=5.3.0->jupyter-server<3,>=2.4.0->jupyterlab->-r requirements.txt (line 3)) (2.19.1)\n",
      "Requirement already satisfied: ptyprocess>=0.5 in ./venv/lib/python3.11/site-packages (from pexpect>4.3->ipython>=6.1.0->ipywidgets->-r requirements.txt (line 4)) (0.7.0)\n",
      "Requirement already satisfied: wcwidth in ./venv/lib/python3.11/site-packages (from prompt-toolkit<3.1.0,>=3.0.41->ipython>=6.1.0->ipywidgets->-r requirements.txt (line 4)) (0.2.13)\n",
      "Requirement already satisfied: argon2-cffi-bindings in ./venv/lib/python3.11/site-packages (from argon2-cffi->jupyter-server<3,>=2.4.0->jupyterlab->-r requirements.txt (line 3)) (21.2.0)\n",
      "Requirement already satisfied: executing>=1.2.0 in ./venv/lib/python3.11/site-packages (from stack-data->ipython>=6.1.0->ipywidgets->-r requirements.txt (line 4)) (2.0.1)\n",
      "Requirement already satisfied: asttokens>=2.1.0 in ./venv/lib/python3.11/site-packages (from stack-data->ipython>=6.1.0->ipywidgets->-r requirements.txt (line 4)) (2.4.1)\n",
      "Requirement already satisfied: pure-eval in ./venv/lib/python3.11/site-packages (from stack-data->ipython>=6.1.0->ipywidgets->-r requirements.txt (line 4)) (0.2.2)\n",
      "Requirement already satisfied: webencodings in ./venv/lib/python3.11/site-packages (from bleach!=5.0.0->nbconvert>=6.4.4->jupyter-server<3,>=2.4.0->jupyterlab->-r requirements.txt (line 3)) (0.5.1)\n",
      "Requirement already satisfied: fqdn in ./venv/lib/python3.11/site-packages (from jsonschema>=4.18.0->jupyterlab-server<3,>=2.19.0->jupyterlab->-r requirements.txt (line 3)) (1.5.1)\n",
      "Requirement already satisfied: isoduration in ./venv/lib/python3.11/site-packages (from jsonschema>=4.18.0->jupyterlab-server<3,>=2.19.0->jupyterlab->-r requirements.txt (line 3)) (20.11.0)\n",
      "Requirement already satisfied: jsonpointer>1.13 in ./venv/lib/python3.11/site-packages (from jsonschema>=4.18.0->jupyterlab-server<3,>=2.19.0->jupyterlab->-r requirements.txt (line 3)) (2.4)\n",
      "Requirement already satisfied: uri-template in ./venv/lib/python3.11/site-packages (from jsonschema>=4.18.0->jupyterlab-server<3,>=2.19.0->jupyterlab->-r requirements.txt (line 3)) (1.3.0)\n",
      "Requirement already satisfied: webcolors>=1.11 in ./venv/lib/python3.11/site-packages (from jsonschema>=4.18.0->jupyterlab-server<3,>=2.19.0->jupyterlab->-r requirements.txt (line 3)) (1.13)\n",
      "Requirement already satisfied: cffi>=1.0.1 in ./venv/lib/python3.11/site-packages (from argon2-cffi-bindings->argon2-cffi->jupyter-server<3,>=2.4.0->jupyterlab->-r requirements.txt (line 3)) (1.16.0)\n",
      "Requirement already satisfied: pycparser in ./venv/lib/python3.11/site-packages (from cffi>=1.0.1->argon2-cffi-bindings->argon2-cffi->jupyter-server<3,>=2.4.0->jupyterlab->-r requirements.txt (line 3)) (2.21)\n",
      "Requirement already satisfied: arrow>=0.15.0 in ./venv/lib/python3.11/site-packages (from isoduration->jsonschema>=4.18.0->jupyterlab-server<3,>=2.19.0->jupyterlab->-r requirements.txt (line 3)) (1.3.0)\n",
      "Requirement already satisfied: types-python-dateutil>=2.8.10 in ./venv/lib/python3.11/site-packages (from arrow>=0.15.0->isoduration->jsonschema>=4.18.0->jupyterlab-server<3,>=2.19.0->jupyterlab->-r requirements.txt (line 3)) (2.8.19.20240106)\n",
      "Note: you may need to restart the kernel to use updated packages.\n"
     ]
    }
   ],
   "source": [
    "%pip install -r requirements.txt"
   ]
  },
  {
   "cell_type": "code",
   "execution_count": 2,
   "id": "3ceeff06-d47d-46fc-979e-a3e5e138654c",
   "metadata": {},
   "outputs": [],
   "source": [
    "import datetime as dt\n",
    "import os\n",
    "import sys\n",
    "\n",
    "import pytz\n",
    "import pandas as pd"
   ]
  },
  {
   "cell_type": "code",
   "execution_count": 3,
   "id": "95f8f343-5dd3-44e2-b3b9-3209f9e9fbc3",
   "metadata": {},
   "outputs": [],
   "source": [
    "assert sys.version_info >= (3, 6), \"Python version too low.\""
   ]
  },
  {
   "cell_type": "code",
   "execution_count": 4,
   "id": "c87e923d-ea69-4469-bb48-ab7d80e6f3ef",
   "metadata": {},
   "outputs": [],
   "source": [
    "base_data_dir = 'data'\n",
    "output_path = os.path.join(base_data_dir, '02-dst-dates.csv')"
   ]
  },
  {
   "cell_type": "code",
   "execution_count": 5,
   "id": "9e98d194-df48-467a-9ab5-9afdef70f73e",
   "metadata": {},
   "outputs": [],
   "source": [
    "# AEMO data is in \"market time\", which is Brisbane time (no DST), UTC+10.\n",
    "MARKET_TIME_OFFSET = 10 "
   ]
  },
  {
   "cell_type": "code",
   "execution_count": 6,
   "id": "8b7720af-03c1-4f23-8b88-56302e60cc96",
   "metadata": {},
   "outputs": [],
   "source": [
    "data = []\n",
    "tz = pytz.timezone('Australia/Sydney')\n",
    "assert len(tz._utc_transition_times) == len(tz._transition_info)\n",
    "for (transition_utc, (delta, t2, tz_acronym)) in zip(tz._utc_transition_times, tz._transition_info):\n",
    "    if (dt.datetime(year=2000, month=1, day=1) < transition_utc) and (transition_utc < dt.datetime.now() + dt.timedelta(days=365)):\n",
    "        data.append({\n",
    "            'date': transition_utc.astimezone(tz).date(), \n",
    "            'direction': 'start' if (t2 > dt.timedelta(0)) else 'stop',\n",
    "        })\n",
    "\n",
    "df = pd.DataFrame(data)"
   ]
  },
  {
   "cell_type": "code",
   "execution_count": 7,
   "id": "c7ecb84e-39fa-4582-bc71-fcba2c1f7907",
   "metadata": {},
   "outputs": [],
   "source": [
    "# do a unit test\n",
    "# to make sure we're not off by 1\n",
    "# https://www.nsw.gov.au/about-nsw/daylight-saving\n",
    "# \"Daylight saving begins at 2am, Eastern Standard Time on Sunday 1 October 2023.\"\n",
    "expected_date = dt.date(2023, 10, 1)\n",
    "expected_direction = 'start'\n",
    "\n",
    "assert df[(df['date'] == expected_date) & (df['direction'] == expected_direction)].shape[0] == 1"
   ]
  },
  {
   "cell_type": "code",
   "execution_count": 8,
   "id": "532cbf43-e229-4764-8614-0591183ad31b",
   "metadata": {},
   "outputs": [],
   "source": [
    "df.to_csv(output_path, index=False)"
   ]
  }
 ],
 "metadata": {
  "kernelspec": {
   "display_name": "Python 3 (ipykernel)",
   "language": "python",
   "name": "python3"
  },
  "language_info": {
   "codemirror_mode": {
    "name": "ipython",
    "version": 3
   },
   "file_extension": ".py",
   "mimetype": "text/x-python",
   "name": "python",
   "nbconvert_exporter": "python",
   "pygments_lexer": "ipython3",
   "version": "3.11.4"
  }
 },
 "nbformat": 4,
 "nbformat_minor": 5
}
