{
 "cells": [
  {
   "cell_type": "markdown",
   "id": "76391a6a-d05f-45ef-9d67-cf9bcd19526f",
   "metadata": {},
   "source": [
    "# Generate Sunlight data\n",
    "\n",
    "This script generates data about how many hours of sun there are per day, per region.\n",
    "\n",
    "We use the `astral` library for this.\n",
    "\n",
    "For now, we're using the capital city of each region. We should come back and change this to the midpoint (by latitude) of each region. (Since most solar is not in capital cities.)\n",
    "\n",
    "This data does not account for cloud cover."
   ]
  },
  {
   "cell_type": "code",
   "execution_count": null,
   "id": "6d4c8db9-0583-4794-9e57-0a8c5fbedac7",
   "metadata": {},
   "outputs": [],
   "source": [
    "import datetime as dt\n",
    "import os\n",
    "\n",
    "from astral.sun import sun\n",
    "from astral.geocoder import database, lookup\n",
    "from astral import LocationInfo\n",
    "import pandas as pd\n",
    "import matplotlib.pyplot as plt\n",
    "import pandas as pd"
   ]
  },
  {
   "cell_type": "code",
   "execution_count": null,
   "id": "bc61218f-2222-40d6-bde1-af51dedb513b",
   "metadata": {},
   "outputs": [],
   "source": [
    "base_data_dir = '/home/matthew/data/'\n",
    "output_path = os.path.join(base_data_dir, '03-sun-hours.csv')"
   ]
  },
  {
   "cell_type": "code",
   "execution_count": null,
   "id": "c81fd378-8604-44c4-b170-c163d92be6d7",
   "metadata": {},
   "outputs": [],
   "source": [
    "SEC_PER_H = 60*60"
   ]
  },
  {
   "cell_type": "code",
   "execution_count": null,
   "id": "574c9517-5bf2-47f4-a5bf-de2123119424",
   "metadata": {},
   "outputs": [],
   "source": [
    "regions = {\n",
    "    'QLD1': 'Brisbane',\n",
    "    'NSW1': 'Sydney',\n",
    "    'VIC1': 'Melbourne',\n",
    "    'TAS1': 'Hobart',\n",
    "    'SA1': 'Adelaide'\n",
    "}\n",
    "regions = {r: lookup(c, database()) for (r,c) in regions.items()}\n",
    "regions"
   ]
  },
  {
   "cell_type": "code",
   "execution_count": null,
   "id": "ab479fc6-ea47-4533-953b-b088c7bae274",
   "metadata": {},
   "outputs": [],
   "source": [
    "data = []\n",
    "d = dt.date(2009, 1, 1)\n",
    "\n",
    "while d.year < 2025:\n",
    "    for (region, city) in regions.items():\n",
    "        s = sun(city.observer, date=d)\n",
    "        data.append({\n",
    "            'd': d,\n",
    "            'regionid': region,\n",
    "            'sun_hours': (s['sunrise'] - s['sunset']).total_seconds() / SEC_PER_H,\n",
    "        })\n",
    "    d = d + dt.timedelta(days=1)\n",
    "df = pd.DataFrame(data)\n",
    "df.head()"
   ]
  },
  {
   "cell_type": "code",
   "execution_count": null,
   "id": "2f15c3fc-50a7-4bb3-9a77-67cc79af9995",
   "metadata": {},
   "outputs": [],
   "source": [
    "df.to_csv(output_path, index=False)"
   ]
  },
  {
   "cell_type": "code",
   "execution_count": null,
   "id": "ad9678ab-8d92-43df-9fce-8cfd8920222a",
   "metadata": {},
   "outputs": [],
   "source": []
  }
 ],
 "metadata": {
  "kernelspec": {
   "display_name": "Python 3 (ipykernel)",
   "language": "python",
   "name": "python3"
  },
  "language_info": {
   "codemirror_mode": {
    "name": "ipython",
    "version": 3
   },
   "file_extension": ".py",
   "mimetype": "text/x-python",
   "name": "python",
   "nbconvert_exporter": "python",
   "pygments_lexer": "ipython3",
   "version": "3.11.4"
  }
 },
 "nbformat": 4,
 "nbformat_minor": 5
}
