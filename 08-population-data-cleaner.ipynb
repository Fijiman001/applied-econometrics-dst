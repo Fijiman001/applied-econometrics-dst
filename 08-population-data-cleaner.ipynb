{
 "cells": [
  {
   "cell_type": "code",
   "execution_count": 1,
   "metadata": {},
   "outputs": [],
   "source": [
    "import pandas as pd\n",
    "\n",
    "#Load data\n",
    "population_raw = pd.read_csv(r'C:\\Users\\David\\Documents\\VWL\\Master Toulouse\\Semester 2 M1\\Applied  Metrics Project\\Data\\population data\\population-australia-raw.csv')\n"
   ]
  },
  {
   "cell_type": "code",
   "execution_count": 2,
   "metadata": {},
   "outputs": [
    {
     "name": "stdout",
     "output_type": "stream",
     "text": [
      "        Date State Population\n",
      "0 2009-12-01  NSW1    7459363\n",
      "1 2010-03-01  NSW1    7488717\n",
      "2 2010-06-01  NSW1    7506058\n",
      "3 2010-09-01  NSW1    7525564\n",
      "4 2010-12-01  NSW1    7544724\n",
      "All data merged and saved to CSV\n"
     ]
    }
   ],
   "source": [
    "\n",
    "#First data cleaning\n",
    "population =pd.concat([population_raw.iloc[:,:1],population_raw.iloc[:,-9:]],axis = 1)\n",
    "population = population.drop(list(range(0, 10)))\n",
    "population.columns=[\"Date\", \"NSW1\", \"VIC1\", \"QLD1\", \"SA1\", \"WA1\", \"TAS1\", \"NT1\", \"ACT1\",\"AUS\"]\n",
    "\n",
    "#Include Australian Capital Territory in New South Wales\n",
    "population.iloc[:, 1:] = population.iloc[:, 1:].apply(pd.to_numeric)\n",
    "population['NSW1'] = population['NSW1'] + population['ACT1']\n",
    "population = population.drop(['ACT1','AUS', 'NT1', 'WA1' ], axis=1)\n",
    "\n",
    "#Transform dates to datetime format\n",
    "population['Date'] = pd.to_datetime(population['Date'], format='%b-%Y')\n",
    "population = population[population['Date'] >= '2009-01-01']\n",
    "\n",
    "#Pivote the dataframe to have one column per state\n",
    "population = population.melt(id_vars=['Date'], var_name='State', value_name='Population')\n",
    "print(population.head())\n",
    "\n",
    "#Save data to CSV\n",
    "population.to_csv(r'C:\\Users\\David\\Documents\\VWL\\Master Toulouse\\Semester 2 M1\\Applied  Metrics Project\\Data\\population-australia-merged.csv', index = False)\n",
    "print('All data merged and saved to CSV')"
   ]
  }
 ],
 "metadata": {
  "kernelspec": {
   "display_name": "base",
   "language": "python",
   "name": "python3"
  },
  "language_info": {
   "codemirror_mode": {
    "name": "ipython",
    "version": 3
   },
   "file_extension": ".py",
   "mimetype": "text/x-python",
   "name": "python",
   "nbconvert_exporter": "python",
   "pygments_lexer": "ipython3",
   "version": "3.8.18"
  }
 },
 "nbformat": 4,
 "nbformat_minor": 2
}
