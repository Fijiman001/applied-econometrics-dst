{
 "cells": [
  {
   "cell_type": "code",
   "execution_count": 1,
   "metadata": {},
   "outputs": [
    {
     "name": "stderr",
     "output_type": "stream",
     "text": [
      "c:\\Users\\David\\anaconda3\\lib\\site-packages\\pandas\\core\\computation\\expressions.py:20: UserWarning: Pandas requires version '2.7.3' or newer of 'numexpr' (version '2.7.1' currently installed).\n",
      "  from pandas.core.computation.check import NUMEXPR_INSTALLED\n"
     ]
    },
    {
     "name": "stdout",
     "output_type": "stream",
     "text": [
      "All data merged and saved to CSV\n"
     ]
    }
   ],
   "source": [
    "import pandas as pd\n",
    "\n",
    "#Load data\n",
    "population = pd.read_csv(r'C:\\Users\\David\\Documents\\VWL\\Master Toulouse\\Semester 2 M1\\Applied  Metrics Project\\Data\\population-australia.csv')\n",
    "\n",
    "#First data cleaning\n",
    "population =pd.concat([population.iloc[:,:1],population.iloc[:,-9:]],axis = 1)\n",
    "population = population.drop(list(range(0, 10)))\n",
    "population.columns=[\"Date\", \"NSW1\", \"VIC1\", \"QLD1\", \"SA1\", \"WA1\", \"TAS1\", \"NT1\", \"ACT1\",\"AUS\"]\n",
    "\n",
    "#Include Australian Capital Territory in New South Wales\n",
    "population.iloc[:, 1:] = population.iloc[:, 1:].apply(pd.to_numeric)\n",
    "population['NSW1'] = population['NSW1'] + population['ACT1']\n",
    "population = population.drop(['ACT1','AUS'], axis=1)\n",
    "\n",
    "#Transform dates to datetime format\n",
    "population['Date'] = pd.to_datetime(population['Date'], format='%b-%Y')\n",
    "population = population[population['Date'] >= '2010-01-01']\n",
    "\n",
    "#Pivote the dataframe to have one column per state\n",
    "population = population.melt(id_vars=['Date'], var_name='State', value_name='Population')\n",
    "\n",
    "#Save data to CSV\n",
    "population.to_csv(r'C:\\Users\\David\\Documents\\VWL\\Master Toulouse\\Semester 2 M1\\Applied  Metrics Project\\Data\\population-australia-merged.csv', index = False)\n",
    "print('All data merged and saved to CSV')"
   ]
  }
 ],
 "metadata": {
  "kernelspec": {
   "display_name": "base",
   "language": "python",
   "name": "python3"
  },
  "language_info": {
   "codemirror_mode": {
    "name": "ipython",
    "version": 3
   },
   "file_extension": ".py",
   "mimetype": "text/x-python",
   "name": "python",
   "nbconvert_exporter": "python",
   "pygments_lexer": "ipython3",
   "version": "3.8.5"
  }
 },
 "nbformat": 4,
 "nbformat_minor": 2
}
