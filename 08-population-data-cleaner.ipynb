{
 "cells": [
  {
   "cell_type": "code",
   "execution_count": null,
   "metadata": {},
   "outputs": [],
   "source": [
    "import pandas as pd"
   ]
  },
  {
   "cell_type": "code",
   "execution_count": null,
   "metadata": {},
   "outputs": [],
   "source": [
    "# Load Data\n",
    "#data_dir = 'C:/Users/David/Documents/VWL/Master Toulouse/Semester 2 M1/Applied  Metrics Project/Data'\n",
    "data_dir = '/home/matthew/data/'\n",
    "\n",
    "population_raw = pd.read_csv(f'{data_dir}/population data/population-australia-raw.csv')\n",
    "population_raw.head()"
   ]
  },
  {
   "cell_type": "code",
   "execution_count": null,
   "metadata": {},
   "outputs": [],
   "source": [
    "#First data cleaning\n",
    "population = pd.concat([population_raw.iloc[:,:1],population_raw.iloc[:,-9:]],axis = 1)\n",
    "population = population.drop(list(range(0, 10)))\n",
    "population.columns=[\"Date\", \"NSW1\", \"VIC1\", \"QLD1\", \"SA1\", \"WA1\", \"TAS1\", \"NT1\", \"ACT1\",\"AUS\"]\n",
    "\n",
    "#Include Australian Capital Territory in New South Wales\n",
    "population.iloc[:, 1:] = population.iloc[:, 1:].apply(pd.to_numeric)\n",
    "population['NSW1'] = population['NSW1'] + population['ACT1']\n",
    "population = population.drop(['ACT1','AUS', 'NT1', 'WA1' ], axis=1)\n",
    "\n",
    "#Transform dates to datetime format\n",
    "population['Date'] = pd.to_datetime(population['Date'], format='%b-%Y')\n",
    "population = population[population['Date'] >= '2008-12-01']\n",
    "\n",
    "#Pivote the dataframe to have one column per state\n",
    "population = population.melt(id_vars=['Date'], var_name='State', value_name='population')\n",
    "population.head()"
   ]
  },
  {
   "cell_type": "code",
   "execution_count": null,
   "metadata": {},
   "outputs": [],
   "source": [
    "#Save data to CSV\n",
    "population.to_csv(f'{data_dir}/08-population-australia-merged.csv', index = False)\n",
    "print('All data merged and saved to CSV')"
   ]
  },
  {
   "cell_type": "code",
   "execution_count": null,
   "metadata": {},
   "outputs": [],
   "source": []
  }
 ],
 "metadata": {
  "kernelspec": {
   "display_name": "Python 3 (ipykernel)",
   "language": "python",
   "name": "python3"
  },
  "language_info": {
   "codemirror_mode": {
    "name": "ipython",
    "version": 3
   },
   "file_extension": ".py",
   "mimetype": "text/x-python",
   "name": "python",
   "nbconvert_exporter": "python",
   "pygments_lexer": "ipython3",
   "version": "3.11.4"
  }
 },
 "nbformat": 4,
 "nbformat_minor": 4
}
