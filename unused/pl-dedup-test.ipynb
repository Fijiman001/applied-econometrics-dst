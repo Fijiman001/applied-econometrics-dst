{
 "cells": [
  {
   "cell_type": "code",
   "execution_count": 3,
   "id": "e8c3e2e9-e9a7-4154-bc83-f359e09f24fd",
   "metadata": {},
   "outputs": [],
   "source": [
    "import json\n",
    "import os\n",
    "from time import time\n",
    "import urllib.parse\n",
    "\n",
    "import polars as pl\n",
    "from tqdm import tqdm"
   ]
  },
  {
   "cell_type": "code",
   "execution_count": 4,
   "id": "dc8813f9-c32f-43fa-bca7-fbfe71961661",
   "metadata": {},
   "outputs": [],
   "source": [
    "source_path = '/home/matthew/data/01-F-parquet-duplicated/P5MIN_UNITSOLUTION.parquet'\n",
    "dest_path = '/home/matthew/data/01-G-parquet-deduplicated/P5MIN_UNITSOLUTION.parquet'\n",
    "dest_path_gb = '/home/matthew/data/01-G-parquet-deduplicated/P5MIN_UNITSOLUTION-gb.parquet'\n",
    "schema_path = '/home/matthew/Documents/TSE/AppliedEconometrics/repo/data/schemas.json'"
   ]
  },
  {
   "cell_type": "code",
   "execution_count": 5,
   "id": "44d0e043-ba7f-41ff-9066-5f70a91a42bf",
   "metadata": {},
   "outputs": [],
   "source": [
    "with open(schema_path, 'r') as f:\n",
    "    schemas = json.load(f)"
   ]
  },
  {
   "cell_type": "code",
   "execution_count": 6,
   "id": "c3964873-4706-427f-9913-5a83e53a0c7d",
   "metadata": {},
   "outputs": [],
   "source": [
    "schema = schemas['P5MIN_UNITSOLUTION']\n",
    "sort_keys = ['SCHEMA_VERSION', 'LASTCHANGED', 'TOP_TIMESTAMP']\n",
    "primary_keys = [\"DUID\", \"INTERVAL_DATETIME\", \"RUN_DATETIME\"]"
   ]
  },
  {
   "cell_type": "code",
   "execution_count": 7,
   "id": "a76fdfd5-bdc5-43c8-928a-4c9640eee467",
   "metadata": {},
   "outputs": [],
   "source": [
    "# on Linux and Mac this makes this python process lower priority\n",
    "# so when it's running and using up all your CPU, your interface won't lag.\n",
    "# So you can keep browsing the web, typing documents etc\n",
    "try:\n",
    "    os.nice(20)\n",
    "except OSError: # ignore error, this is probably on Windows\n",
    "    pass"
   ]
  },
  {
   "cell_type": "code",
   "execution_count": 5,
   "id": "76cc4049-9539-459f-886f-add339bf7383",
   "metadata": {},
   "outputs": [],
   "source": [
    "# # doesn't work\n",
    "# q = (\n",
    "#     pl.scan_parquet(source_path, low_memory=True).\n",
    "#     with_columns(\n",
    "#         pl.struct(*sort_keys)\n",
    "#         .rank(\"dense\", descending=True)\n",
    "#         .over(*primary_keys)\n",
    "#         .alias(\"Rank\")\n",
    "#     )\n",
    "#     .filter(pl.struct(*primary_keys).is_duplicated())\n",
    "#     .select(pl.exclude(\"SCHEMA_VERSION\", \"TOP_TIMESTAMP\"))\n",
    "#     .sink_parquet(dest_path)\n",
    "# )\n",
    "# print(q)"
   ]
  },
  {
   "cell_type": "code",
   "execution_count": null,
   "id": "3047c413-33a7-4289-a259-36e79a25f2bf",
   "metadata": {},
   "outputs": [],
   "source": [
    "t1 = time()\n",
    "(\n",
    "    pl.scan_parquet(source_path, low_memory=True)\n",
    "    .sort(sort_keys, descending=True)\n",
    "    .unique(primary_keys)\n",
    "    .select(pl.exclude(\"SCHEMA_VERSION\", \"TOP_TIMESTAMP\"))\n",
    "    .sink_parquet(dest_path)\n",
    ")\n",
    "t2 = time()\n",
    "t_delta = t2 - t1\n",
    "print(t_delta)"
   ]
  },
  {
   "cell_type": "code",
   "execution_count": 6,
   "id": "6e165db8-7a2d-4065-895b-8248e02550e0",
   "metadata": {},
   "outputs": [
    {
     "ename": "NameError",
     "evalue": "name 't2' is not defined",
     "output_type": "error",
     "traceback": [
      "\u001b[0;31m---------------------------------------------------------------------------\u001b[0m",
      "\u001b[0;31mNameError\u001b[0m                                 Traceback (most recent call last)",
      "Cell \u001b[0;32mIn[6], line 11\u001b[0m\n\u001b[1;32m      2\u001b[0m (\n\u001b[1;32m      3\u001b[0m     pl\u001b[38;5;241m.\u001b[39mscan_parquet(source_path, low_memory\u001b[38;5;241m=\u001b[39m\u001b[38;5;28;01mTrue\u001b[39;00m)\n\u001b[1;32m      4\u001b[0m     \u001b[38;5;241m.\u001b[39msort(sort_keys, descending\u001b[38;5;241m=\u001b[39m\u001b[38;5;28;01mTrue\u001b[39;00m)\n\u001b[0;32m   (...)\u001b[0m\n\u001b[1;32m      8\u001b[0m     \u001b[38;5;241m.\u001b[39msink_parquet(dest_path_gb)\n\u001b[1;32m      9\u001b[0m )\n\u001b[1;32m     10\u001b[0m t4 \u001b[38;5;241m=\u001b[39m time()\n\u001b[0;32m---> 11\u001b[0m t_delta_b \u001b[38;5;241m=\u001b[39m t4 \u001b[38;5;241m-\u001b[39m \u001b[43mt2\u001b[49m\n\u001b[1;32m     12\u001b[0m \u001b[38;5;28mprint\u001b[39m(t_delta_b)\n",
      "\u001b[0;31mNameError\u001b[0m: name 't2' is not defined"
     ]
    }
   ],
   "source": [
    "t3 = time()\n",
    "(\n",
    "    pl.scan_parquet(source_path, low_memory=True)\n",
    "    .sort(sort_keys, descending=True)\n",
    "    .group_by(primary_keys)\n",
    "    .first()\n",
    "    .select(pl.exclude(\"SCHEMA_VERSION\", \"TOP_TIMESTAMP\"))\n",
    "    .sink_parquet(dest_path_gb)\n",
    ")\n",
    "t4 = time()\n",
    "t_delta_b = t4 - t3\n",
    "print(t_delta_b)"
   ]
  },
  {
   "cell_type": "code",
   "execution_count": null,
   "id": "2bcf6307-5fab-45ec-82c1-0b212b7d0e33",
   "metadata": {},
   "outputs": [],
   "source": [
    "paths = []\n",
    "parent = '/home/matthew/data/01-G-parquet-deduplicated/P5MIN_UNITSOLUTION/'\n",
    "for subdir in os.listdir(parent):\n",
    "    for sub_subdir in os.listdir(os.path.join(parent, subdir)):\n",
    "        paths.append(os.path.join(parent, subdir, sub_subdir))\n",
    "pl.scan_parquet(paths).sink_parquet('/home/matthew/data/01-G-parquet-deduplicated/P5MIN_UNITSOLUTION-recombined.parquet')\n"
   ]
  },
  {
   "cell_type": "code",
   "execution_count": 40,
   "id": "5026fd9f-4fea-4d6f-a455-5a58bbab2da9",
   "metadata": {},
   "outputs": [],
   "source": [
    "duids = ds.select('DUID').filter(pl.col(\"DUID\").is_first_distinct()).collect()['DUID']"
   ]
  },
  {
   "cell_type": "code",
   "execution_count": 41,
   "id": "a3959068-3b21-4039-b681-a3a5c752c6cf",
   "metadata": {},
   "outputs": [
    {
     "name": "stderr",
     "output_type": "stream",
     "text": [
      "100%|███████████████████████████████████████████████████████████████████████████████████████████████████████████████████████████████████████████████████████| 243/243 [45:58<00:00, 11.35s/it]\n"
     ]
    }
   ],
   "source": [
    "base_dir = '/home/matthew/data/01-G-parquet-deduplicated/P5MIN_UNITSOLUTION/'\n",
    "\n",
    "\n",
    "for duid in tqdm(duids):\n",
    "    dest_path = f'{base_dir}/DUID={urllib.parse.quote_plus(duid)}/data.parquet'\n",
    "    if not os.path.exists(os.path.dirname(dest_path)):\n",
    "        os.makedirs(os.path.dirname(dest_path))\n",
    "    ds.filter(\n",
    "        pl.col(\"DUID\").eq(duid),\n",
    "    ).select(pl.exclude(\"DUID\")).sink_parquet(dest_path)"
   ]
  },
  {
   "cell_type": "code",
   "execution_count": null,
   "id": "37e82db0-692d-47ce-a727-ca315c1383d0",
   "metadata": {},
   "outputs": [],
   "source": []
  }
 ],
 "metadata": {
  "kernelspec": {
   "display_name": "Python 3 (ipykernel)",
   "language": "python",
   "name": "python3"
  },
  "language_info": {
   "codemirror_mode": {
    "name": "ipython",
    "version": 3
   },
   "file_extension": ".py",
   "mimetype": "text/x-python",
   "name": "python",
   "nbconvert_exporter": "python",
   "pygments_lexer": "ipython3",
   "version": "3.11.4"
  }
 },
 "nbformat": 4,
 "nbformat_minor": 5
}
