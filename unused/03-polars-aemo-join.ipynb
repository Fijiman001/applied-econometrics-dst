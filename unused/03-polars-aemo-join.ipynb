{
 "cells": [
  {
   "cell_type": "code",
   "execution_count": 13,
   "id": "eb7cdded-8420-4d31-81f3-94c62afb6f58",
   "metadata": {},
   "outputs": [
    {
     "data": {
      "text/plain": [
       "<module 'utils' from '/home/matthew/Documents/TSE/AppliedEconometrics/repo/utils.py'>"
      ]
     },
     "execution_count": 13,
     "metadata": {},
     "output_type": "execute_result"
    }
   ],
   "source": [
    "import os\n",
    "import urllib.parse\n",
    "import importlib\n",
    "import re\n",
    "\n",
    "import polars as pl\n",
    "\n",
    "\n",
    "# utils is our local utility module\n",
    "# if we change utils.py, and re-run a normal 'import'\n",
    "# python won't reload it by default. (Since it's already loaded.)\n",
    "# So we force a reload\n",
    "import utils\n",
    "importlib.reload(utils)"
   ]
  },
  {
   "cell_type": "code",
   "execution_count": 2,
   "id": "921a178b-11f0-4647-aaaf-dcb12c4e09f1",
   "metadata": {},
   "outputs": [],
   "source": [
    "data_dir = \"/home/matthew/data/\"\n",
    "source_dir = f\"{data_dir}/01-D-parquet-pyarrow-dataset/\"\n",
    "intermediate_dir = f\"{data_dir}/03-A-polars-partitioned-duplicated/DISPATCHLOAD/\""
   ]
  },
  {
   "cell_type": "code",
   "execution_count": 91,
   "id": "b9003e7a-3649-4131-b285-083128d910d1",
   "metadata": {},
   "outputs": [
    {
     "data": {
      "text/html": [
       "<div><style>\n",
       ".dataframe > thead > tr,\n",
       ".dataframe > tbody > tr {\n",
       "  text-align: right;\n",
       "  white-space: pre-wrap;\n",
       "}\n",
       "</style>\n",
       "<small>shape: (0, 4)</small><table border=\"1\" class=\"dataframe\"><thead><tr><th>REGIONID</th><th>SETTLEMENTDATE</th><th>ENERGY_MWH</th><th>CO2_T</th></tr><tr><td>str</td><td>datetime[ms]</td><td>f64</td><td>f64</td></tr></thead><tbody></tbody></table></div>"
      ],
      "text/plain": [
       "shape: (0, 4)\n",
       "┌──────────┬────────────────┬────────────┬───────┐\n",
       "│ REGIONID ┆ SETTLEMENTDATE ┆ ENERGY_MWH ┆ CO2_T │\n",
       "│ ---      ┆ ---            ┆ ---        ┆ ---   │\n",
       "│ str      ┆ datetime[ms]   ┆ f64        ┆ f64   │\n",
       "╞══════════╪════════════════╪════════════╪═══════╡\n",
       "└──────────┴────────────────┴────────────┴───────┘"
      ]
     },
     "execution_count": 91,
     "metadata": {},
     "output_type": "execute_result"
    }
   ],
   "source": [
    "\n",
    "# get emissions data per genunit\n",
    "genunits_path = os.path.join(source_dir, 'GENUNITS', 'part-0.parquet')\n",
    "genset_emissions = (\n",
    "    pl.scan_parquet(genunits_path)\n",
    "    .filter(pl.col(\"GENSETTYPE\") == \"GENERATOR\")\n",
    "    .sort(\"LASTCHANGED\", descending=True)\n",
    "    .unique(subset=[\"GENSETID\"], keep='first')\n",
    "    .select(\"GENSETID\", \"CO2E_EMISSIONS_FACTOR\", \"MAXCAPACITY\")\n",
    ")\n",
    "\n",
    "dualloc_path = os.path.join(source_dir, 'DUALLOC', 'part-0.parquet')\n",
    "duid_gensetid = (\n",
    "    pl.scan_parquet(dualloc_path)\n",
    "    .select(\"DUID\", \"GENSETID\")\n",
    ")\n",
    "\n",
    "emissions_by_duid = (\n",
    "    duid_gensetid\n",
    "    .join(genset_emissions, left_on=\"GENSETID\", right_on=\"GENSETID\")\n",
    "    # now do a weighted average of CO2E_EMISSIONS_FACTOR\n",
    "    # group by DUID\n",
    "    # weight by MAXCAPACITY\n",
    "    .with_columns((pl.col(\"CO2E_EMISSIONS_FACTOR\") * pl.col(\"MAXCAPACITY\")).alias(\"SCALED_CO2\"))\n",
    "    .group_by(\"DUID\")\n",
    "    .sum()\n",
    "    .with_columns((pl.col(\"SCALED_CO2\") / pl.col(\"MAXCAPACITY\")).alias(\"CO2E_EMISSIONS_FACTOR\"))\n",
    "    .select(\"DUID\", \"CO2E_EMISSIONS_FACTOR\")\n",
    ")\n",
    "\n",
    "lfs = []\n",
    "for duid in ['BLOWERNG', 'BRAEMAR7']:\n",
    "    dudetailsummary_path = os.path.join(source_dir, 'DUDETAILSUMMARY', 'part-0.parquet')\n",
    "    region_duid = (\n",
    "        pl.scan_parquet(dudetailsummary_path)\n",
    "        .filter(pl.col(\"DUID\") == pl.lit(duid))\n",
    "        .filter(pl.col(\"REGIONID\") != \"SNOWY1\")\n",
    "        .sort(\"START_DATE\", descending=False)\n",
    "        .select(\"REGIONID\", \"DUID\")\n",
    "        .last()\n",
    "    )\n",
    "   \n",
    "    \n",
    "    dispatchload_path = os.path.join(intermediate_dir, \"DUID=\" + urllib.parse.quote(duid), 'part-0.parquet')\n",
    "\n",
    "    lf = (\n",
    "        pl.scan_parquet(dispatchload_path)\n",
    "        .with_columns(pl.lit(duid).alias(\"DUID\"))\n",
    "        .join(region_duid, left_on=\"DUID\", right_on=\"DUID\")\n",
    "        .join(emissions_by_duid, left_on=\"DUID\", right_on=\"DUID\")\n",
    "    )\n",
    "    lfs.append(lf)\n",
    "\n",
    "lf = pl.concat(lfs)\n",
    "\n",
    "# now group by region\n",
    "# sum across SETTLEMENTDATE\n",
    "lf = (\n",
    "    lf\n",
    "    .with_columns((pl.col(\"POWER\") / 12).alias(\"ENERGY_MWH\"))\n",
    "    .with_columns((pl.col(\"ENERGY_MWH\") * pl.col(\"CO2E_EMISSIONS_FACTOR\")).alias(\"CO2_T\"))\n",
    "    .group_by(\"REGIONID\", \"SETTLEMENTDATE\")\n",
    "    .sum()\n",
    "    .select(\"REGIONID\", \"SETTLEMENTDATE\", \"ENERGY_MWH\", \"CO2_T\")\n",
    ")\n",
    "\n",
    "lf.fetch()"
   ]
  },
  {
   "cell_type": "code",
   "execution_count": 76,
   "id": "0275056a-ddbe-4b40-950d-2008d86fa3d8",
   "metadata": {},
   "outputs": [
    {
     "data": {
      "text/html": [
       "<div><style>\n",
       ".dataframe > thead > tr,\n",
       ".dataframe > tbody > tr {\n",
       "  text-align: right;\n",
       "  white-space: pre-wrap;\n",
       "}\n",
       "</style>\n",
       "<small>shape: (0, 4)</small><table border=\"1\" class=\"dataframe\"><thead><tr><th>DUID</th><th>GENSETID</th><th>CO2E_EMISSIONS_FACTOR</th><th>MAXCAPACITY</th></tr><tr><td>str</td><td>str</td><td>f64</td><td>i32</td></tr></thead><tbody></tbody></table></div>"
      ],
      "text/plain": [
       "shape: (0, 4)\n",
       "┌──────┬──────────┬───────────────────────┬─────────────┐\n",
       "│ DUID ┆ GENSETID ┆ CO2E_EMISSIONS_FACTOR ┆ MAXCAPACITY │\n",
       "│ ---  ┆ ---      ┆ ---                   ┆ ---         │\n",
       "│ str  ┆ str      ┆ f64                   ┆ i32         │\n",
       "╞══════╪══════════╪═══════════════════════╪═════════════╡\n",
       "└──────┴──────────┴───────────────────────┴─────────────┘"
      ]
     },
     "execution_count": 76,
     "metadata": {},
     "output_type": "execute_result"
    }
   ],
   "source": [
    "(\n",
    "    duid_gensetid\n",
    "    .join(genset_emissions, left_on=\"GENSETID\", right_on=\"GENSETID\")\n",
    "    .filter(pl.col(\"GENSETID\").is_null())\n",
    "    .fetch()\n",
    ")"
   ]
  },
  {
   "cell_type": "code",
   "execution_count": 26,
   "id": "71f3dfa7-cdc3-41a1-b6f0-eab11dc2ccc4",
   "metadata": {},
   "outputs": [
    {
     "ename": "NameError",
     "evalue": "name 'duid_gensetid' is not defined",
     "output_type": "error",
     "traceback": [
      "\u001b[0;31m---------------------------------------------------------------------------\u001b[0m",
      "\u001b[0;31mNameError\u001b[0m                                 Traceback (most recent call last)",
      "Cell \u001b[0;32mIn[26], line 2\u001b[0m\n\u001b[1;32m      1\u001b[0m emissions_by_duid \u001b[38;5;241m=\u001b[39m (\n\u001b[0;32m----> 2\u001b[0m     \u001b[43mduid_gensetid\u001b[49m\n\u001b[1;32m      3\u001b[0m     \u001b[38;5;241m.\u001b[39mjoin(genset_emissions, left_on\u001b[38;5;241m=\u001b[39m\u001b[38;5;124m\"\u001b[39m\u001b[38;5;124mGENSETID\u001b[39m\u001b[38;5;124m\"\u001b[39m, right_on\u001b[38;5;241m=\u001b[39m\u001b[38;5;124m\"\u001b[39m\u001b[38;5;124mGENSETID\u001b[39m\u001b[38;5;124m\"\u001b[39m)\n\u001b[1;32m      4\u001b[0m     \u001b[38;5;66;03m# now do a weighted average of CO2E_EMISSIONS_FACTOR\u001b[39;00m\n\u001b[1;32m      5\u001b[0m     \u001b[38;5;66;03m# group by DUID\u001b[39;00m\n\u001b[1;32m      6\u001b[0m     \u001b[38;5;66;03m# weight by MAXCAPACITY\u001b[39;00m\n\u001b[1;32m      7\u001b[0m     \u001b[38;5;241m.\u001b[39mwith_columns((pl\u001b[38;5;241m.\u001b[39mcol(\u001b[38;5;124m\"\u001b[39m\u001b[38;5;124mCO2E_EMISSIONS_FACTOR\u001b[39m\u001b[38;5;124m\"\u001b[39m) \u001b[38;5;241m*\u001b[39m pl\u001b[38;5;241m.\u001b[39mcol(\u001b[38;5;124m\"\u001b[39m\u001b[38;5;124mMAXCAPACITY\u001b[39m\u001b[38;5;124m\"\u001b[39m))\u001b[38;5;241m.\u001b[39malias(\u001b[38;5;124m\"\u001b[39m\u001b[38;5;124mSCALED_CO2\u001b[39m\u001b[38;5;124m\"\u001b[39m))\n\u001b[1;32m      8\u001b[0m     \u001b[38;5;241m.\u001b[39mgroup_by(\u001b[38;5;124m\"\u001b[39m\u001b[38;5;124mDUID\u001b[39m\u001b[38;5;124m\"\u001b[39m)\n\u001b[1;32m      9\u001b[0m     \u001b[38;5;241m.\u001b[39msum()\n\u001b[1;32m     10\u001b[0m     \u001b[38;5;241m.\u001b[39mwith_columns((pl\u001b[38;5;241m.\u001b[39mcol(\u001b[38;5;124m\"\u001b[39m\u001b[38;5;124mSCALED_CO2\u001b[39m\u001b[38;5;124m\"\u001b[39m) \u001b[38;5;241m/\u001b[39m pl\u001b[38;5;241m.\u001b[39mcol(\u001b[38;5;124m\"\u001b[39m\u001b[38;5;124mMAXCAPACITY\u001b[39m\u001b[38;5;124m\"\u001b[39m))\u001b[38;5;241m.\u001b[39malias(\u001b[38;5;124m\"\u001b[39m\u001b[38;5;124mCO2E_EMISSIONS_FACTOR\u001b[39m\u001b[38;5;124m\"\u001b[39m))\n\u001b[1;32m     11\u001b[0m     \u001b[38;5;241m.\u001b[39mselect(\u001b[38;5;124m\"\u001b[39m\u001b[38;5;124mDUID\u001b[39m\u001b[38;5;124m\"\u001b[39m, \u001b[38;5;124m\"\u001b[39m\u001b[38;5;124mCO2E_EMISSIONS_FACTOR\u001b[39m\u001b[38;5;124m\"\u001b[39m)\n\u001b[1;32m     12\u001b[0m )\n\u001b[1;32m     13\u001b[0m emissions_by_duid\u001b[38;5;241m.\u001b[39mfetch()\n",
      "\u001b[0;31mNameError\u001b[0m: name 'duid_gensetid' is not defined"
     ]
    }
   ],
   "source": [
    "emissions_by_duid = (\n",
    "    duid_gensetid\n",
    "    .join(genset_emissions, left_on=\"GENSETID\", right_on=\"GENSETID\")\n",
    "    # now do a weighted average of CO2E_EMISSIONS_FACTOR\n",
    "    # group by DUID\n",
    "    # weight by MAXCAPACITY\n",
    "    .with_columns((pl.col(\"CO2E_EMISSIONS_FACTOR\") * pl.col(\"MAXCAPACITY\")).alias(\"SCALED_CO2\"))\n",
    "    .group_by(\"DUID\")\n",
    "    .sum()\n",
    "    .with_columns((pl.col(\"SCALED_CO2\") / pl.col(\"MAXCAPACITY\")).alias(\"CO2E_EMISSIONS_FACTOR\"))\n",
    "    .select(\"DUID\", \"CO2E_EMISSIONS_FACTOR\")\n",
    ")\n",
    "emissions_by_duid.fetch()"
   ]
  },
  {
   "cell_type": "code",
   "execution_count": 27,
   "id": "573cc670-c814-4539-b579-41a0a3cd38eb",
   "metadata": {},
   "outputs": [],
   "source": [
    "\n",
    "# get emissions data per genunit\n",
    "genunits_path = os.path.join(source_dir, 'GENUNITS', 'part-0.parquet')\n",
    "genset_emissions = (\n",
    "    pl.scan_parquet(genunits_path)\n",
    "    .filter(pl.col(\"GENSETTYPE\") == \"GENERATOR\")\n",
    "    .sort(\"LASTCHANGED\", descending=True)\n",
    "    .unique(subset=[\"GENSETID\"], keep='first')\n",
    "    .select(\"GENSETID\", \"CO2E_EMISSIONS_FACTOR\", \"MAXCAPACITY\")\n",
    ")\n",
    "\n",
    "dualloc_path = os.path.join(source_dir, 'DUALLOC', 'part-0.parquet')\n",
    "duid_gensetid = (\n",
    "    pl.scan_parquet(dualloc_path)\n",
    "    .select(\"DUID\", \"GENSETID\")\n",
    ")\n",
    "\n",
    "emissions_by_duid = (\n",
    "    duid_gensetid\n",
    "    .join(genset_emissions, left_on=\"GENSETID\", right_on=\"GENSETID\")\n",
    "    # now do a weighted average of CO2E_EMISSIONS_FACTOR\n",
    "    # group by DUID\n",
    "    # weight by MAXCAPACITY\n",
    "    .with_columns((pl.col(\"CO2E_EMISSIONS_FACTOR\") * pl.col(\"MAXCAPACITY\")).alias(\"SCALED_CO2\"))\n",
    "    .group_by(\"DUID\")\n",
    "    .sum()\n",
    "    .with_columns((pl.col(\"SCALED_CO2\") / pl.col(\"MAXCAPACITY\")).alias(\"CO2E_EMISSIONS_FACTOR\"))\n",
    "    .select(\"DUID\", \"CO2E_EMISSIONS_FACTOR\")\n",
    ")\n"
   ]
  },
  {
   "cell_type": "code",
   "execution_count": 34,
   "id": "5c54a31f-1257-409f-90ed-ac238eba0082",
   "metadata": {},
   "outputs": [
    {
     "data": {
      "text/html": [
       "<div><style>\n",
       ".dataframe > thead > tr,\n",
       ".dataframe > tbody > tr {\n",
       "  text-align: right;\n",
       "  white-space: pre-wrap;\n",
       "}\n",
       "</style>\n",
       "<small>shape: (25_500, 3)</small><table border=\"1\" class=\"dataframe\"><thead><tr><th>SETTLEMENTDATE</th><th>ENERGY_MWH</th><th>CO2_T</th></tr><tr><td>datetime[ms]</td><td>f64</td><td>f64</td></tr></thead><tbody><tr><td>2009-07-02 08:20:00</td><td>9.091105</td><td>6.550852</td></tr><tr><td>2009-07-01 08:50:00</td><td>9.2858025</td><td>7.375932</td></tr><tr><td>2009-07-02 01:15:00</td><td>3.744469</td><td>3.869341</td></tr><tr><td>2009-07-01 12:45:00</td><td>6.867803</td><td>4.50949</td></tr><tr><td>2009-07-02 00:30:00</td><td>4.218469</td><td>4.431249</td></tr><tr><td>2009-07-02 15:20:00</td><td>6.704333</td><td>7.404383</td></tr><tr><td>2009-07-02 07:30:00</td><td>9.448105</td><td>6.974061</td></tr><tr><td>2009-07-01 01:05:00</td><td>3.841708</td><td>4.029379</td></tr><tr><td>2009-07-02 13:45:00</td><td>8.345552</td><td>9.410181</td></tr><tr><td>2009-07-02 09:50:00</td><td>8.827105</td><td>6.237891</td></tr><tr><td>2009-07-02 13:00:00</td><td>11.014062</td><td>8.713131</td></tr><tr><td>2009-07-01 04:55:00</td><td>3.784708</td><td>3.961807</td></tr><tr><td>&hellip;</td><td>&hellip;</td><td>&hellip;</td></tr><tr><td>2023-01-01 05:15:00</td><td>0.0</td><td>0.0</td></tr><tr><td>2023-01-01 22:20:00</td><td>0.0</td><td>0.0</td></tr><tr><td>2023-01-02 03:50:00</td><td>0.0</td><td>0.0</td></tr><tr><td>2023-01-01 08:30:00</td><td>0.0</td><td>0.0</td></tr><tr><td>2023-01-01 01:40:00</td><td>0.0</td><td>0.0</td></tr><tr><td>2023-01-01 16:30:00</td><td>0.0</td><td>0.0</td></tr><tr><td>2023-01-02 02:10:00</td><td>0.0</td><td>0.0</td></tr><tr><td>2023-01-02 04:50:00</td><td>0.0</td><td>0.0</td></tr><tr><td>2023-01-01 14:00:00</td><td>0.0</td><td>0.0</td></tr><tr><td>2023-01-02 03:00:00</td><td>0.0</td><td>0.0</td></tr><tr><td>2023-01-01 06:25:00</td><td>0.0</td><td>0.0</td></tr><tr><td>2023-01-02 06:25:00</td><td>0.0</td><td>0.0</td></tr></tbody></table></div>"
      ],
      "text/plain": [
       "shape: (25_500, 3)\n",
       "┌─────────────────────┬────────────┬──────────┐\n",
       "│ SETTLEMENTDATE      ┆ ENERGY_MWH ┆ CO2_T    │\n",
       "│ ---                 ┆ ---        ┆ ---      │\n",
       "│ datetime[ms]        ┆ f64        ┆ f64      │\n",
       "╞═════════════════════╪════════════╪══════════╡\n",
       "│ 2009-07-02 08:20:00 ┆ 9.091105   ┆ 6.550852 │\n",
       "│ 2009-07-01 08:50:00 ┆ 9.2858025  ┆ 7.375932 │\n",
       "│ 2009-07-02 01:15:00 ┆ 3.744469   ┆ 3.869341 │\n",
       "│ 2009-07-01 12:45:00 ┆ 6.867803   ┆ 4.50949  │\n",
       "│ 2009-07-02 00:30:00 ┆ 4.218469   ┆ 4.431249 │\n",
       "│ …                   ┆ …          ┆ …        │\n",
       "│ 2023-01-02 04:50:00 ┆ 0.0        ┆ 0.0      │\n",
       "│ 2023-01-01 14:00:00 ┆ 0.0        ┆ 0.0      │\n",
       "│ 2023-01-02 03:00:00 ┆ 0.0        ┆ 0.0      │\n",
       "│ 2023-01-01 06:25:00 ┆ 0.0        ┆ 0.0      │\n",
       "│ 2023-01-02 06:25:00 ┆ 0.0        ┆ 0.0      │\n",
       "└─────────────────────┴────────────┴──────────┘"
      ]
     },
     "execution_count": 34,
     "metadata": {},
     "output_type": "execute_result"
    }
   ],
   "source": [
    "intermediate_dir = \"/home/matthew/data/03-A-polars-partitioned-by-region/DISPATCHLOAD\"\n",
    "duids = set()\n",
    "all_lfs = []\n",
    "for regionid in ['QLD1', 'NSW1', 'VIC1', 'SA1', 'TAS1']:\n",
    "    for year in range(2009, 2023+1):\n",
    "        for month in range(1, 12+1):\n",
    "            pq_src_dir = f\"{intermediate_dir}/REGIONID={regionid}/SETTLEMENTDATE_YEAR={year}/SETTLEMENTDATE_MONTH={month}/\"\n",
    "            monthly_lfs = []\n",
    "            for pq_src_path in utils.walk(pq_src_dir):\n",
    "                match = re.search(r\"DUID=([^/]+)\", pq_src_path)\n",
    "                assert match, f\"Can't find DUID from {pq_src_path}\"\n",
    "                duid = urllib.parse.unquote(match.group(1))\n",
    "                duids.add(duid)\n",
    "                monthly_lfs.append(\n",
    "                    pl.scan_parquet(pq_src_path)\n",
    "                    .with_columns(pl.lit(duid).alias(\"DUID\"))\n",
    "                )\n",
    "            if monthly_lfs:\n",
    "                monthly_lf = (\n",
    "                    pl.concat(monthly_lfs)\n",
    "                    .join(emissions_by_duid, left_on=\"DUID\", right_on=\"DUID\")\n",
    "                    .with_columns((pl.col(\"POWER\") / 12).alias(\"ENERGY_MWH\"))\n",
    "                    .with_columns((pl.col(\"CO2E_EMISSIONS_FACTOR\") * pl.col(\"ENERGY_MWH\")).alias(\"CO2_T\"))\n",
    "                    .group_by(\"SETTLEMENTDATE\")\n",
    "                    .sum()\n",
    "                    .select(\"SETTLEMENTDATE\", \"ENERGY_MWH\", \"CO2_T\")\n",
    "                )\n",
    "                all_lfs.append(monthly_lf)\n",
    "                #print(f\"Found {len(monthly_lfs)} files in {pq_src_dir}\")\n",
    "                break\n",
    "            #else:\n",
    "                #print(f\"Warning: no files found in {pq_src_dir}\")\n",
    "            \n",
    "pl.concat(all_lfs).fetch()"
   ]
  },
  {
   "cell_type": "code",
   "execution_count": 19,
   "id": "43728b2c-515a-488a-9e1c-1d0a3cd430f8",
   "metadata": {},
   "outputs": [
    {
     "data": {
      "text/plain": [
       "'a b'"
      ]
     },
     "execution_count": 19,
     "metadata": {},
     "output_type": "execute_result"
    }
   ],
   "source": [
    "urllib.parse.unquote(\"a%20b\")"
   ]
  },
  {
   "cell_type": "code",
   "execution_count": 10,
   "id": "6b69333d-1898-40ef-92ef-f503d7fe5838",
   "metadata": {},
   "outputs": [
    {
     "data": {
      "text/plain": [
       "'/home/matthew/data/03-A-polars-partitioned-by-region/DISPATCHLOAD'"
      ]
     },
     "execution_count": 10,
     "metadata": {},
     "output_type": "execute_result"
    }
   ],
   "source": [
    "intermediate_dir"
   ]
  },
  {
   "cell_type": "code",
   "execution_count": null,
   "id": "d9e83304-1e2b-4548-87e6-4f44fb107b15",
   "metadata": {},
   "outputs": [],
   "source": []
  }
 ],
 "metadata": {
  "kernelspec": {
   "display_name": "Python 3 (ipykernel)",
   "language": "python",
   "name": "python3"
  },
  "language_info": {
   "codemirror_mode": {
    "name": "ipython",
    "version": 3
   },
   "file_extension": ".py",
   "mimetype": "text/x-python",
   "name": "python",
   "nbconvert_exporter": "python",
   "pygments_lexer": "ipython3",
   "version": "3.11.4"
  }
 },
 "nbformat": 4,
 "nbformat_minor": 5
}
