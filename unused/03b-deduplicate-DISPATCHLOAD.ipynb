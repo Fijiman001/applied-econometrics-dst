{
 "cells": [
  {
   "cell_type": "markdown",
   "id": "433b56bd-68ce-4bfc-80ca-b44d171ce6d4",
   "metadata": {},
   "source": [
    "# Deduplicate DISPATCHLOAD"
   ]
  },
  {
   "cell_type": "code",
   "execution_count": 1,
   "id": "e462eca3-01bc-4a70-8694-386e1050c762",
   "metadata": {},
   "outputs": [
    {
     "data": {
      "text/plain": [
       "<module 'utils' from '/home/matthew/Documents/TSE/AppliedEconometrics/repo/utils.py'>"
      ]
     },
     "execution_count": 1,
     "metadata": {},
     "output_type": "execute_result"
    }
   ],
   "source": [
    "import os\n",
    "import json\n",
    "import importlib\n",
    "\n",
    "import polars as pl\n",
    "from tqdm import tqdm\n",
    "\n",
    "import pyarrow\n",
    "import pyarrow as pa\n",
    "import pyarrow.dataset as ds\n",
    "import pyarrow.csv\n",
    "\n",
    "# utils is our local utility module\n",
    "# if we change utils.py, and re-run a normal 'import'\n",
    "# python won't reload it by default. (Since it's already loaded.)\n",
    "# So we force a reload\n",
    "import utils\n",
    "importlib.reload(utils)"
   ]
  },
  {
   "cell_type": "markdown",
   "id": "026391c6-21d7-4263-a71e-91b0a8b9f0e5",
   "metadata": {},
   "source": [
    "## Constants"
   ]
  },
  {
   "cell_type": "code",
   "execution_count": 2,
   "id": "7479d67c-3266-4574-9975-8cbd27d9f95b",
   "metadata": {},
   "outputs": [],
   "source": [
    "repo_data_dir = '/home/matthew/Documents/TSE/AppliedEconometrics/repo/data/'\n",
    "laptop_data_dir = '/home/matthew/data/'\n",
    "\n",
    "# result of the previous script\n",
    "source_dir = os.path.join(laptop_data_dir, '01-D-parquet-pyarrow-dataset/DISPATCHLOAD')\n",
    "temp_dir = os.path.join(laptop_data_dir, '03-A-parquet-pyarrow-dataset-duplicated-partitioned/DISPATCHLOAD')\n",
    "dest_dir = os.path.join(laptop_data_dir, '03-B-parquet-pyarrow-dataset-deduplicated-partitioned/DISPATCHLOAD')\n",
    "\n",
    "schema_path = os.path.join(repo_data_dir, 'schemas.json')"
   ]
  },
  {
   "cell_type": "markdown",
   "id": "74aeef83-2e66-49e0-9563-25a8d2cae584",
   "metadata": {},
   "source": [
    "## Preparation"
   ]
  },
  {
   "cell_type": "code",
   "execution_count": 3,
   "id": "def2cbed-ca33-4ef2-a5d2-8f161683fc02",
   "metadata": {},
   "outputs": [],
   "source": [
    "logger = utils.Logger(os.path.join(repo_data_dir, 'logs.txt'), flush=True)\n",
    "logger.info(\"Initialising Logger\")"
   ]
  },
  {
   "cell_type": "code",
   "execution_count": 4,
   "id": "3547b4f4-e810-4be5-b6e5-c36e2ad6f9e8",
   "metadata": {},
   "outputs": [],
   "source": [
    "utils.renice()"
   ]
  },
  {
   "cell_type": "code",
   "execution_count": 5,
   "id": "88e72d11-7e25-43c9-af88-d3b0bddec121",
   "metadata": {},
   "outputs": [],
   "source": [
    "with open(schema_path, 'r') as f:\n",
    "    schemas = json.load(f)"
   ]
  },
  {
   "cell_type": "markdown",
   "id": "1655ecbb-eeaf-4cca-8506-ac9cfab8acdc",
   "metadata": {},
   "source": [
    "## Check size of each table"
   ]
  },
  {
   "cell_type": "code",
   "execution_count": 6,
   "id": "5d498f92-3b34-47e7-af7f-2001e01d9c9a",
   "metadata": {},
   "outputs": [],
   "source": [
    "utils.create_dir(dest_dir)\n",
    "utils.create_dir(temp_dir)"
   ]
  },
  {
   "cell_type": "code",
   "execution_count": 7,
   "id": "4ee0ef8d-8fa0-4296-ae91-d9340e1f485d",
   "metadata": {},
   "outputs": [
    {
     "ename": "SyntaxError",
     "evalue": "invalid syntax. Perhaps you forgot a comma? (4040206031.py, line 21)",
     "output_type": "error",
     "traceback": [
      "\u001b[0;36m  Cell \u001b[0;32mIn[7], line 21\u001b[0;36m\u001b[0m\n\u001b[0;31m    partitioning=ds.partitioning(\u001b[0m\n\u001b[0m                 ^\u001b[0m\n\u001b[0;31mSyntaxError\u001b[0m\u001b[0;31m:\u001b[0m invalid syntax. Perhaps you forgot a comma?\n"
     ]
    }
   ],
   "source": [
    "table = 'DISPATCHLOAD'\n",
    "schema = {c: aemo_type_to_arrow_type(t['AEMO_type'], date_as_str=False) for (c,t) in schemas[table]['columns'].items()}\n",
    "schema.update({\n",
    "    \"SCHEMA_VERSION\": pa.int8(), \n",
    "    \"TOP_TIMESTAMP\": pa.string(),\n",
    "})\n",
    "dataset = ds.dataset(\n",
    "    source=source_dir, \n",
    "    format=\"parquet\",\n",
    "    schema=pyarrow.schema(schema)\n",
    ")\n",
    "\n",
    "dest_partition_cols = ['DUID']\n",
    "\n",
    "shutil.rmtree(temp_dir, ignore_errors=True)\n",
    "ds.write_dataset(\n",
    "    data=dataset, \n",
    "    base_dir=temp_dir, \n",
    "    format=\"parquet\", \n",
    "    min_rows_per_group=512,\n",
    "    partitioning=ds.partitioning(\n",
    "        pa.schema({c:t for (c,t) in schema.items() if c in dest_partition_cols}),\n",
    "        flavor=\"hive\"\n",
    "    ),\n",
    "    existing_data_behavior=\"delete_matching\"\n",
    ")\n"
   ]
  }
 ],
 "metadata": {
  "kernelspec": {
   "display_name": "Python 3 (ipykernel)",
   "language": "python",
   "name": "python3"
  },
  "language_info": {
   "codemirror_mode": {
    "name": "ipython",
    "version": 3
   },
   "file_extension": ".py",
   "mimetype": "text/x-python",
   "name": "python",
   "nbconvert_exporter": "python",
   "pygments_lexer": "ipython3",
   "version": "3.11.4"
  }
 },
 "nbformat": 4,
 "nbformat_minor": 5
}
