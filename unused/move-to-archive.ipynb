{
 "cells": [
  {
   "cell_type": "code",
   "execution_count": 10,
   "id": "df5381de-f092-4dc3-9928-17ced82ef63b",
   "metadata": {},
   "outputs": [],
   "source": [
    "import os"
   ]
  },
  {
   "cell_type": "code",
   "execution_count": 11,
   "id": "11c152c4-404f-4def-9f1e-416b6d4ae176",
   "metadata": {},
   "outputs": [],
   "source": [
    "base_data_dir = '/media/matthew/Tux/AppliedEconometrics/data'\n",
    "url_file = os.path.join(base_data_dir, 'urls.txt')\n",
    "keep_dir = os.path.join(base_data_dir, '01-A-raw')\n",
    "archive_dir = os.path.join(base_data_dir, '01-A-raw-archive')"
   ]
  },
  {
   "cell_type": "code",
   "execution_count": 15,
   "id": "27946429-446a-4349-a300-bf5b06067c79",
   "metadata": {},
   "outputs": [],
   "source": [
    "# create raw folder if it doesn't exist\n",
    "if not os.path.exists(archive_dir):\n",
    "    os.makedirs(archive_dir)"
   ]
  },
  {
   "cell_type": "code",
   "execution_count": 16,
   "id": "9cb564d1-8bff-4a76-997e-6af312f82f17",
   "metadata": {},
   "outputs": [],
   "source": [
    "with open(url_file, 'r') as f:\n",
    "    files = set(u.strip().split('/')[-1] for u in f)"
   ]
  },
  {
   "cell_type": "code",
   "execution_count": 17,
   "id": "4d65d93c-11a2-4255-9b43-a15ef2a1aaf0",
   "metadata": {},
   "outputs": [],
   "source": [
    "for file in os.listdir(keep_dir):\n",
    "    if file not in files:\n",
    "        from_path = os.path.join(keep_dir, file)\n",
    "        to_path = os.path.join(archive_dir, file)\n",
    "        os.rename(from_path, to_path)"
   ]
  },
  {
   "cell_type": "code",
   "execution_count": null,
   "id": "b1371bde-419b-4806-b6e6-68753a0f45b2",
   "metadata": {},
   "outputs": [],
   "source": []
  }
 ],
 "metadata": {
  "kernelspec": {
   "display_name": "Python 3 (ipykernel)",
   "language": "python",
   "name": "python3"
  },
  "language_info": {
   "codemirror_mode": {
    "name": "ipython",
    "version": 3
   },
   "file_extension": ".py",
   "mimetype": "text/x-python",
   "name": "python",
   "nbconvert_exporter": "python",
   "pygments_lexer": "ipython3",
   "version": "3.11.4"
  }
 },
 "nbformat": 4,
 "nbformat_minor": 5
}
