{
 "cells": [
  {
   "cell_type": "code",
   "execution_count": 1,
   "id": "06513e69-2ddd-4dc4-b379-7376a2538f7a",
   "metadata": {},
   "outputs": [],
   "source": [
    "import os\n",
    "import urllib.parse\n",
    "\n",
    "import pyarrow as pa\n",
    "import pyarrow.parquet as pq\n",
    "import pyarrow.compute as pc\n",
    "import pyarrow.dataset\n",
    "import pandas as pd"
   ]
  },
  {
   "cell_type": "code",
   "execution_count": 2,
   "id": "d8ef8710-ae3f-4c27-89e6-5e4f8a4a9321",
   "metadata": {},
   "outputs": [],
   "source": [
    "data_dir = '/home/matthew/Documents/TSE/AppliedEconometrics/repo/data'\n",
    "source_path = os.path.join(data_dir, 'debug/DISPATCHLOAD.parquet')\n",
    "dest_dir = os.path.join(data_dir, 'debug/DISPATCHLOAD-pq-3/')\n",
    "\n",
    "\n",
    "partition_keys = ['DUID']"
   ]
  },
  {
   "cell_type": "code",
   "execution_count": 28,
   "id": "1ab149e4-a946-4f17-8011-f2bda9dea79c",
   "metadata": {},
   "outputs": [
    {
     "name": "stdout",
     "output_type": "stream",
     "text": [
      "New path is /home/matthew/Documents/TSE/AppliedEconometrics/repo/data/debug/DISPATCHLOAD-pq-3/DUID=AGLHALspace+slash%2F/data.parquet\n",
      "New path is /home/matthew/Documents/TSE/AppliedEconometrics/repo/data/debug/DISPATCHLOAD-pq-3/DUID=AGLSOMspace+slash%2F/data.parquet\n",
      "New path is /home/matthew/Documents/TSE/AppliedEconometrics/repo/data/debug/DISPATCHLOAD-pq-3/DUID=ANGAST1space+slash%2F/data.parquet\n",
      "New path is /home/matthew/Documents/TSE/AppliedEconometrics/repo/data/debug/DISPATCHLOAD-pq-3/DUID=APD01space+slash%2F/data.parquet\n",
      "New path is /home/matthew/Documents/TSE/AppliedEconometrics/repo/data/debug/DISPATCHLOAD-pq-3/DUID=ARWF1space+slash%2F/data.parquet\n",
      "New path is /home/matthew/Documents/TSE/AppliedEconometrics/repo/data/debug/DISPATCHLOAD-pq-3/DUID=ASNAES1space+slash%2F/data.parquet\n",
      "New path is /home/matthew/Documents/TSE/AppliedEconometrics/repo/data/debug/DISPATCHLOAD-pq-3/DUID=ASNENC1space+slash%2F/data.parquet\n",
      "New path is /home/matthew/Documents/TSE/AppliedEconometrics/repo/data/debug/DISPATCHLOAD-pq-3/DUID=ASQENC1space+slash%2F/data.parquet\n",
      "New path is /home/matthew/Documents/TSE/AppliedEconometrics/repo/data/debug/DISPATCHLOAD-pq-3/DUID=ASSEL1space+slash%2F/data.parquet\n",
      "New path is /home/matthew/Documents/TSE/AppliedEconometrics/repo/data/debug/DISPATCHLOAD-pq-3/DUID=ASSENC1space+slash%2F/data.parquet\n"
     ]
    }
   ],
   "source": [
    "\n",
    "parquet_writers = {}\n",
    "\n",
    "\n",
    "with pq.ParquetFile(source_path) as f_in:\n",
    "    for batch in f_in.iter_batches(use_threads = False, batch_size=10):\n",
    "        table = pa.Table.from_batches([batch])\n",
    "        duids = table.column('DUID')\n",
    "        for duid in duids:\n",
    "            expr = pc.field(\"DUID\") <= duid\n",
    "            filtered_table = table.filter(expr).drop('DUID')\n",
    "            if str(duid) not in parquet_writers:\n",
    "                encoded_duid = urllib.parse.quote_plus(str(duid) + 'space slash/')\n",
    "                \n",
    "                dest_subdir = os.path.join(dest_dir, f\"DUID={encoded_duid}\")\n",
    "                dest_path = os.path.join(dest_subdir, 'data.parquet')\n",
    "                print(f\"New path is {dest_path}\")\n",
    "                if not os.path.exists(dest_subdir):\n",
    "                    os.makedirs(dest_subdir)\n",
    "                schema = batch.schema\n",
    "                i = schema.get_field_index('DUID')\n",
    "                dest_schema = schema.remove(i)\n",
    "                assert dest_schema is not None\n",
    "                assert isinstance(dest_schema, pa.Schema)\n",
    "                parquet_writers[str(duid)] = pq.ParquetWriter(dest_path, dest_schema)\n",
    "            parquet_writers[str(duid)].write(filtered_table)\n",
    "        break\n",
    "\n",
    "for (duid, writer) in parquet_writers.items():\n",
    "    writer.close()\n",
    "        \n",
    "        # \n",
    "        # grouped_table = table.group_by(partition_keys)\n",
    "        # for group_key, group_table in grouped_table:\n",
    "        #     # Accessing the values of the group key (columns 'a' and 'b')\n",
    "        #     a_value, b_value = group_key['a'], group_key['b']\n",
    "        #     print(f\"{a_value=} {b_value=} {type(group_table)}\")"
   ]
  },
  {
   "cell_type": "code",
   "execution_count": 30,
   "id": "d10f7b32-42c5-425b-925a-821f9342cef3",
   "metadata": {},
   "outputs": [
    {
     "data": {
      "text/plain": [
       "array(['AGLHAL', 'AGLHALspace slash\\\\', 'AGLHALspace slash',\n",
       "       'AGLHALspace+slash/', 'AGLSOM', 'AGLSOMspace slash\\\\',\n",
       "       'AGLSOMspace slash', 'AGLSOMspace+slash/', 'ANGAST1',\n",
       "       'ANGAST1space slash\\\\', 'ANGAST1space slash',\n",
       "       'ANGAST1space+slash/', 'APD01', 'APD01space slash\\\\',\n",
       "       'APD01space slash', 'APD01space+slash/', 'ARWF1',\n",
       "       'ARWF1space slash\\\\', 'ARWF1space slash', 'ARWF1space+slash/',\n",
       "       'ASNAES1', 'ASNAES1space slash\\\\', 'ASNAES1space slash',\n",
       "       'ASNAES1space+slash/', 'ASNENC1', 'ASNENC1space slash\\\\',\n",
       "       'ASNENC1space slash', 'ASNENC1space+slash/', 'ASQENC1',\n",
       "       'ASQENC1space slash\\\\', 'ASQENC1space slash',\n",
       "       'ASQENC1space+slash/', 'ASSEL1', 'ASSEL1space slash\\\\',\n",
       "       'ASSEL1space slash', 'ASSEL1space+slash/', 'ASSENC1',\n",
       "       'ASSENC1space slash\\\\', 'ASSENC1space slash',\n",
       "       'ASSENC1space+slash/'], dtype=object)"
      ]
     },
     "execution_count": 30,
     "metadata": {},
     "output_type": "execute_result"
    }
   ],
   "source": [
    "ds = pyarrow.dataset.dataset(dest_dir, partitioning=pyarrow.dataset.HivePartitioning.discover())\n",
    "ds.to_table().to_pandas()['DUID'].unique()"
   ]
  },
  {
   "cell_type": "code",
   "execution_count": 21,
   "id": "54f8e864-820a-4bde-89ef-d498d3bfc3d0",
   "metadata": {},
   "outputs": [
    {
     "data": {
      "text/plain": [
       "'/home/matthew/Documents/TSE/AppliedEconometrics/repo/data/debug/DISPATCHLOAD-pq-3/'"
      ]
     },
     "execution_count": 21,
     "metadata": {},
     "output_type": "execute_result"
    }
   ],
   "source": [
    "dest_dir"
   ]
  },
  {
   "cell_type": "code",
   "execution_count": 17,
   "id": "2bb39415-79b6-4209-8326-b6f5692843bd",
   "metadata": {},
   "outputs": [
    {
     "data": {
      "text/plain": [
       "'/home/matthew/Documents/TSE/AppliedEconometrics/repo/data/debug/DISPATCHLOAD-pq-3/'"
      ]
     },
     "execution_count": 17,
     "metadata": {},
     "output_type": "execute_result"
    }
   ],
   "source": [
    "dest_dir"
   ]
  },
  {
   "cell_type": "code",
   "execution_count": null,
   "id": "2c95004a-b23f-467f-a6f1-d68681e5f67c",
   "metadata": {},
   "outputs": [],
   "source": []
  }
 ],
 "metadata": {
  "kernelspec": {
   "display_name": "Python 3 (ipykernel)",
   "language": "python",
   "name": "python3"
  },
  "language_info": {
   "codemirror_mode": {
    "name": "ipython",
    "version": 3
   },
   "file_extension": ".py",
   "mimetype": "text/x-python",
   "name": "python",
   "nbconvert_exporter": "python",
   "pygments_lexer": "ipython3",
   "version": "3.11.4"
  }
 },
 "nbformat": 4,
 "nbformat_minor": 5
}
